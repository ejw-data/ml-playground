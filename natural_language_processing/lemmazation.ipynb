{
 "cells": [
  {
   "cell_type": "code",
   "execution_count": null,
   "metadata": {},
   "outputs": [],
   "source": [
    "# pip install nltk\n",
    "\n",
    "import nltk\n",
    "from nltk.stem import WordNetLemmatizer\n",
    "nltk.download('punkt')\n",
    "nltk.download('wordnet')\n",
    "\n",
    "def perform_lemmatization(text):\n",
    "    # Tokenize the text into words\n",
    "    words = nltk.word_tokenize(text)\n",
    "\n",
    "    # Initialize the WordNet Lemmatizer\n",
    "    lemmatizer = WordNetLemmatizer()\n",
    "\n",
    "    # Perform lemmatization on each word\n",
    "    lemmatized_words = [lemmatizer.lemmatize(word) for word in words]\n",
    "\n",
    "    return \" \".join(lemmatized_words)\n",
    "\n",
    "# Example text for lemmatization\n",
    "text = \"The quick brown foxes are jumping over the lazy dogs.\"\n",
    "\n",
    "# Perform lemmatization\n",
    "lemmatized_text = perform_lemmatization(text)\n",
    "print(\"Lemmatized Text:\")\n",
    "print(lemmatized_text)\n"
   ]
  }
 ],
 "metadata": {
  "language_info": {
   "name": "python"
  },
  "orig_nbformat": 4
 },
 "nbformat": 4,
 "nbformat_minor": 2
}
