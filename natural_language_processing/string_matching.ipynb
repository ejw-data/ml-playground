{
 "cells": [
  {
   "cell_type": "code",
   "execution_count": 1,
   "metadata": {},
   "outputs": [],
   "source": [
    "# Dependencies\n",
    "import difflib"
   ]
  },
  {
   "cell_type": "code",
   "execution_count": 2,
   "metadata": {},
   "outputs": [],
   "source": [
    "# Sample list with 500 entries representing country names (for demonstration purposes)\n",
    "country_entries = [\n",
    "    \"Usa\", \"united states\", \"U.S.\", \"United states of america\", \"japan\", \"germnay\", \"france\",\n",
    "    \"spane\", \"ausralia\", \"cnada\", \"brazil\", \"indai\", \"russia\", \"united kingdom\", \"China\", \n",
    "    # ... (Add 485 more entries)\n",
    "]\n",
    "\n",
    "# Sample mapping of variations to standard English names (for demonstration purposes)\n",
    "standard_names_mapping = {\n",
    "    \"usa\": \"United States of America\",\n",
    "    \"us\": \"United States of America\",\n",
    "    \"u.s.\": \"United States of America\",\n",
    "    \"united states of america\": \"United States of America\",\n",
    "    \"united states\": \"United States of America\",\n",
    "    \"america\": \"United States of America\",\n",
    "    \"japan\": \"Japan\",\n",
    "    \"germany\": \"Germany\",\n",
    "    \"france\": \"France\",\n",
    "    \"spain\": \"Spain\",\n",
    "    \"australia\": \"Australia\",\n",
    "    \"canada\": \"Canada\",\n",
    "    \"brazil\": \"Brazil\",\n",
    "    \"india\": \"India\",\n",
    "    \"russia\": \"Russia\",\n",
    "    \"united kingdom\": \"United Kingdom\",\n",
    "    \"uk\": \"United Kingdom\",\n",
    "    \"china\": \"China\",\n",
    "    # ... (Add more mappings for other countries)\n",
    "}"
   ]
  },
  {
   "cell_type": "code",
   "execution_count": 3,
   "metadata": {},
   "outputs": [],
   "source": [
    "def assign_standard_english_name(entry):\n",
    "    # Clean the entry by converting to lowercase and removing leading/trailing whitespace\n",
    "    entry = entry.lower().strip()\n",
    "\n",
    "    # Check if the entry exactly matches any standard English name\n",
    "    if entry in standard_names_mapping:\n",
    "        return standard_names_mapping[entry]\n",
    "\n",
    "    # If the entry is not an exact match, use fuzzy string matching to find the closest match\n",
    "    closest_match = difflib.get_close_matches(entry, standard_names_mapping.keys(), n=1, cutoff=0.8)\n",
    "    if closest_match:\n",
    "        return standard_names_mapping[closest_match[0]]\n",
    "\n",
    "    # If no match is found, return None or an indicator for manual review\n",
    "    return None"
   ]
  },
  {
   "cell_type": "code",
   "execution_count": 4,
   "metadata": {},
   "outputs": [
    {
     "name": "stdout",
     "output_type": "stream",
     "text": [
      "Usa: United States of America\n",
      "united states: United States of America\n",
      "U.S.: United States of America\n",
      "United states of america: United States of America\n",
      "japan: Japan\n",
      "germnay: Germany\n",
      "france: France\n",
      "spane: Spain\n",
      "ausralia: Australia\n",
      "cnada: Canada\n",
      "brazil: Brazil\n",
      "indai: India\n",
      "russia: Russia\n",
      "united kingdom: United Kingdom\n",
      "China: China\n"
     ]
    }
   ],
   "source": [
    "# Assign standard English names to each entry in the list\n",
    "standard_names_list = []\n",
    "for entry in country_entries:\n",
    "    standard_name = assign_standard_english_name(entry)\n",
    "    standard_names_list.append(standard_name)\n",
    "\n",
    "# Print the results\n",
    "for entry, standard_name in zip(country_entries, standard_names_list):\n",
    "    print(f\"{entry}: {standard_name}\")\n"
   ]
  }
 ],
 "metadata": {
  "kernelspec": {
   "display_name": "python310",
   "language": "python",
   "name": "python3"
  },
  "language_info": {
   "codemirror_mode": {
    "name": "ipython",
    "version": 3
   },
   "file_extension": ".py",
   "mimetype": "text/x-python",
   "name": "python",
   "nbconvert_exporter": "python",
   "pygments_lexer": "ipython3",
   "version": "3.10.11"
  },
  "orig_nbformat": 4
 },
 "nbformat": 4,
 "nbformat_minor": 2
}
