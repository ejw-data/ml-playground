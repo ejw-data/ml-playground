{
 "cells": [
  {
   "cell_type": "code",
   "execution_count": null,
   "metadata": {},
   "outputs": [],
   "source": [
    "# pip install transformers\n",
    "# pip install torch\n",
    "\n",
    "from transformers import T5Tokenizer, T5ForConditionalGeneration\n",
    "\n",
    "def text_summarization(text):\n",
    "    # Load the T5 model and tokenizer\n",
    "    model = T5ForConditionalGeneration.from_pretrained(\"t5-small\")\n",
    "    tokenizer = T5Tokenizer.from_pretrained(\"t5-small\")\n",
    "\n",
    "    # Tokenize the input text\n",
    "    inputs = tokenizer.encode(\"summarize: \" + text, return_tensors=\"pt\", max_length=512, truncation=True)\n",
    "\n",
    "    # Generate the summary\n",
    "    summary_ids = model.generate(inputs, max_length=150, min_length=50, length_penalty=2.0, num_beams=4, early_stopping=True)\n",
    "\n",
    "    # Decode the summary tokens to text\n",
    "    summary = tokenizer.decode(summary_ids[0], skip_special_tokens=True)\n",
    "\n",
    "    return summary\n",
    "\n",
    "# Example text to summarize\n",
    "text = \"\"\"\n",
    "Natural language processing (NLP) is a subfield of artificial intelligence (AI)\n",
    "that focuses on the interaction between computers and humans through natural\n",
    "language. NLP enables computers to understand, interpret, and generate human\n",
    "language in a way that is both meaningful and contextually appropriate. It plays\n",
    "a crucial role in various applications, such as language translation, sentiment\n",
    "analysis, chatbots, and text summarization. NLP techniques have evolved over the\n",
    "years, with advancements in deep learning and neural networks leading to\n",
    "significant improvements in language understanding and generation.\n",
    "\"\"\"\n",
    "\n",
    "# Perform text summarization\n",
    "summary = text_summarization(text)\n",
    "\n",
    "# Display the summary\n",
    "print(\"Summary:\")\n",
    "print(summary)\n"
   ]
  }
 ],
 "metadata": {
  "language_info": {
   "name": "python"
  },
  "orig_nbformat": 4
 },
 "nbformat": 4,
 "nbformat_minor": 2
}
