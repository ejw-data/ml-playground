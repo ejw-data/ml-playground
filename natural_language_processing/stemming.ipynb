{
 "cells": [
  {
   "cell_type": "code",
   "execution_count": null,
   "metadata": {},
   "outputs": [],
   "source": [
    "# pip install nltk\n",
    "\n",
    "import nltk\n",
    "from nltk.stem import PorterStemmer\n",
    "nltk.download('punkt')\n",
    "\n",
    "def perform_stemming(text):\n",
    "    # Tokenize the text into words\n",
    "    words = nltk.word_tokenize(text)\n",
    "\n",
    "    # Initialize the Porter Stemmer\n",
    "    stemmer = PorterStemmer()\n",
    "\n",
    "    # Perform stemming on each word\n",
    "    stemmed_words = [stemmer.stem(word) for word in words]\n",
    "\n",
    "    return \" \".join(stemmed_words)\n",
    "\n",
    "# Example text for stemming\n",
    "text = \"The quick brown foxes are jumping over the lazy dogs.\"\n",
    "\n",
    "# Perform stemming\n",
    "stemmed_text = perform_stemming(text)\n",
    "print(\"Stemmed Text:\")\n",
    "print(stemmed_text)\n"
   ]
  }
 ],
 "metadata": {
  "language_info": {
   "name": "python"
  },
  "orig_nbformat": 4
 },
 "nbformat": 4,
 "nbformat_minor": 2
}
