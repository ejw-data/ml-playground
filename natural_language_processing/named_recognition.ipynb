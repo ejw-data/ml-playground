{
 "cells": [
  {
   "cell_type": "code",
   "execution_count": null,
   "metadata": {},
   "outputs": [],
   "source": [
    "# pip install nltk\n",
    "\n",
    "import nltk\n",
    "from nltk import ne_chunk\n",
    "from nltk.tokenize import word_tokenize\n",
    "from nltk.tag import pos_tag\n",
    "nltk.download('punkt')\n",
    "nltk.download('maxent_ne_chunker')\n",
    "nltk.download('words')\n",
    "\n",
    "def named_entity_recognition(text):\n",
    "    # Tokenize the text into words\n",
    "    words = word_tokenize(text)\n",
    "\n",
    "    # Perform Part-of-Speech (POS) tagging\n",
    "    tagged_words = pos_tag(words)\n",
    "\n",
    "    # Perform Named Entity Recognition (NER)\n",
    "    named_entities = ne_chunk(tagged_words)\n",
    "\n",
    "    # Extract named entities\n",
    "    entities = []\n",
    "    for subtree in named_entities:\n",
    "        if hasattr(subtree, 'label'):\n",
    "            entity_name = \" \".join(word for word, tag in subtree.leaves())\n",
    "            entity_type = subtree.label()\n",
    "            entities.append((entity_name, entity_type))\n",
    "\n",
    "    return entities\n",
    "\n",
    "# Example text\n",
    "text = \"Barack Obama was born in Hawaii and served as the 44th President of the United States.\"\n",
    "\n",
    "# Perform Named Entity Recognition\n",
    "entities = named_entity_recognition(text)\n",
    "\n",
    "# Display the results\n",
    "print(\"Named Entities:\")\n",
    "for entity, entity_type in entities:\n",
    "    print(f\"{entity} - {entity_type}\")\n"
   ]
  }
 ],
 "metadata": {
  "language_info": {
   "name": "python"
  },
  "orig_nbformat": 4
 },
 "nbformat": 4,
 "nbformat_minor": 2
}
