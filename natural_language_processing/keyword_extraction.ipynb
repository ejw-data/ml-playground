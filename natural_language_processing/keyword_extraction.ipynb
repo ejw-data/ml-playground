{
 "cells": [
  {
   "cell_type": "code",
   "execution_count": null,
   "metadata": {},
   "outputs": [],
   "source": [
    "# pip install yake\n",
    "\n",
    "import yake\n",
    "\n",
    "def extract_keywords(text, language=\"en\", max_keywords=10):\n",
    "    # Create a YAKE keyword extractor\n",
    "    kw_extractor = yake.KeywordExtractor(lan=language, top=max_keywords)\n",
    "\n",
    "    # Extract keywords from the text\n",
    "    keywords = kw_extractor.extract_keywords(text)\n",
    "\n",
    "    # Extracted keywords are returned as a list of tuples (keyword, score)\n",
    "    return keywords\n",
    "\n",
    "# Example text for keyword extraction\n",
    "text = \"\"\"\n",
    "Natural language processing (NLP) is a subfield of artificial intelligence (AI)\n",
    "that focuses on the interaction between computers and humans through natural\n",
    "language. NLP enables computers to understand, interpret, and generate human\n",
    "language in a way that is both meaningful and contextually appropriate. It plays\n",
    "a crucial role in various applications, such as language translation, sentiment\n",
    "analysis, chatbots, and text summarization. NLP techniques have evolved over the\n",
    "years, with advancements in deep learning and neural networks leading to\n",
    "significant improvements in language understanding and generation.\n",
    "\"\"\"\n",
    "\n",
    "# Perform keyword extraction\n",
    "keywords = extract_keywords(text, language=\"en\", max_keywords=5)\n",
    "\n",
    "# Display the extracted keywords\n",
    "print(\"Extracted Keywords:\")\n",
    "for keyword, score in keywords:\n",
    "    print(f\"{keyword} - Score: {score:.2f}\")\n"
   ]
  }
 ],
 "metadata": {
  "language_info": {
   "name": "python"
  },
  "orig_nbformat": 4
 },
 "nbformat": 4,
 "nbformat_minor": 2
}
