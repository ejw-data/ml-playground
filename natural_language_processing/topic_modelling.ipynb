{
 "cells": [
  {
   "cell_type": "code",
   "execution_count": null,
   "metadata": {},
   "outputs": [],
   "source": [
    "# pip install gensim"
   ]
  },
  {
   "cell_type": "code",
   "execution_count": 1,
   "metadata": {},
   "outputs": [
    {
     "name": "stderr",
     "output_type": "stream",
     "text": [
      "[nltk_data] Downloading package punkt to\n",
      "[nltk_data]     C:\\Users\\ejwda\\AppData\\Roaming\\nltk_data...\n",
      "[nltk_data]   Package punkt is already up-to-date!\n",
      "[nltk_data] Downloading package wordnet to\n",
      "[nltk_data]     C:\\Users\\ejwda\\AppData\\Roaming\\nltk_data...\n",
      "[nltk_data]   Package wordnet is already up-to-date!\n",
      "[nltk_data] Downloading package stopwords to\n",
      "[nltk_data]     C:\\Users\\ejwda\\AppData\\Roaming\\nltk_data...\n",
      "[nltk_data]   Package stopwords is already up-to-date!\n"
     ]
    },
    {
     "data": {
      "text/plain": [
       "True"
      ]
     },
     "execution_count": 1,
     "metadata": {},
     "output_type": "execute_result"
    }
   ],
   "source": [
    "# Dependencies\n",
    "import nltk\n",
    "from nltk.corpus import stopwords\n",
    "from nltk.tokenize import word_tokenize\n",
    "from nltk.stem import WordNetLemmatizer\n",
    "from gensim import corpora\n",
    "from gensim.models import LdaModel\n",
    "from gensim.parsing.preprocessing import remove_stopwords\n",
    "import string\n",
    "\n",
    "nltk.download('punkt')\n",
    "nltk.download('wordnet')\n",
    "nltk.download('stopwords')\n"
   ]
  },
  {
   "cell_type": "code",
   "execution_count": 2,
   "metadata": {},
   "outputs": [],
   "source": [
    "def preprocess_text(text):\n",
    "    # Remove punctuation and convert to lowercase\n",
    "    text = text.translate(str.maketrans('', '', string.punctuation)).lower()\n",
    "\n",
    "    # Remove stopwords\n",
    "    stop_words = set(stopwords.words('english'))\n",
    "    text = remove_stopwords(text)\n",
    "\n",
    "    # Tokenize and lemmatize words\n",
    "    tokens = word_tokenize(text)\n",
    "    lemmatizer = WordNetLemmatizer()\n",
    "    tokens = [lemmatizer.lemmatize(token) for token in tokens]\n",
    "\n",
    "    return tokens"
   ]
  },
  {
   "cell_type": "code",
   "execution_count": 3,
   "metadata": {},
   "outputs": [],
   "source": [
    "def topic_modeling(documents, num_topics=5, passes=20):\n",
    "    # Preprocess the documents\n",
    "    processed_docs = [preprocess_text(doc) for doc in documents]\n",
    "\n",
    "    # Create a dictionary representation of the documents\n",
    "    dictionary = corpora.Dictionary(processed_docs)\n",
    "\n",
    "    # Convert the documents to a bag-of-words representation\n",
    "    bow_corpus = [dictionary.doc2bow(doc) for doc in processed_docs]\n",
    "\n",
    "    # Train the LDA model\n",
    "    lda_model = LdaModel(bow_corpus, num_topics=num_topics, id2word=dictionary, passes=passes)\n",
    "\n",
    "    return lda_model"
   ]
  },
  {
   "cell_type": "code",
   "execution_count": 4,
   "metadata": {},
   "outputs": [],
   "source": [
    "# Example documents\n",
    "documents = [\n",
    "    \"Natural language processing is a subfield of artificial intelligence that focuses on the interaction between computers and humans through natural language.\",\n",
    "    \"Machine learning is a subset of artificial intelligence that provides systems the ability to learn and improve from experience without being explicitly programmed.\",\n",
    "    \"Topic modeling is a useful technique to discover hidden themes or topics in a collection of text documents.\",\n",
    "    \"Python is a popular programming language for data analysis and natural language processing tasks.\",\n",
    "    \"The internet has revolutionized the way we access information and communicate with others.\"\n",
    "]"
   ]
  },
  {
   "cell_type": "code",
   "execution_count": 5,
   "metadata": {},
   "outputs": [],
   "source": [
    "# Perform topic modeling\n",
    "num_topics = 3\n",
    "passes = 50\n",
    "lda_model = topic_modeling(documents, num_topics=num_topics, passes=passes)"
   ]
  },
  {
   "cell_type": "code",
   "execution_count": 6,
   "metadata": {},
   "outputs": [
    {
     "name": "stdout",
     "output_type": "stream",
     "text": [
      "3 Topics:\n",
      "Topic 0: 0.063*\"language\" + 0.036*\"intelligence\" + 0.036*\"artificial\" + 0.036*\"processing\" + 0.036*\"subset\" + 0.036*\"provides\" + 0.036*\"experience\" + 0.036*\"system\" + 0.036*\"learning\" + 0.036*\"learn\"\n",
      "Topic 1: 0.023*\"access\" + 0.023*\"way\" + 0.023*\"revolutionized\" + 0.023*\"internet\" + 0.023*\"information\" + 0.023*\"communicate\" + 0.023*\"processing\" + 0.023*\"natural\" + 0.023*\"language\" + 0.023*\"artificial\"\n",
      "Topic 2: 0.054*\"natural\" + 0.054*\"topic\" + 0.054*\"language\" + 0.031*\"collection\" + 0.031*\"theme\" + 0.031*\"text\" + 0.031*\"useful\" + 0.031*\"document\" + 0.031*\"hidden\" + 0.031*\"discover\"\n",
      "\n",
      "Document Topics:\n",
      "Document 1 -> Dominant Topic: 2\n",
      "Document 2 -> Dominant Topic: 0\n",
      "Document 3 -> Dominant Topic: 2\n",
      "Document 4 -> Dominant Topic: 0\n",
      "Document 5 -> Dominant Topic: 2\n"
     ]
    }
   ],
   "source": [
    "# Display the topics and their top words\n",
    "print(f\"{num_topics} Topics:\")\n",
    "for topic_idx, topic in lda_model.print_topics(-1):\n",
    "    print(f\"Topic {topic_idx}: {topic}\")\n",
    "\n",
    "# Find the dominant topic for each document\n",
    "print(\"\\nDocument Topics:\")\n",
    "for idx, doc in enumerate(documents):\n",
    "    bow = lda_model.id2word.doc2bow(preprocess_text(doc))\n",
    "    doc_topics = lda_model.get_document_topics(bow)\n",
    "    dominant_topic = max(doc_topics, key=lambda x: x[1])[0]\n",
    "    print(f\"Document {idx + 1} -> Dominant Topic: {dominant_topic}\")\n"
   ]
  }
 ],
 "metadata": {
  "kernelspec": {
   "display_name": "python310",
   "language": "python",
   "name": "python3"
  },
  "language_info": {
   "codemirror_mode": {
    "name": "ipython",
    "version": 3
   },
   "file_extension": ".py",
   "mimetype": "text/x-python",
   "name": "python",
   "nbconvert_exporter": "python",
   "pygments_lexer": "ipython3",
   "version": "3.10.11"
  },
  "orig_nbformat": 4
 },
 "nbformat": 4,
 "nbformat_minor": 2
}
