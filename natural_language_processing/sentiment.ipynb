{
 "cells": [
  {
   "cell_type": "code",
   "execution_count": null,
   "metadata": {},
   "outputs": [],
   "source": [
    "# pip install nltk\n",
    "\n",
    "import nltk\n",
    "from nltk.sentiment import SentimentIntensityAnalyzer\n",
    "\n",
    "# Download necessary resources (only required for the first time)\n",
    "nltk.download('vader_lexicon')\n",
    "\n",
    "def analyze_sentiment(sentence):\n",
    "    # Initialize the SentimentIntensityAnalyzer\n",
    "    sia = SentimentIntensityAnalyzer()\n",
    "\n",
    "    # Get the polarity scores for the given sentence\n",
    "    sentiment_score = sia.polarity_scores(sentence)\n",
    "\n",
    "    # The compound score ranges from -1 (most negative) to 1 (most positive)\n",
    "    compound_score = sentiment_score['compound']\n",
    "\n",
    "    if compound_score >= 0.05:\n",
    "        return \"Positive\"\n",
    "    elif compound_score <= -0.05:\n",
    "        return \"Negative\"\n",
    "    else:\n",
    "        return \"Neutral\"\n",
    "\n",
    "# Example sentences\n",
    "sentences = [\n",
    "    \"I love this product. It's fantastic!\",\n",
    "    \"The weather today is terrible.\",\n",
    "    \"I don't really care about this movie.\",\n",
    "    \"This book is neither good nor bad.\",\n",
    "    \"I feel happy and excited.\",\n",
    "]\n",
    "\n",
    "for sentence in sentences:\n",
    "    sentiment = analyze_sentiment(sentence)\n",
    "    print(f\"Sentence: '{sentence}' --> Sentiment: {sentiment}\")\n"
   ]
  }
 ],
 "metadata": {
  "language_info": {
   "name": "python"
  },
  "orig_nbformat": 4
 },
 "nbformat": 4,
 "nbformat_minor": 2
}
