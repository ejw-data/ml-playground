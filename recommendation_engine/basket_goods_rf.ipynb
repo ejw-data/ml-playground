{
 "cells": [
  {
   "cell_type": "code",
   "execution_count": null,
   "metadata": {},
   "outputs": [],
   "source": [
    "import pandas as pd\n",
    "from sklearn.model_selection import train_test_split\n",
    "from sklearn.ensemble import RandomForestClassifier\n",
    "from sklearn.metrics import accuracy_score, classification_report\n",
    "\n",
    "# Sample dataset for customer shopping baskets\n",
    "data = {\n",
    "    'Item_A': [1, 1, 0, 1, 0, 1, 0, 1, 1, 0],\n",
    "    'Item_B': [0, 1, 1, 1, 0, 1, 0, 0, 1, 1],\n",
    "    'Item_C': [1, 0, 1, 0, 1, 0, 1, 1, 1, 1],\n",
    "    'Item_D': [0, 0, 0, 1, 0, 0, 1, 0, 1, 1],\n",
    "    'Item_E': [1, 1, 0, 0, 0, 0, 1, 0, 1, 0],\n",
    "    'Purchase': [1, 1, 0, 1, 0, 0, 1, 0, 1, 0],\n",
    "}\n",
    "\n",
    "# Convert data into a pandas DataFrame\n",
    "df = pd.DataFrame(data)\n",
    "\n",
    "# Separate features (items in the basket) and the target (purchase behavior)\n",
    "X = df.drop('Purchase', axis=1)\n",
    "y = df['Purchase']\n",
    "\n",
    "# Split the dataset into training and testing sets\n",
    "X_train, X_test, y_train, y_test = train_test_split(X, y, test_size=0.2, random_state=42)\n",
    "\n",
    "# Train the random forest classifier\n",
    "rf_classifier = RandomForestClassifier(random_state=42)\n",
    "rf_classifier.fit(X_train, y_train)\n",
    "\n",
    "# Make predictions on the test set\n",
    "y_pred = rf_classifier.predict(X_test)\n",
    "\n",
    "# Evaluate the model\n",
    "accuracy = accuracy_score(y_test, y_pred)\n",
    "print(\"Accuracy:\", accuracy)\n",
    "\n",
    "classification_report_result = classification_report(y_test, y_pred)\n",
    "print(\"Classification Report:\")\n",
    "print(classification_report_result)\n"
   ]
  }
 ],
 "metadata": {
  "language_info": {
   "name": "python"
  },
  "orig_nbformat": 4
 },
 "nbformat": 4,
 "nbformat_minor": 2
}
