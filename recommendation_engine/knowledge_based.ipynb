{
 "cells": [
  {
   "cell_type": "code",
   "execution_count": null,
   "metadata": {},
   "outputs": [],
   "source": [
    "import pandas as pd\n",
    "\n",
    "# Sample movie data (movie titles and genres)\n",
    "movies_data = {\n",
    "    'title': [\n",
    "        'Movie A', 'Movie B', 'Movie C', 'Movie D', 'Movie E', 'Movie F', 'Movie G',\n",
    "    ],\n",
    "    'genre': [\n",
    "        'Action', 'Comedy', 'Action, Drama', 'Comedy, Drama', 'Action, Comedy',\n",
    "        'Drama', 'Comedy, Drama',\n",
    "    ],\n",
    "}\n",
    "\n",
    "# Convert movie data into a pandas DataFrame\n",
    "movies_df = pd.DataFrame(movies_data)\n",
    "\n",
    "# Function to get knowledge-based movie recommendations\n",
    "def knowledge_based_recommendations(genre_preference, movies_df, num_recommendations=3):\n",
    "    # Filter movies based on user's genre preference\n",
    "    relevant_movies = movies_df[movies_df['genre'].str.contains(genre_preference, case=False)]\n",
    "\n",
    "    # Sort movies by their title (you can use other criteria for sorting, like ratings or popularity)\n",
    "    recommended_movies = relevant_movies.sort_values(by='title').head(num_recommendations)\n",
    "\n",
    "    return recommended_movies['title'].tolist()\n",
    "\n",
    "# Example usage:\n",
    "user_genre_preference = 'Action'\n",
    "recommendations = knowledge_based_recommendations(user_genre_preference, movies_df)\n",
    "print(f\"Knowledge-Based Recommendations for '{user_genre_preference}' Genre:\")\n",
    "print(recommendations)\n"
   ]
  }
 ],
 "metadata": {
  "language_info": {
   "name": "python"
  },
  "orig_nbformat": 4
 },
 "nbformat": 4,
 "nbformat_minor": 2
}
