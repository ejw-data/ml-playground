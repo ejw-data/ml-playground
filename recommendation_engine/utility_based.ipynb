{
 "cells": [
  {
   "cell_type": "code",
   "execution_count": 1,
   "metadata": {},
   "outputs": [],
   "source": [
    "# Dependencies\n",
    "import pandas as pd"
   ]
  },
  {
   "cell_type": "code",
   "execution_count": 2,
   "metadata": {},
   "outputs": [],
   "source": [
    "# Sample movie data (movie titles, genres, and ratings)\n",
    "movies_data = {\n",
    "    'title': [\n",
    "        'Movie A', 'Movie B', 'Movie C', 'Movie D', 'Movie E', 'Movie F', 'Movie G',\n",
    "    ],\n",
    "    'genre': [\n",
    "        'Action', 'Comedy', 'Action, Drama', 'Comedy, Drama', 'Action, Comedy',\n",
    "        'Drama', 'Comedy, Drama',\n",
    "    ],\n",
    "    'rating': [4.5, 3.8, 4.2, 3.5, 4.1, 3.9, 4.3],\n",
    "}\n",
    "\n",
    "# Convert movie data into a pandas DataFrame\n",
    "movies_df = pd.DataFrame(movies_data)"
   ]
  },
  {
   "cell_type": "code",
   "execution_count": 3,
   "metadata": {},
   "outputs": [],
   "source": [
    "# Function to get utility-based movie recommendations\n",
    "def utility_based_recommendations(genre_preference, min_rating, movies_df, num_recommendations=3):\n",
    "    # Filter movies based on user's genre preference and minimum rating\n",
    "    relevant_movies = movies_df[\n",
    "        (movies_df['genre'].str.contains(genre_preference, case=False)) & (movies_df['rating'] >= min_rating)\n",
    "    ]\n",
    "\n",
    "    # Sort movies by their rating in descending order\n",
    "    recommended_movies = relevant_movies.sort_values(by='rating', ascending=False).head(num_recommendations)\n",
    "\n",
    "    return recommended_movies['title'].tolist()"
   ]
  },
  {
   "cell_type": "code",
   "execution_count": 4,
   "metadata": {},
   "outputs": [
    {
     "name": "stdout",
     "output_type": "stream",
     "text": [
      "Utility-Based Recommendations for 'Action' Genre and Minimum Rating 4.0:\n",
      "['Movie A', 'Movie C', 'Movie E']\n"
     ]
    }
   ],
   "source": [
    "# Example usage:\n",
    "user_genre_preference = 'Action'\n",
    "user_min_rating = 4.0\n",
    "recommendations = utility_based_recommendations(user_genre_preference, user_min_rating, movies_df)\n",
    "print(f\"Utility-Based Recommendations for '{user_genre_preference}' Genre and Minimum Rating {user_min_rating}:\")\n",
    "print(recommendations)\n"
   ]
  }
 ],
 "metadata": {
  "kernelspec": {
   "display_name": "python310",
   "language": "python",
   "name": "python3"
  },
  "language_info": {
   "codemirror_mode": {
    "name": "ipython",
    "version": 3
   },
   "file_extension": ".py",
   "mimetype": "text/x-python",
   "name": "python",
   "nbconvert_exporter": "python",
   "pygments_lexer": "ipython3",
   "version": "3.10.11"
  },
  "orig_nbformat": 4
 },
 "nbformat": 4,
 "nbformat_minor": 2
}
