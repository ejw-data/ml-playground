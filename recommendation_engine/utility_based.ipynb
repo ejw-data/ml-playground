{
 "cells": [
  {
   "cell_type": "code",
   "execution_count": null,
   "metadata": {},
   "outputs": [],
   "source": [
    "import pandas as pd\n",
    "\n",
    "# Sample movie data (movie titles, genres, and ratings)\n",
    "movies_data = {\n",
    "    'title': [\n",
    "        'Movie A', 'Movie B', 'Movie C', 'Movie D', 'Movie E', 'Movie F', 'Movie G',\n",
    "    ],\n",
    "    'genre': [\n",
    "        'Action', 'Comedy', 'Action, Drama', 'Comedy, Drama', 'Action, Comedy',\n",
    "        'Drama', 'Comedy, Drama',\n",
    "    ],\n",
    "    'rating': [4.5, 3.8, 4.2, 3.5, 4.1, 3.9, 4.3],\n",
    "}\n",
    "\n",
    "# Convert movie data into a pandas DataFrame\n",
    "movies_df = pd.DataFrame(movies_data)\n",
    "\n",
    "# Function to get utility-based movie recommendations\n",
    "def utility_based_recommendations(genre_preference, min_rating, movies_df, num_recommendations=3):\n",
    "    # Filter movies based on user's genre preference and minimum rating\n",
    "    relevant_movies = movies_df[\n",
    "        (movies_df['genre'].str.contains(genre_preference, case=False)) & (movies_df['rating'] >= min_rating)\n",
    "    ]\n",
    "\n",
    "    # Sort movies by their rating in descending order\n",
    "    recommended_movies = relevant_movies.sort_values(by='rating', ascending=False).head(num_recommendations)\n",
    "\n",
    "    return recommended_movies['title'].tolist()\n",
    "\n",
    "# Example usage:\n",
    "user_genre_preference = 'Action'\n",
    "user_min_rating = 4.0\n",
    "recommendations = utility_based_recommendations(user_genre_preference, user_min_rating, movies_df)\n",
    "print(f\"Utility-Based Recommendations for '{user_genre_preference}' Genre and Minimum Rating {user_min_rating}:\")\n",
    "print(recommendations)\n"
   ]
  }
 ],
 "metadata": {
  "language_info": {
   "name": "python"
  },
  "orig_nbformat": 4
 },
 "nbformat": 4,
 "nbformat_minor": 2
}
