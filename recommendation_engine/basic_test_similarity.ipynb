{
 "cells": [
  {
   "cell_type": "code",
   "execution_count": null,
   "metadata": {},
   "outputs": [],
   "source": [
    "import pandas as pd\n",
    "from sklearn.feature_extraction.text import TfidfVectorizer\n",
    "from sklearn.metrics.pairwise import linear_kernel\n",
    "\n",
    "# Sample movie data (movie titles and genres)\n",
    "movies_data = {\n",
    "    'title': [\n",
    "        'Movie A', 'Movie B', 'Movie C', 'Movie D', 'Movie E', 'Movie F', 'Movie G',\n",
    "    ],\n",
    "    'genre': [\n",
    "        'Action', 'Comedy', 'Action, Drama', 'Comedy, Drama', 'Action, Comedy',\n",
    "        'Drama', 'Comedy, Drama',\n",
    "    ],\n",
    "}\n",
    "\n",
    "# Convert movie data into a pandas DataFrame\n",
    "movies_df = pd.DataFrame(movies_data)\n",
    "\n",
    "# Create a TF-IDF vectorizer to convert genre strings into feature vectors\n",
    "tfidf_vectorizer = TfidfVectorizer(stop_words='english')\n",
    "genre_matrix = tfidf_vectorizer.fit_transform(movies_df['genre'])\n",
    "\n",
    "# Compute the cosine similarity between genre vectors\n",
    "cosine_sim = linear_kernel(genre_matrix, genre_matrix)\n",
    "\n",
    "# Function to get movie recommendations based on genre similarity\n",
    "def get_recommendations(movie_title, cosine_sim):\n",
    "    idx = movies_df[movies_df['title'] == movie_title].index[0]\n",
    "    sim_scores = list(enumerate(cosine_sim[idx]))\n",
    "    sim_scores = sorted(sim_scores, key=lambda x: x[1], reverse=True)\n",
    "    sim_scores = sim_scores[1:4]  # Get top 3 similar movies (excluding itself)\n",
    "    movie_indices = [score[0] for score in sim_scores]\n",
    "    return movies_df['title'].iloc[movie_indices]\n",
    "\n",
    "# Example usage:\n",
    "movie_title = 'Movie A'\n",
    "recommendations = get_recommendations(movie_title, cosine_sim)\n",
    "print(f\"Recommended movies for '{movie_title}':\")\n",
    "print(recommendations)\n"
   ]
  }
 ],
 "metadata": {
  "language_info": {
   "name": "python"
  },
  "orig_nbformat": 4
 },
 "nbformat": 4,
 "nbformat_minor": 2
}
