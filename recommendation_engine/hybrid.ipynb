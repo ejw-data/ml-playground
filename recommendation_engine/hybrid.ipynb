{
 "cells": [
  {
   "cell_type": "code",
   "execution_count": null,
   "metadata": {},
   "outputs": [],
   "source": [
    "# issue install surprise"
   ]
  },
  {
   "cell_type": "code",
   "execution_count": 1,
   "metadata": {},
   "outputs": [
    {
     "ename": "ModuleNotFoundError",
     "evalue": "No module named 'surprise'",
     "output_type": "error",
     "traceback": [
      "\u001b[1;31m---------------------------------------------------------------------------\u001b[0m",
      "\u001b[1;31mModuleNotFoundError\u001b[0m                       Traceback (most recent call last)",
      "Cell \u001b[1;32mIn[1], line 5\u001b[0m\n\u001b[0;32m      3\u001b[0m \u001b[39mfrom\u001b[39;00m \u001b[39msklearn\u001b[39;00m\u001b[39m.\u001b[39;00m\u001b[39mfeature_extraction\u001b[39;00m\u001b[39m.\u001b[39;00m\u001b[39mtext\u001b[39;00m \u001b[39mimport\u001b[39;00m TfidfVectorizer\n\u001b[0;32m      4\u001b[0m \u001b[39mfrom\u001b[39;00m \u001b[39msklearn\u001b[39;00m\u001b[39m.\u001b[39;00m\u001b[39mmetrics\u001b[39;00m\u001b[39m.\u001b[39;00m\u001b[39mpairwise\u001b[39;00m \u001b[39mimport\u001b[39;00m cosine_similarity\n\u001b[1;32m----> 5\u001b[0m \u001b[39mfrom\u001b[39;00m \u001b[39msurprise\u001b[39;00m \u001b[39mimport\u001b[39;00m Dataset, Reader, SVD\n\u001b[0;32m      6\u001b[0m \u001b[39mfrom\u001b[39;00m \u001b[39msurprise\u001b[39;00m\u001b[39m.\u001b[39;00m\u001b[39mmodel_selection\u001b[39;00m \u001b[39mimport\u001b[39;00m train_test_split\n\u001b[0;32m      7\u001b[0m \u001b[39mfrom\u001b[39;00m \u001b[39msurprise\u001b[39;00m \u001b[39mimport\u001b[39;00m accuracy\n",
      "\u001b[1;31mModuleNotFoundError\u001b[0m: No module named 'surprise'"
     ]
    }
   ],
   "source": [
    "# Dependencies\n",
    "import pandas as pd\n",
    "from sklearn.feature_extraction.text import TfidfVectorizer\n",
    "from sklearn.metrics.pairwise import cosine_similarity\n",
    "from surprise import Dataset, Reader, SVD\n",
    "from surprise.model_selection import train_test_split\n",
    "from surprise import accuracy"
   ]
  },
  {
   "cell_type": "code",
   "execution_count": null,
   "metadata": {},
   "outputs": [],
   "source": [
    "# Sample movie data (movie titles and genres)\n",
    "movies_data = {\n",
    "    'title': [\n",
    "        'Movie A', 'Movie B', 'Movie C', 'Movie D', 'Movie E', 'Movie F', 'Movie G',\n",
    "    ],\n",
    "    'genre': [\n",
    "        'Action', 'Comedy', 'Action, Drama', 'Comedy, Drama', 'Action, Comedy',\n",
    "        'Drama', 'Comedy, Drama',\n",
    "    ],\n",
    "}\n",
    "\n",
    "# Sample user ratings data (user ID, movie ID, rating)\n",
    "ratings_data = {\n",
    "    'user_id': [1, 1, 2, 2, 3, 3, 4, 4],\n",
    "    'movie_id': [1, 2, 1, 3, 2, 3, 4, 5],\n",
    "    'rating': [4, 5, 3, 4, 5, 4, 2, 1],\n",
    "}\n",
    "\n",
    "# Convert movie and ratings data into pandas DataFrames\n",
    "movies_df = pd.DataFrame(movies_data)\n",
    "ratings_df = pd.DataFrame(ratings_data)"
   ]
  },
  {
   "cell_type": "code",
   "execution_count": null,
   "metadata": {},
   "outputs": [],
   "source": [
    "# Content-based filtering using movie genres\n",
    "tfidf_vectorizer = TfidfVectorizer(stop_words='english')\n",
    "genre_matrix = tfidf_vectorizer.fit_transform(movies_df['genre'])\n",
    "cosine_sim = cosine_similarity(genre_matrix, genre_matrix)\n",
    "\n",
    "# Collaborative filtering using Surprise library\n",
    "reader = Reader(rating_scale=(1, 5))\n",
    "data = Dataset.load_from_df(ratings_df[['user_id', 'movie_id', 'rating']], reader)\n",
    "trainset, testset = train_test_split(data, test_size=0.25)"
   ]
  },
  {
   "cell_type": "code",
   "execution_count": null,
   "metadata": {},
   "outputs": [],
   "source": [
    "# Singular Value Decomposition(\n",
    "model = SVD()\n",
    "model.fit(trainset)\n",
    "predictions = model.test(testset)\n",
    "rmse = accuracy.rmse(predictions)"
   ]
  },
  {
   "cell_type": "code",
   "execution_count": null,
   "metadata": {},
   "outputs": [],
   "source": [
    "# Hybrid recommendation function combining both approaches\n",
    "def hybrid_recommendation(user_id, movie_title, cosine_sim, model, top_n=5):\n",
    "    # Get content-based recommendations based on movie genres\n",
    "    movie_idx = movies_df[movies_df['title'] == movie_title].index[0]\n",
    "    sim_scores = list(enumerate(cosine_sim[movie_idx]))\n",
    "    sim_scores = sorted(sim_scores, key=lambda x: x[1], reverse=True)\n",
    "    sim_scores = sim_scores[1:top_n + 1]\n",
    "    movie_indices = [score[0] for score in sim_scores]\n",
    "    content_based_recommendations = movies_df['title'].iloc[movie_indices].tolist()\n",
    "\n",
    "    # Get collaborative filtering recommendations for the user\n",
    "    unrated_movies = set(movies_df['title']) - set(ratings_df[ratings_df['user_id'] == user_id]['movie_id'])\n",
    "    user_predicted_ratings = [(movie_title, model.predict(user_id, movie_title).est) for movie_title in unrated_movies]\n",
    "    user_predicted_ratings = sorted(user_predicted_ratings, key=lambda x: x[1], reverse=True)\n",
    "    collaborative_filtering_recommendations = [movie_title for movie_title, _ in user_predicted_ratings[:top_n]]\n",
    "\n",
    "    # Combine both recommendations\n",
    "    hybrid_recommendations = list(set(content_based_recommendations) | set(collaborative_filtering_recommendations))\n",
    "\n",
    "    return hybrid_recommendations"
   ]
  },
  {
   "cell_type": "code",
   "execution_count": null,
   "metadata": {},
   "outputs": [],
   "source": [
    "# Example usage:\n",
    "user_id = 1\n",
    "movie_title = 'Movie A'\n",
    "recommendations = hybrid_recommendation(user_id, movie_title, cosine_sim, model)\n",
    "print(f\"Hybrid Recommendations for User {user_id} based on '{movie_title}':\")\n",
    "print(recommendations)\n"
   ]
  }
 ],
 "metadata": {
  "kernelspec": {
   "display_name": "python310",
   "language": "python",
   "name": "python3"
  },
  "language_info": {
   "codemirror_mode": {
    "name": "ipython",
    "version": 3
   },
   "file_extension": ".py",
   "mimetype": "text/x-python",
   "name": "python",
   "nbconvert_exporter": "python",
   "pygments_lexer": "ipython3",
   "version": "3.10.11"
  },
  "orig_nbformat": 4
 },
 "nbformat": 4,
 "nbformat_minor": 2
}
