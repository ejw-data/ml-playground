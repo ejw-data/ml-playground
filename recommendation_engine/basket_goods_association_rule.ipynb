{
 "cells": [
  {
   "cell_type": "code",
   "execution_count": null,
   "metadata": {},
   "outputs": [],
   "source": [
    "# pip install mlxtend\n",
    "\n",
    "import pandas as pd\n",
    "from mlxtend.frequent_patterns import apriori, association_rules\n",
    "\n",
    "# Sample dataset for shopping baskets\n",
    "data = {\n",
    "    'Bread': [1, 1, 1, 1, 1, 0, 1, 1, 0, 1],\n",
    "    'Milk': [1, 1, 0, 1, 0, 1, 1, 1, 1, 1],\n",
    "    'Eggs': [1, 1, 0, 1, 0, 1, 1, 1, 0, 1],\n",
    "    'Butter': [0, 1, 1, 0, 0, 1, 0, 1, 0, 1],\n",
    "    'Cheese': [0, 0, 1, 1, 0, 0, 1, 1, 0, 1],\n",
    "}\n",
    "\n",
    "# Convert data into a pandas DataFrame\n",
    "df = pd.DataFrame(data)\n",
    "\n",
    "# Find frequent itemsets using the Apriori algorithm\n",
    "frequent_itemsets = apriori(df, min_support=0.3, use_colnames=True)\n",
    "\n",
    "# Generate association rules with minimum confidence of 0.7\n",
    "association_rules_result = association_rules(frequent_itemsets, metric=\"confidence\", min_threshold=0.7)\n",
    "\n",
    "# Display the association rules\n",
    "print(\"Association Rules:\")\n",
    "print(association_rules_result)\n",
    "\n"
   ]
  }
 ],
 "metadata": {
  "language_info": {
   "name": "python"
  },
  "orig_nbformat": 4
 },
 "nbformat": 4,
 "nbformat_minor": 2
}
