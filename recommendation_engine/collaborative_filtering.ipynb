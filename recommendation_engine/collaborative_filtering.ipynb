{
 "cells": [
  {
   "cell_type": "code",
   "execution_count": null,
   "metadata": {},
   "outputs": [],
   "source": [
    "# pip install scikit-surprise\n",
    "\n",
    "import pandas as pd\n",
    "from surprise import Dataset, Reader\n",
    "from surprise import SVD\n",
    "from surprise.model_selection import train_test_split\n",
    "from surprise import accuracy\n",
    "\n",
    "# Load the MovieLens dataset\n",
    "data = Dataset.load_builtin('ml-100k')\n",
    "\n",
    "# Create a train-test split\n",
    "trainset, testset = train_test_split(data, test_size=0.25)\n",
    "\n",
    "# Create the SVD model\n",
    "model = SVD()\n",
    "\n",
    "# Train the model on the training set\n",
    "model.fit(trainset)\n",
    "\n",
    "# Make predictions on the test set\n",
    "predictions = model.test(testset)\n",
    "\n",
    "# Evaluate the model's performance\n",
    "rmse = accuracy.rmse(predictions)\n",
    "print(\"Root Mean Squared Error (RMSE):\", rmse)\n",
    "\n",
    "# Get recommendations for a specific user (user ID: 196)\n",
    "user_id = str(196)\n",
    "user_items = trainset.ur[trainset.to_inner_uid(user_id)]\n",
    "items_already_rated = [trainset.to_raw_iid(item_id) for (item_id, _) in user_items]\n",
    "\n",
    "# Get top 5 movie recommendations for the user\n",
    "all_movie_ids = list(range(1, 1683))  # Assuming there are 1682 movies in the dataset\n",
    "unrated_movie_ids = set(all_movie_ids) - set(items_already_rated)\n",
    "\n",
    "# Predict ratings for unrated movies\n",
    "unrated_movie_predictions = [(movie_id, model.predict(user_id, movie_id).est) for movie_id in unrated_movie_ids]\n",
    "\n",
    "# Sort movie recommendations based on predicted ratings\n",
    "sorted_movie_recommendations = sorted(unrated_movie_predictions, key=lambda x: x[1], reverse=True)\n",
    "top_5_recommendations = sorted_movie_recommendations[:5]\n",
    "\n",
    "# Display top 5 movie recommendations for the user\n",
    "print(f\"\\nTop 5 movie recommendations for User {user_id}:\")\n",
    "for movie_id, predicted_rating in top_5_recommendations:\n",
    "    movie_title = trainset.to_raw_iid(movie_id)\n",
    "    print(f\"Movie ID: {movie_id}, Movie Title: {movie_title}, Predicted Rating: {predicted_rating:.2f}\")\n"
   ]
  }
 ],
 "metadata": {
  "language_info": {
   "name": "python"
  },
  "orig_nbformat": 4
 },
 "nbformat": 4,
 "nbformat_minor": 2
}
