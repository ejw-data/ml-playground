{
 "cells": [
  {
   "cell_type": "code",
   "execution_count": null,
   "metadata": {},
   "outputs": [],
   "source": [
    "import pandas as pd\n",
    "\n",
    "# Sample movie data (movie titles and genres)\n",
    "movies_data = {\n",
    "    'title': [\n",
    "        'Movie A', 'Movie B', 'Movie C', 'Movie D', 'Movie E', 'Movie F', 'Movie G',\n",
    "    ],\n",
    "    'genre': [\n",
    "        'Action', 'Comedy', 'Action, Drama', 'Comedy, Drama', 'Action, Comedy',\n",
    "        'Drama', 'Comedy, Drama',\n",
    "    ],\n",
    "}\n",
    "\n",
    "# Sample user data (user IDs, age, and gender)\n",
    "users_data = {\n",
    "    'user_id': [1, 2, 3, 4, 5],\n",
    "    'age': [25, 32, 18, 45, 28],\n",
    "    'gender': ['M', 'F', 'M', 'F', 'M'],\n",
    "}\n",
    "\n",
    "# Convert movie and user data into pandas DataFrames\n",
    "movies_df = pd.DataFrame(movies_data)\n",
    "users_df = pd.DataFrame(users_data)\n",
    "\n",
    "# Function to get demographic-based movie recommendations\n",
    "def demographic_recommendations(age, gender, movies_df, num_recommendations=3):\n",
    "    # Filter movies based on genre (e.g., Action movies for males and Drama movies for females)\n",
    "    genre_preference = 'Action' if gender == 'M' else 'Drama'\n",
    "    relevant_movies = movies_df[movies_df['genre'].str.contains(genre_preference, case=False)]\n",
    "\n",
    "    # Sort movies by their title (you can use other criteria for sorting, like ratings or popularity)\n",
    "    recommended_movies = relevant_movies.sort_values(by='title').head(num_recommendations)\n",
    "\n",
    "    return recommended_movies['title'].tolist()\n",
    "\n",
    "# Example usage:\n",
    "user_age = 28\n",
    "user_gender = 'M'\n",
    "recommendations = demographic_recommendations(user_age, user_gender, movies_df)\n",
    "print(f\"Demographic-Based Recommendations for a {user_age}-year-old {user_gender}:\")\n",
    "print(recommendations)\n"
   ]
  }
 ],
 "metadata": {
  "language_info": {
   "name": "python"
  },
  "orig_nbformat": 4
 },
 "nbformat": 4,
 "nbformat_minor": 2
}
