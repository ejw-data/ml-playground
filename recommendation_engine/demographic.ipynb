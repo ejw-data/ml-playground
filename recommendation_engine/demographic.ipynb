{
 "cells": [
  {
   "cell_type": "code",
   "execution_count": 1,
   "metadata": {},
   "outputs": [],
   "source": [
    "# Dependencies\n",
    "import pandas as pd"
   ]
  },
  {
   "cell_type": "code",
   "execution_count": 2,
   "metadata": {},
   "outputs": [],
   "source": [
    "# Sample movie data (movie titles and genres)\n",
    "movies_data = {\n",
    "    'title': [\n",
    "        'Movie A', 'Movie B', 'Movie C', 'Movie D', 'Movie E', 'Movie F', 'Movie G',\n",
    "    ],\n",
    "    'genre': [\n",
    "        'Action', 'Comedy', 'Action, Drama', 'Comedy, Drama', 'Action, Comedy',\n",
    "        'Drama', 'Comedy, Drama',\n",
    "    ],\n",
    "}\n",
    "\n",
    "# Sample user data (user IDs, age, and gender)\n",
    "users_data = {\n",
    "    'user_id': [1, 2, 3, 4, 5],\n",
    "    'age': [25, 32, 18, 45, 28],\n",
    "    'gender': ['M', 'F', 'M', 'F', 'M'],\n",
    "}\n",
    "\n",
    "# Convert movie and user data into pandas DataFrames\n",
    "movies_df = pd.DataFrame(movies_data)\n",
    "users_df = pd.DataFrame(users_data)"
   ]
  },
  {
   "cell_type": "code",
   "execution_count": 3,
   "metadata": {},
   "outputs": [],
   "source": [
    "# Function to get demographic-based movie recommendations\n",
    "def demographic_recommendations(age, gender, movies_df, num_recommendations=3):\n",
    "    # Filter movies based on genre (e.g., Action movies for males and Drama movies for females)\n",
    "    genre_preference = 'Action' if gender == 'M' else 'Drama'\n",
    "    relevant_movies = movies_df[movies_df['genre'].str.contains(genre_preference, case=False)]\n",
    "\n",
    "    # Sort movies by their title (you can use other criteria for sorting, like ratings or popularity)\n",
    "    recommended_movies = relevant_movies.sort_values(by='title').head(num_recommendations)\n",
    "\n",
    "    return recommended_movies['title'].tolist()"
   ]
  },
  {
   "cell_type": "code",
   "execution_count": 4,
   "metadata": {},
   "outputs": [
    {
     "name": "stdout",
     "output_type": "stream",
     "text": [
      "Demographic-Based Recommendations for a 28-year-old M:\n",
      "['Movie A', 'Movie C', 'Movie E']\n"
     ]
    }
   ],
   "source": [
    "# Example usage:\n",
    "user_age = 28\n",
    "user_gender = 'M'\n",
    "recommendations = demographic_recommendations(user_age, user_gender, movies_df)\n",
    "print(f\"Demographic-Based Recommendations for a {user_age}-year-old {user_gender}:\")\n",
    "print(recommendations)\n"
   ]
  }
 ],
 "metadata": {
  "kernelspec": {
   "display_name": "python310",
   "language": "python",
   "name": "python3"
  },
  "language_info": {
   "codemirror_mode": {
    "name": "ipython",
    "version": 3
   },
   "file_extension": ".py",
   "mimetype": "text/x-python",
   "name": "python",
   "nbconvert_exporter": "python",
   "pygments_lexer": "ipython3",
   "version": "3.10.11"
  },
  "orig_nbformat": 4
 },
 "nbformat": 4,
 "nbformat_minor": 2
}
