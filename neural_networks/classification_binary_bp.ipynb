{
 "cells": [
  {
   "cell_type": "code",
   "execution_count": null,
   "metadata": {},
   "outputs": [],
   "source": [
    "# Still working on dot product error"
   ]
  },
  {
   "cell_type": "code",
   "execution_count": 1,
   "metadata": {},
   "outputs": [],
   "source": [
    "# Dependencies\n",
    "import numpy as np"
   ]
  },
  {
   "cell_type": "code",
   "execution_count": 2,
   "metadata": {},
   "outputs": [],
   "source": [
    "# Define the sigmoid activation function and its derivative\n",
    "def sigmoid(x):\n",
    "    return 1 / (1 + np.exp(-x))\n",
    "\n",
    "def sigmoid_derivative(x):\n",
    "    return x * (1 - x)"
   ]
  },
  {
   "cell_type": "code",
   "execution_count": 3,
   "metadata": {},
   "outputs": [],
   "source": [
    "# Define the neural network class\n",
    "class NeuralNetwork:\n",
    "    def __init__(self, input_size, hidden_size, output_size):\n",
    "        self.input_size = input_size\n",
    "        self.hidden_size = hidden_size\n",
    "        self.output_size = output_size\n",
    "        \n",
    "        # Initialize weights and biases with random values\n",
    "        self.weights_input_hidden = np.random.rand(self.input_size, self.hidden_size)\n",
    "        self.biases_hidden = np.random.rand(self.hidden_size)\n",
    "        self.weights_hidden_output = np.random.rand(self.hidden_size, self.output_size)\n",
    "        self.biases_output = np.random.rand(self.output_size)\n",
    "    \n",
    "    def forward_pass(self, inputs):\n",
    "        # Calculate the activations of the hidden layer\n",
    "        hidden_layer_input = np.dot(inputs, self.weights_input_hidden) + self.biases_hidden\n",
    "        hidden_layer_output = sigmoid(hidden_layer_input)\n",
    "        \n",
    "        # Calculate the activations of the output layer\n",
    "        output_layer_input = np.dot(hidden_layer_output, self.weights_hidden_output) + self.biases_output\n",
    "        output_layer_output = sigmoid(output_layer_input)\n",
    "        \n",
    "        return hidden_layer_output, output_layer_output\n",
    "    \n",
    "    def backpropagation(self, inputs, targets, learning_rate):\n",
    "        hidden_layer_output, output_layer_output = self.forward_pass(inputs)\n",
    "        \n",
    "        # Calculate the error and deltas for the output layer\n",
    "        output_error = targets - output_layer_output\n",
    "        output_delta = output_error * sigmoid_derivative(output_layer_output)\n",
    "        \n",
    "        # Calculate the error and deltas for the hidden layer\n",
    "        hidden_error = np.dot(output_delta, self.weights_hidden_output.T)\n",
    "        hidden_delta = hidden_error * sigmoid_derivative(hidden_layer_output)\n",
    "        \n",
    "        # Update weights and biases using the deltas and learning rate\n",
    "        self.weights_hidden_output += np.dot(hidden_layer_output.T, output_delta) * learning_rate\n",
    "        self.biases_output += np.sum(output_delta) * learning_rate\n",
    "        self.weights_input_hidden += np.dot(inputs.T, hidden_delta) * learning_rate\n",
    "        self.biases_hidden += np.sum(hidden_delta) * learning_rate"
   ]
  },
  {
   "cell_type": "code",
   "execution_count": 4,
   "metadata": {},
   "outputs": [
    {
     "ename": "ValueError",
     "evalue": "shapes (2,) and (1,) not aligned: 2 (dim 0) != 1 (dim 0)",
     "output_type": "error",
     "traceback": [
      "\u001b[1;31m---------------------------------------------------------------------------\u001b[0m",
      "\u001b[1;31mValueError\u001b[0m                                Traceback (most recent call last)",
      "Cell \u001b[1;32mIn[4], line 16\u001b[0m\n\u001b[0;32m     14\u001b[0m \u001b[39mfor\u001b[39;00m epoch \u001b[39min\u001b[39;00m \u001b[39mrange\u001b[39m(epochs):\n\u001b[0;32m     15\u001b[0m     \u001b[39mfor\u001b[39;00m i \u001b[39min\u001b[39;00m \u001b[39mrange\u001b[39m(\u001b[39mlen\u001b[39m(inputs)):\n\u001b[1;32m---> 16\u001b[0m         neural_net\u001b[39m.\u001b[39;49mbackpropagation(inputs[i], targets[i], learning_rate)\n\u001b[0;32m     18\u001b[0m     \u001b[39mif\u001b[39;00m epoch \u001b[39m%\u001b[39m \u001b[39m1000\u001b[39m \u001b[39m==\u001b[39m \u001b[39m0\u001b[39m:\n\u001b[0;32m     19\u001b[0m         hidden_output, output \u001b[39m=\u001b[39m neural_net\u001b[39m.\u001b[39mforward_pass(inputs)\n",
      "Cell \u001b[1;32mIn[3], line 37\u001b[0m, in \u001b[0;36mNeuralNetwork.backpropagation\u001b[1;34m(self, inputs, targets, learning_rate)\u001b[0m\n\u001b[0;32m     34\u001b[0m hidden_delta \u001b[39m=\u001b[39m hidden_error \u001b[39m*\u001b[39m sigmoid_derivative(hidden_layer_output)\n\u001b[0;32m     36\u001b[0m \u001b[39m# Update weights and biases using the deltas and learning rate\u001b[39;00m\n\u001b[1;32m---> 37\u001b[0m \u001b[39mself\u001b[39m\u001b[39m.\u001b[39mweights_hidden_output \u001b[39m+\u001b[39m\u001b[39m=\u001b[39m np\u001b[39m.\u001b[39;49mdot(hidden_layer_output\u001b[39m.\u001b[39;49mT, output_delta) \u001b[39m*\u001b[39m learning_rate\n\u001b[0;32m     38\u001b[0m \u001b[39mself\u001b[39m\u001b[39m.\u001b[39mbiases_output \u001b[39m+\u001b[39m\u001b[39m=\u001b[39m np\u001b[39m.\u001b[39msum(output_delta) \u001b[39m*\u001b[39m learning_rate\n\u001b[0;32m     39\u001b[0m \u001b[39mself\u001b[39m\u001b[39m.\u001b[39mweights_input_hidden \u001b[39m+\u001b[39m\u001b[39m=\u001b[39m np\u001b[39m.\u001b[39mdot(inputs\u001b[39m.\u001b[39mT, hidden_delta) \u001b[39m*\u001b[39m learning_rate\n",
      "File \u001b[1;32m<__array_function__ internals>:180\u001b[0m, in \u001b[0;36mdot\u001b[1;34m(*args, **kwargs)\u001b[0m\n",
      "\u001b[1;31mValueError\u001b[0m: shapes (2,) and (1,) not aligned: 2 (dim 0) != 1 (dim 0)"
     ]
    }
   ],
   "source": [
    "# Example usage of the neural network\n",
    "if __name__ == \"__main__\":\n",
    "    # Create the neural network with 2 input neurons, 2 hidden neurons, and 1 output neuron\n",
    "    neural_net = NeuralNetwork(input_size=2, hidden_size=2, output_size=1)\n",
    "    \n",
    "    # Training data (XOR problem)\n",
    "    inputs = np.array([[0, 0], [0, 1], [1, 0], [1, 1]])\n",
    "    targets = np.array([[0], [1], [1], [0]])\n",
    "    \n",
    "    # Train the neural network with backpropagation\n",
    "    epochs = 10000\n",
    "    learning_rate = 0.1\n",
    "    \n",
    "    for epoch in range(epochs):\n",
    "        for i in range(len(inputs)):\n",
    "            neural_net.backpropagation(inputs[i], targets[i], learning_rate)\n",
    "        \n",
    "        if epoch % 1000 == 0:\n",
    "            hidden_output, output = neural_net.forward_pass(inputs)\n",
    "            print(f\"Epoch {epoch}, Error: {np.mean(np.square(targets - output))}\")\n",
    "\n",
    "    # Test the trained neural network\n",
    "    hidden_output, output = neural_net.forward_pass(inputs)\n",
    "    print(\"Predictions:\")\n",
    "    print(output)\n"
   ]
  }
 ],
 "metadata": {
  "kernelspec": {
   "display_name": "python310",
   "language": "python",
   "name": "python3"
  },
  "language_info": {
   "codemirror_mode": {
    "name": "ipython",
    "version": 3
   },
   "file_extension": ".py",
   "mimetype": "text/x-python",
   "name": "python",
   "nbconvert_exporter": "python",
   "pygments_lexer": "ipython3",
   "version": "3.10.11"
  },
  "orig_nbformat": 4
 },
 "nbformat": 4,
 "nbformat_minor": 2
}
