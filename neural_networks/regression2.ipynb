{
 "cells": [
  {
   "cell_type": "code",
   "execution_count": null,
   "metadata": {},
   "outputs": [],
   "source": [
    "import numpy as np\n",
    "from keras.models import Sequential\n",
    "from keras.layers import Dense\n",
    "\n",
    "# Sample data\n",
    "data = np.array([\n",
    "    [1500, 3, 250],\n",
    "    [2000, 4, 300],\n",
    "    [1200, 2, 180],\n",
    "    [1800, 3, 280],\n",
    "    [1000, 2, 150]\n",
    "])\n",
    "\n",
    "# Split data into features (X) and labels (y)\n",
    "X = data[:, :-1]\n",
    "y = data[:, -1]\n",
    "\n",
    "# Normalize features for better training performance\n",
    "X = (X - np.mean(X, axis=0)) / np.std(X, axis=0)\n",
    "\n",
    "# Create the neural network model\n",
    "model = Sequential()\n",
    "model.add(Dense(32, input_dim=2, activation='relu'))\n",
    "model.add(Dense(16, activation='relu'))\n",
    "model.add(Dense(1, activation='linear'))\n",
    "\n",
    "# Compile the model\n",
    "model.compile(loss='mean_squared_error', optimizer='adam')\n",
    "\n",
    "# Train the model\n",
    "model.fit(X, y, epochs=1000, batch_size=2, verbose=0)\n",
    "\n",
    "# Predict the price for a new house with size 1600 sq. ft. and 3 bedrooms\n",
    "new_house = np.array([[1600, 3]])\n",
    "normalized_new_house = (new_house - np.mean(X, axis=0)) / np.std(X, axis=0)\n",
    "predicted_price = model.predict(normalized_new_house)[0][0]\n",
    "\n",
    "print(f\"Predicted price for the new house: ${predicted_price:.2f}k\")\n"
   ]
  }
 ],
 "metadata": {
  "language_info": {
   "name": "python"
  },
  "orig_nbformat": 4
 },
 "nbformat": 4,
 "nbformat_minor": 2
}
