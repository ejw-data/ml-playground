{
 "cells": [
  {
   "cell_type": "markdown",
   "metadata": {},
   "source": [
    "# Clustering with Self Organizing Maps"
   ]
  },
  {
   "cell_type": "code",
   "execution_count": null,
   "metadata": {},
   "outputs": [],
   "source": [
    "# need to fix"
   ]
  },
  {
   "cell_type": "code",
   "execution_count": null,
   "metadata": {},
   "outputs": [],
   "source": [
    "# pip install minisom"
   ]
  },
  {
   "cell_type": "code",
   "execution_count": 1,
   "metadata": {},
   "outputs": [],
   "source": [
    "# Dependencies\n",
    "import numpy as np\n",
    "from minisom import MiniSom"
   ]
  },
  {
   "cell_type": "code",
   "execution_count": 2,
   "metadata": {},
   "outputs": [],
   "source": [
    "# Generate some example data\n",
    "np.random.seed(42)\n",
    "num_samples = 1000\n",
    "x_data = np.random.rand(num_samples, 2)\n",
    "\n",
    "# Define the size of the SOM grid\n",
    "grid_size = (10, 10)  # 10x10 grid, adjust based on the problem"
   ]
  },
  {
   "cell_type": "code",
   "execution_count": 3,
   "metadata": {},
   "outputs": [
    {
     "ename": "ValueError",
     "evalue": "operands could not be broadcast together with shapes (1000,2) (10,10,2) ",
     "output_type": "error",
     "traceback": [
      "\u001b[1;31m---------------------------------------------------------------------------\u001b[0m",
      "\u001b[1;31mValueError\u001b[0m                                Traceback (most recent call last)",
      "Cell \u001b[1;32mIn[3], line 8\u001b[0m\n\u001b[0;32m      5\u001b[0m som\u001b[39m.\u001b[39mtrain_random(x_data, \u001b[39m1000\u001b[39m)  \u001b[39m# Adjust the number of epochs based on the problem\u001b[39;00m\n\u001b[0;32m      7\u001b[0m \u001b[39m# Get the cluster assignments for each data point\u001b[39;00m\n\u001b[1;32m----> 8\u001b[0m cluster_labels \u001b[39m=\u001b[39m som\u001b[39m.\u001b[39;49mwinner(x_data)\n",
      "File \u001b[1;32mc:\\Users\\ejwda\\Anaconda3\\envs\\python310\\lib\\site-packages\\minisom.py:316\u001b[0m, in \u001b[0;36mMiniSom.winner\u001b[1;34m(self, x)\u001b[0m\n\u001b[0;32m    314\u001b[0m \u001b[39mdef\u001b[39;00m \u001b[39mwinner\u001b[39m(\u001b[39mself\u001b[39m, x):\n\u001b[0;32m    315\u001b[0m \u001b[39m    \u001b[39m\u001b[39m\"\"\"Computes the coordinates of the winning neuron for the sample x.\"\"\"\u001b[39;00m\n\u001b[1;32m--> 316\u001b[0m     \u001b[39mself\u001b[39;49m\u001b[39m.\u001b[39;49m_activate(x)\n\u001b[0;32m    317\u001b[0m     \u001b[39mreturn\u001b[39;00m unravel_index(\u001b[39mself\u001b[39m\u001b[39m.\u001b[39m_activation_map\u001b[39m.\u001b[39margmin(),\n\u001b[0;32m    318\u001b[0m                          \u001b[39mself\u001b[39m\u001b[39m.\u001b[39m_activation_map\u001b[39m.\u001b[39mshape)\n",
      "File \u001b[1;32mc:\\Users\\ejwda\\Anaconda3\\envs\\python310\\lib\\site-packages\\minisom.py:250\u001b[0m, in \u001b[0;36mMiniSom._activate\u001b[1;34m(self, x)\u001b[0m\n\u001b[0;32m    247\u001b[0m \u001b[39mdef\u001b[39;00m \u001b[39m_activate\u001b[39m(\u001b[39mself\u001b[39m, x):\n\u001b[0;32m    248\u001b[0m \u001b[39m    \u001b[39m\u001b[39m\"\"\"Updates matrix activation_map, in this matrix\u001b[39;00m\n\u001b[0;32m    249\u001b[0m \u001b[39m       the element i,j is the response of the neuron i,j to x.\"\"\"\u001b[39;00m\n\u001b[1;32m--> 250\u001b[0m     \u001b[39mself\u001b[39m\u001b[39m.\u001b[39m_activation_map \u001b[39m=\u001b[39m \u001b[39mself\u001b[39;49m\u001b[39m.\u001b[39;49m_activation_distance(x, \u001b[39mself\u001b[39;49m\u001b[39m.\u001b[39;49m_weights)\n",
      "File \u001b[1;32mc:\\Users\\ejwda\\Anaconda3\\envs\\python310\\lib\\site-packages\\minisom.py:294\u001b[0m, in \u001b[0;36mMiniSom._euclidean_distance\u001b[1;34m(self, x, w)\u001b[0m\n\u001b[0;32m    293\u001b[0m \u001b[39mdef\u001b[39;00m \u001b[39m_euclidean_distance\u001b[39m(\u001b[39mself\u001b[39m, x, w):\n\u001b[1;32m--> 294\u001b[0m     \u001b[39mreturn\u001b[39;00m linalg\u001b[39m.\u001b[39mnorm(subtract(x, w), axis\u001b[39m=\u001b[39m\u001b[39m-\u001b[39m\u001b[39m1\u001b[39m)\n",
      "\u001b[1;31mValueError\u001b[0m: operands could not be broadcast together with shapes (1000,2) (10,10,2) "
     ]
    }
   ],
   "source": [
    "# Initialize the SOM\n",
    "som = MiniSom(grid_size[0], grid_size[1], 2, sigma=1.0, learning_rate=0.5, random_seed=42)\n",
    "\n",
    "# Train the SOM\n",
    "som.train_random(x_data, 1000)  # Adjust the number of epochs based on the problem\n",
    "\n",
    "# Get the cluster assignments for each data point\n",
    "cluster_labels = som.winner(x_data)"
   ]
  },
  {
   "cell_type": "code",
   "execution_count": null,
   "metadata": {},
   "outputs": [],
   "source": [
    "# Find the most common cluster for each grid position\n",
    "cluster_map = {}\n",
    "for i, j in np.ndindex(grid_size):\n",
    "    position = (i, j)\n",
    "    cluster = cluster_labels[position]\n",
    "    if cluster not in cluster_map:\n",
    "        cluster_map[cluster] = []\n",
    "    cluster_map[cluster].append(position)\n",
    "\n",
    "# Print the cluster centers and the number of data points in each cluster\n",
    "for cluster, positions in cluster_map.items():\n",
    "    cluster_center = np.mean([som.get_weights(pos) for pos in positions], axis=0)\n",
    "    num_data_points = len(positions)\n",
    "    print(f\"Cluster {cluster}: Center: {cluster_center}, Num Data Points: {num_data_points}\")\n"
   ]
  }
 ],
 "metadata": {
  "kernelspec": {
   "display_name": "python310",
   "language": "python",
   "name": "python3"
  },
  "language_info": {
   "codemirror_mode": {
    "name": "ipython",
    "version": 3
   },
   "file_extension": ".py",
   "mimetype": "text/x-python",
   "name": "python",
   "nbconvert_exporter": "python",
   "pygments_lexer": "ipython3",
   "version": "3.10.11"
  },
  "orig_nbformat": 4
 },
 "nbformat": 4,
 "nbformat_minor": 2
}
