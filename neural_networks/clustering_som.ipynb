{
 "cells": [
  {
   "cell_type": "code",
   "execution_count": null,
   "metadata": {},
   "outputs": [],
   "source": [
    "# pip install minisom\n",
    "\n",
    "import numpy as np\n",
    "from minisom import MiniSom\n",
    "\n",
    "# Generate some example data\n",
    "np.random.seed(42)\n",
    "num_samples = 1000\n",
    "x_data = np.random.rand(num_samples, 2)\n",
    "\n",
    "# Define the size of the SOM grid\n",
    "grid_size = (10, 10)  # 10x10 grid, adjust based on the problem\n",
    "\n",
    "# Initialize the SOM\n",
    "som = MiniSom(grid_size[0], grid_size[1], 2, sigma=1.0, learning_rate=0.5, random_seed=42)\n",
    "\n",
    "# Train the SOM\n",
    "som.train_random(x_data, 1000)  # Adjust the number of epochs based on the problem\n",
    "\n",
    "# Get the cluster assignments for each data point\n",
    "cluster_labels = som.winner(x_data)\n",
    "\n",
    "# Find the most common cluster for each grid position\n",
    "cluster_map = {}\n",
    "for i, j in np.ndindex(grid_size):\n",
    "    position = (i, j)\n",
    "    cluster = cluster_labels[position]\n",
    "    if cluster not in cluster_map:\n",
    "        cluster_map[cluster] = []\n",
    "    cluster_map[cluster].append(position)\n",
    "\n",
    "# Print the cluster centers and the number of data points in each cluster\n",
    "for cluster, positions in cluster_map.items():\n",
    "    cluster_center = np.mean([som.get_weights(pos) for pos in positions], axis=0)\n",
    "    num_data_points = len(positions)\n",
    "    print(f\"Cluster {cluster}: Center: {cluster_center}, Num Data Points: {num_data_points}\")\n"
   ]
  }
 ],
 "metadata": {
  "language_info": {
   "name": "python"
  },
  "orig_nbformat": 4
 },
 "nbformat": 4,
 "nbformat_minor": 2
}
