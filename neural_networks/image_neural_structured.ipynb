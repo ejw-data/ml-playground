{
 "cells": [
  {
   "cell_type": "code",
   "execution_count": null,
   "metadata": {},
   "outputs": [],
   "source": [
    "# Neural Structured Learning\n",
    "# Adversarial training on MNIST"
   ]
  },
  {
   "cell_type": "code",
   "execution_count": 1,
   "metadata": {},
   "outputs": [],
   "source": [
    "import tensorflow as tf\n",
    "import neural_structured_learning as nsl\n",
    "import numpy as np\n",
    "import matplotlib.pyplot as plt"
   ]
  },
  {
   "cell_type": "code",
   "execution_count": 2,
   "metadata": {},
   "outputs": [],
   "source": [
    "# Prepare data.\n",
    "(x_train, y_train), (x_test, y_test) = tf.keras.datasets.mnist.load_data()\n",
    "x_train, x_test = x_train / 255.0, x_test / 255.0"
   ]
  },
  {
   "cell_type": "code",
   "execution_count": 3,
   "metadata": {},
   "outputs": [
    {
     "name": "stdout",
     "output_type": "stream",
     "text": [
      "Epoch 1/5\n"
     ]
    },
    {
     "name": "stderr",
     "output_type": "stream",
     "text": [
      "WARNING:absl:Cannot perturb non-Tensor input: dict_keys(['label'])\n"
     ]
    },
    {
     "name": "stdout",
     "output_type": "stream",
     "text": [
      "1875/1875 [==============================] - 9s 3ms/step - loss: 0.3178 - sparse_categorical_crossentropy: 0.2599 - sparse_categorical_accuracy: 0.9255 - scaled_adversarial_loss: 0.0579\n",
      "Epoch 2/5\n",
      "1875/1875 [==============================] - 7s 4ms/step - loss: 0.1398 - sparse_categorical_crossentropy: 0.1130 - sparse_categorical_accuracy: 0.9665 - scaled_adversarial_loss: 0.0268\n",
      "Epoch 3/5\n",
      "1875/1875 [==============================] - 10s 5ms/step - loss: 0.0950 - sparse_categorical_crossentropy: 0.0762 - sparse_categorical_accuracy: 0.9768 - scaled_adversarial_loss: 0.0188\n",
      "Epoch 4/5\n",
      "1875/1875 [==============================] - 8s 4ms/step - loss: 0.0722 - sparse_categorical_crossentropy: 0.0575 - sparse_categorical_accuracy: 0.9826 - scaled_adversarial_loss: 0.0147\n",
      "Epoch 5/5\n",
      "1875/1875 [==============================] - 8s 4ms/step - loss: 0.0554 - sparse_categorical_crossentropy: 0.0438 - sparse_categorical_accuracy: 0.9868 - scaled_adversarial_loss: 0.0116\n"
     ]
    },
    {
     "data": {
      "text/plain": [
       "<keras.callbacks.History at 0x1b943b47910>"
      ]
     },
     "execution_count": 3,
     "metadata": {},
     "output_type": "execute_result"
    }
   ],
   "source": [
    "# Create a base model -- sequential, functional, or subclass.\n",
    "model = tf.keras.Sequential([\n",
    "    tf.keras.Input((28, 28), name='feature'),\n",
    "    tf.keras.layers.Flatten(),\n",
    "    tf.keras.layers.Dense(128, activation=tf.nn.relu),\n",
    "    tf.keras.layers.Dense(10, activation=tf.nn.softmax)\n",
    "])\n",
    "\n",
    "# Wrap the model with adversarial regularization.\n",
    "adv_config = nsl.configs.make_adv_reg_config(multiplier=0.2, adv_step_size=0.05)\n",
    "adv_model = nsl.keras.AdversarialRegularization(model, adv_config=adv_config)\n",
    "\n",
    "# Compile, train, and evaluate.\n",
    "adv_model.compile(optimizer='adam',\n",
    "                  loss='sparse_categorical_crossentropy',\n",
    "                  metrics=['accuracy'])\n",
    "adv_model.fit({'feature': x_train, 'label': y_train}, batch_size=32, epochs=5)"
   ]
  },
  {
   "cell_type": "code",
   "execution_count": 4,
   "metadata": {},
   "outputs": [
    {
     "name": "stdout",
     "output_type": "stream",
     "text": [
      "313/313 [==============================] - 1s 3ms/step - loss: 0.0852 - sparse_categorical_crossentropy: 0.0680 - sparse_categorical_accuracy: 0.9787 - scaled_adversarial_loss: 0.0172\n"
     ]
    },
    {
     "data": {
      "text/plain": [
       "[0.0852484330534935,\n",
       " 0.06800131499767303,\n",
       " 0.9786999821662903,\n",
       " 0.017247062176465988]"
      ]
     },
     "execution_count": 4,
     "metadata": {},
     "output_type": "execute_result"
    }
   ],
   "source": [
    "adv_model.evaluate({'feature': x_test, 'label': y_test})"
   ]
  },
  {
   "cell_type": "code",
   "execution_count": 6,
   "metadata": {},
   "outputs": [
    {
     "name": "stdout",
     "output_type": "stream",
     "text": [
      "313/313 [==============================] - 1s 4ms/step\n"
     ]
    },
    {
     "data": {
      "text/plain": [
       "array([[3.6578863e-06, 5.3180957e-09, 3.5456749e-05, ..., 9.9917084e-01,\n",
       "        3.4277909e-05, 5.1641444e-05],\n",
       "       [7.4972291e-07, 4.5616206e-04, 9.9949783e-01, ..., 1.6666658e-12,\n",
       "        7.5782546e-06, 5.9589139e-12],\n",
       "       [5.3014622e-07, 9.9856699e-01, 3.9704606e-05, ..., 1.0327970e-03,\n",
       "        3.2499281e-04, 1.4462719e-06],\n",
       "       ...,\n",
       "       [4.8597119e-14, 7.1762396e-12, 4.9002122e-13, ..., 2.1588377e-07,\n",
       "        3.6182496e-07, 2.8477411e-06],\n",
       "       [5.8013015e-08, 5.1282778e-09, 1.2403303e-10, ..., 3.4548314e-08,\n",
       "        6.6566071e-04, 1.0118247e-09],\n",
       "       [6.1301075e-09, 1.1593574e-13, 9.6833785e-10, ..., 6.7378408e-11,\n",
       "        1.3778864e-11, 6.7313373e-12]], dtype=float32)"
      ]
     },
     "execution_count": 6,
     "metadata": {},
     "output_type": "execute_result"
    }
   ],
   "source": [
    "Y_pred_test=adv_model.predict({'feature': x_test, 'label': y_test})\n",
    "Y_pred_test"
   ]
  }
 ],
 "metadata": {
  "kernelspec": {
   "display_name": "python310",
   "language": "python",
   "name": "python3"
  },
  "language_info": {
   "codemirror_mode": {
    "name": "ipython",
    "version": 3
   },
   "file_extension": ".py",
   "mimetype": "text/x-python",
   "name": "python",
   "nbconvert_exporter": "python",
   "pygments_lexer": "ipython3",
   "version": "3.10.11"
  },
  "orig_nbformat": 4
 },
 "nbformat": 4,
 "nbformat_minor": 2
}
