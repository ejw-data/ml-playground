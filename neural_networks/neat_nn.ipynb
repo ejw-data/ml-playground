{
 "cells": [
  {
   "cell_type": "code",
   "execution_count": null,
   "metadata": {},
   "outputs": [],
   "source": [
    "# pip install neat-python\n",
    "\n",
    "import numpy as np\n",
    "import neat\n",
    "import os\n",
    "\n",
    "# Define the XOR function\n",
    "def xor(x, y):\n",
    "    return int((x or y) and not (x and y))\n",
    "\n",
    "# XOR problem data\n",
    "x_data = np.array([[0, 0], [0, 1], [1, 0], [1, 1]])\n",
    "y_data = np.array([xor(x[0], x[1]) for x in x_data])\n",
    "\n",
    "# Function to evaluate the fitness of a genome\n",
    "def eval_genome(genome, config):\n",
    "    net = neat.nn.FeedForwardNetwork.create(genome, config)\n",
    "    total_error = 0.0\n",
    "    for x, y in zip(x_data, y_data):\n",
    "        output = net.activate(x)\n",
    "        total_error += (output[0] - y) ** 2\n",
    "    return 4.0 - total_error,\n",
    "\n",
    "# NEAT configuration file\n",
    "config_path = os.path.join(os.path.dirname(__file__), 'neat_config.txt')\n",
    "config = neat.Config(neat.DefaultGenome, neat.DefaultReproduction,\n",
    "                     neat.DefaultSpeciesSet, neat.DefaultStagnation,\n",
    "                     config_path)\n",
    "\n",
    "# Create the population and run the evolution\n",
    "population = neat.Population(config)\n",
    "\n",
    "# Report progress to the console\n",
    "reporter = neat.StdOutReporter(True)\n",
    "population.add_reporter(reporter)\n",
    "\n",
    "# Run the NEAT algorithm for a specified number of generations\n",
    "num_generations = 100\n",
    "winner = population.run(eval_genome, num_generations)\n",
    "\n",
    "# Show the best neural network's performance on the XOR problem\n",
    "best_net = neat.nn.FeedForwardNetwork.create(winner, config)\n",
    "for x, y in zip(x_data, y_data):\n",
    "    output = best_net.activate(x)\n",
    "    print(f\"Input: {x}, Output: {output}, Target: {y}\")\n"
   ]
  }
 ],
 "metadata": {
  "language_info": {
   "name": "python"
  },
  "orig_nbformat": 4
 },
 "nbformat": 4,
 "nbformat_minor": 2
}
