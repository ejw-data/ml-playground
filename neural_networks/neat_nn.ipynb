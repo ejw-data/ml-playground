{
 "cells": [
  {
   "cell_type": "code",
   "execution_count": null,
   "metadata": {},
   "outputs": [],
   "source": [
    "# Config file needs fixed"
   ]
  },
  {
   "cell_type": "code",
   "execution_count": null,
   "metadata": {},
   "outputs": [],
   "source": [
    "# pip install neat-python"
   ]
  },
  {
   "cell_type": "code",
   "execution_count": 1,
   "metadata": {},
   "outputs": [],
   "source": [
    "# Dependencies\n",
    "import numpy as np\n",
    "import neat\n",
    "import os"
   ]
  },
  {
   "cell_type": "code",
   "execution_count": 2,
   "metadata": {},
   "outputs": [],
   "source": [
    "# Define the XOR function\n",
    "def xor(x, y):\n",
    "    return int((x or y) and not (x and y))"
   ]
  },
  {
   "cell_type": "code",
   "execution_count": 3,
   "metadata": {},
   "outputs": [],
   "source": [
    "# XOR problem data\n",
    "x_data = np.array([[0, 0], [0, 1], [1, 0], [1, 1]])\n",
    "y_data = np.array([xor(x[0], x[1]) for x in x_data])"
   ]
  },
  {
   "cell_type": "code",
   "execution_count": 4,
   "metadata": {},
   "outputs": [],
   "source": [
    "# Function to evaluate the fitness of a genome\n",
    "def eval_genome(genome, config):\n",
    "    net = neat.nn.FeedForwardNetwork.create(genome, config)\n",
    "    total_error = 0.0\n",
    "    for x, y in zip(x_data, y_data):\n",
    "        output = net.activate(x)\n",
    "        total_error += (output[0] - y) ** 2\n",
    "    return 4.0 - total_error,"
   ]
  },
  {
   "cell_type": "code",
   "execution_count": 11,
   "metadata": {},
   "outputs": [
    {
     "ename": "RuntimeError",
     "evalue": "Missing configuration item: feed_forward",
     "output_type": "error",
     "traceback": [
      "\u001b[1;31m---------------------------------------------------------------------------\u001b[0m",
      "\u001b[1;31mRuntimeError\u001b[0m                              Traceback (most recent call last)",
      "Cell \u001b[1;32mIn[11], line 3\u001b[0m\n\u001b[0;32m      1\u001b[0m \u001b[39m# NEAT configuration file\u001b[39;00m\n\u001b[0;32m      2\u001b[0m config_path \u001b[39m=\u001b[39m os\u001b[39m.\u001b[39mpath\u001b[39m.\u001b[39mjoin(os\u001b[39m.\u001b[39mgetcwd(), \u001b[39m'\u001b[39m\u001b[39mneat_config.txt\u001b[39m\u001b[39m'\u001b[39m)\n\u001b[1;32m----> 3\u001b[0m config \u001b[39m=\u001b[39m neat\u001b[39m.\u001b[39;49mConfig(neat\u001b[39m.\u001b[39;49mDefaultGenome, neat\u001b[39m.\u001b[39;49mDefaultReproduction,\n\u001b[0;32m      4\u001b[0m                      neat\u001b[39m.\u001b[39;49mDefaultSpeciesSet, neat\u001b[39m.\u001b[39;49mDefaultStagnation,\n\u001b[0;32m      5\u001b[0m                      config_path)\n",
      "File \u001b[1;32mc:\\Users\\ejwda\\Anaconda3\\envs\\python310\\lib\\site-packages\\neat\\config.py:189\u001b[0m, in \u001b[0;36mConfig.__init__\u001b[1;34m(self, genome_type, reproduction_type, species_set_type, stagnation_type, filename)\u001b[0m\n\u001b[0;32m    187\u001b[0m \u001b[39m# Parse type sections.\u001b[39;00m\n\u001b[0;32m    188\u001b[0m genome_dict \u001b[39m=\u001b[39m \u001b[39mdict\u001b[39m(parameters\u001b[39m.\u001b[39mitems(genome_type\u001b[39m.\u001b[39m\u001b[39m__name__\u001b[39m))\n\u001b[1;32m--> 189\u001b[0m \u001b[39mself\u001b[39m\u001b[39m.\u001b[39mgenome_config \u001b[39m=\u001b[39m genome_type\u001b[39m.\u001b[39;49mparse_config(genome_dict)\n\u001b[0;32m    191\u001b[0m species_set_dict \u001b[39m=\u001b[39m \u001b[39mdict\u001b[39m(parameters\u001b[39m.\u001b[39mitems(species_set_type\u001b[39m.\u001b[39m\u001b[39m__name__\u001b[39m))\n\u001b[0;32m    192\u001b[0m \u001b[39mself\u001b[39m\u001b[39m.\u001b[39mspecies_set_config \u001b[39m=\u001b[39m species_set_type\u001b[39m.\u001b[39mparse_config(species_set_dict)\n",
      "File \u001b[1;32mc:\\Users\\ejwda\\Anaconda3\\envs\\python310\\lib\\site-packages\\neat\\genome.py:158\u001b[0m, in \u001b[0;36mDefaultGenome.parse_config\u001b[1;34m(cls, param_dict)\u001b[0m\n\u001b[0;32m    156\u001b[0m param_dict[\u001b[39m'\u001b[39m\u001b[39mnode_gene_type\u001b[39m\u001b[39m'\u001b[39m] \u001b[39m=\u001b[39m DefaultNodeGene\n\u001b[0;32m    157\u001b[0m param_dict[\u001b[39m'\u001b[39m\u001b[39mconnection_gene_type\u001b[39m\u001b[39m'\u001b[39m] \u001b[39m=\u001b[39m DefaultConnectionGene\n\u001b[1;32m--> 158\u001b[0m \u001b[39mreturn\u001b[39;00m DefaultGenomeConfig(param_dict)\n",
      "File \u001b[1;32mc:\\Users\\ejwda\\Anaconda3\\envs\\python310\\lib\\site-packages\\neat\\genome.py:53\u001b[0m, in \u001b[0;36mDefaultGenomeConfig.__init__\u001b[1;34m(self, params)\u001b[0m\n\u001b[0;32m     51\u001b[0m \u001b[39m# Use the configuration data to interpret the supplied parameters.\u001b[39;00m\n\u001b[0;32m     52\u001b[0m \u001b[39mfor\u001b[39;00m p \u001b[39min\u001b[39;00m \u001b[39mself\u001b[39m\u001b[39m.\u001b[39m_params:\n\u001b[1;32m---> 53\u001b[0m     \u001b[39msetattr\u001b[39m(\u001b[39mself\u001b[39m, p\u001b[39m.\u001b[39mname, p\u001b[39m.\u001b[39;49minterpret(params))\n\u001b[0;32m     55\u001b[0m \u001b[39m# By convention, input pins have negative keys, and the output\u001b[39;00m\n\u001b[0;32m     56\u001b[0m \u001b[39m# pins have keys 0,1,...\u001b[39;00m\n\u001b[0;32m     57\u001b[0m \u001b[39mself\u001b[39m\u001b[39m.\u001b[39minput_keys \u001b[39m=\u001b[39m [\u001b[39m-\u001b[39mi \u001b[39m-\u001b[39m \u001b[39m1\u001b[39m \u001b[39mfor\u001b[39;00m i \u001b[39min\u001b[39;00m \u001b[39mrange\u001b[39m(\u001b[39mself\u001b[39m\u001b[39m.\u001b[39mnum_inputs)]\n",
      "File \u001b[1;32mc:\\Users\\ejwda\\Anaconda3\\envs\\python310\\lib\\site-packages\\neat\\config.py:54\u001b[0m, in \u001b[0;36mConfigParameter.interpret\u001b[1;34m(self, config_dict)\u001b[0m\n\u001b[0;32m     52\u001b[0m \u001b[39mif\u001b[39;00m value \u001b[39mis\u001b[39;00m \u001b[39mNone\u001b[39;00m:\n\u001b[0;32m     53\u001b[0m     \u001b[39mif\u001b[39;00m \u001b[39mself\u001b[39m\u001b[39m.\u001b[39mdefault \u001b[39mis\u001b[39;00m \u001b[39mNone\u001b[39;00m:\n\u001b[1;32m---> 54\u001b[0m         \u001b[39mraise\u001b[39;00m \u001b[39mRuntimeError\u001b[39;00m(\u001b[39m'\u001b[39m\u001b[39mMissing configuration item: \u001b[39m\u001b[39m'\u001b[39m \u001b[39m+\u001b[39m \u001b[39mself\u001b[39m\u001b[39m.\u001b[39mname)\n\u001b[0;32m     55\u001b[0m     \u001b[39melse\u001b[39;00m:\n\u001b[0;32m     56\u001b[0m         warnings\u001b[39m.\u001b[39mwarn(\u001b[39m\"\u001b[39m\u001b[39mUsing default \u001b[39m\u001b[39m{!r}\u001b[39;00m\u001b[39m for \u001b[39m\u001b[39m'\u001b[39m\u001b[39m{!s}\u001b[39;00m\u001b[39m'\u001b[39m\u001b[39m\"\u001b[39m\u001b[39m.\u001b[39mformat(\u001b[39mself\u001b[39m\u001b[39m.\u001b[39mdefault, \u001b[39mself\u001b[39m\u001b[39m.\u001b[39mname),\n\u001b[0;32m     57\u001b[0m                       \u001b[39mDeprecationWarning\u001b[39;00m)\n",
      "\u001b[1;31mRuntimeError\u001b[0m: Missing configuration item: feed_forward"
     ]
    }
   ],
   "source": [
    "# NEAT configuration file\n",
    "config_path = os.path.join(os.getcwd(), 'neat_config.txt')\n",
    "config = neat.Config(neat.DefaultGenome, neat.DefaultReproduction,\n",
    "                     neat.DefaultSpeciesSet, neat.DefaultStagnation,\n",
    "                     config_path)"
   ]
  },
  {
   "cell_type": "code",
   "execution_count": null,
   "metadata": {},
   "outputs": [],
   "source": [
    "# Create the population and run the evolution\n",
    "population = neat.Population(config)\n",
    "\n",
    "# Report progress to the console\n",
    "reporter = neat.StdOutReporter(True)\n",
    "population.add_reporter(reporter)\n",
    "\n",
    "# Run the NEAT algorithm for a specified number of generations\n",
    "num_generations = 100\n",
    "winner = population.run(eval_genome, num_generations)"
   ]
  },
  {
   "cell_type": "code",
   "execution_count": null,
   "metadata": {},
   "outputs": [],
   "source": [
    "# Show the best neural network's performance on the XOR problem\n",
    "best_net = neat.nn.FeedForwardNetwork.create(winner, config)\n",
    "for x, y in zip(x_data, y_data):\n",
    "    output = best_net.activate(x)\n",
    "    print(f\"Input: {x}, Output: {output}, Target: {y}\")\n"
   ]
  }
 ],
 "metadata": {
  "kernelspec": {
   "display_name": "python310",
   "language": "python",
   "name": "python3"
  },
  "language_info": {
   "codemirror_mode": {
    "name": "ipython",
    "version": 3
   },
   "file_extension": ".py",
   "mimetype": "text/x-python",
   "name": "python",
   "nbconvert_exporter": "python",
   "pygments_lexer": "ipython3",
   "version": "3.10.11"
  },
  "orig_nbformat": 4
 },
 "nbformat": 4,
 "nbformat_minor": 2
}
