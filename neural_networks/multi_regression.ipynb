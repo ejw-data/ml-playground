{
 "cells": [
  {
   "cell_type": "markdown",
   "metadata": {},
   "source": [
    "# Linear Multi-Regression"
   ]
  },
  {
   "cell_type": "code",
   "execution_count": 1,
   "metadata": {},
   "outputs": [],
   "source": [
    "# Dependencies\n",
    "import numpy as np\n",
    "import keras\n",
    "from keras.models import Sequential\n",
    "from keras.layers import Dense"
   ]
  },
  {
   "cell_type": "code",
   "execution_count": 2,
   "metadata": {},
   "outputs": [],
   "source": [
    "# Generate some example data\n",
    "np.random.seed(42)\n",
    "num_samples = 1000\n",
    "x_data = np.random.rand(num_samples, 3)  # Three input features (change as needed)\n",
    "# Assuming a linear relationship: y = 2x1 + 3x2 - 1.5x3 + noise\n",
    "y_data = 2 * x_data[:, 0] + 3 * x_data[:, 1] - 1.5 * x_data[:, 2] + np.random.randn(num_samples) * 0.5"
   ]
  },
  {
   "cell_type": "code",
   "execution_count": 3,
   "metadata": {},
   "outputs": [
    {
     "name": "stdout",
     "output_type": "stream",
     "text": [
      "Epoch 1/50\n",
      "32/32 [==============================] - 0s 1ms/step - loss: 6.5862\n",
      "Epoch 2/50\n",
      "32/32 [==============================] - 0s 2ms/step - loss: 6.2154\n",
      "Epoch 3/50\n",
      "32/32 [==============================] - 0s 1ms/step - loss: 5.8611\n",
      "Epoch 4/50\n",
      "32/32 [==============================] - 0s 1ms/step - loss: 5.5261\n",
      "Epoch 5/50\n",
      "32/32 [==============================] - 0s 1ms/step - loss: 5.2119\n",
      "Epoch 6/50\n",
      "32/32 [==============================] - 0s 1ms/step - loss: 4.9106\n",
      "Epoch 7/50\n",
      "32/32 [==============================] - 0s 1ms/step - loss: 4.6272\n",
      "Epoch 8/50\n",
      "32/32 [==============================] - 0s 1ms/step - loss: 4.3574\n",
      "Epoch 9/50\n",
      "32/32 [==============================] - 0s 1ms/step - loss: 4.1047\n",
      "Epoch 10/50\n",
      "32/32 [==============================] - 0s 1ms/step - loss: 3.8664\n",
      "Epoch 11/50\n",
      "32/32 [==============================] - 0s 1ms/step - loss: 3.6401\n",
      "Epoch 12/50\n",
      "32/32 [==============================] - 0s 1ms/step - loss: 3.4334\n",
      "Epoch 13/50\n",
      "32/32 [==============================] - 0s 1ms/step - loss: 3.2376\n",
      "Epoch 14/50\n",
      "32/32 [==============================] - 0s 2ms/step - loss: 3.0527\n",
      "Epoch 15/50\n",
      "32/32 [==============================] - 0s 2ms/step - loss: 2.8812\n",
      "Epoch 16/50\n",
      "32/32 [==============================] - 0s 2ms/step - loss: 2.7194\n",
      "Epoch 17/50\n",
      "32/32 [==============================] - 0s 2ms/step - loss: 2.5705\n",
      "Epoch 18/50\n",
      "32/32 [==============================] - 0s 2ms/step - loss: 2.4311\n",
      "Epoch 19/50\n",
      "32/32 [==============================] - 0s 2ms/step - loss: 2.3022\n",
      "Epoch 20/50\n",
      "32/32 [==============================] - 0s 2ms/step - loss: 2.1818\n",
      "Epoch 21/50\n",
      "32/32 [==============================] - 0s 2ms/step - loss: 2.0704\n",
      "Epoch 22/50\n",
      "32/32 [==============================] - 0s 2ms/step - loss: 1.9692\n",
      "Epoch 23/50\n",
      "32/32 [==============================] - 0s 2ms/step - loss: 1.8740\n",
      "Epoch 24/50\n",
      "32/32 [==============================] - 0s 1ms/step - loss: 1.7869\n",
      "Epoch 25/50\n",
      "32/32 [==============================] - 0s 1ms/step - loss: 1.7049\n",
      "Epoch 26/50\n",
      "32/32 [==============================] - 0s 2ms/step - loss: 1.6315\n",
      "Epoch 27/50\n",
      "32/32 [==============================] - 0s 2ms/step - loss: 1.5625\n",
      "Epoch 28/50\n",
      "32/32 [==============================] - 0s 2ms/step - loss: 1.5007\n",
      "Epoch 29/50\n",
      "32/32 [==============================] - 0s 782us/step - loss: 1.4435\n",
      "Epoch 30/50\n",
      "32/32 [==============================] - 0s 1ms/step - loss: 1.3921\n",
      "Epoch 31/50\n",
      "32/32 [==============================] - 0s 1ms/step - loss: 1.3427\n",
      "Epoch 32/50\n",
      "32/32 [==============================] - 0s 1ms/step - loss: 1.2989\n",
      "Epoch 33/50\n",
      "32/32 [==============================] - 0s 1ms/step - loss: 1.2589\n",
      "Epoch 34/50\n",
      "32/32 [==============================] - 0s 1ms/step - loss: 1.2229\n",
      "Epoch 35/50\n",
      "32/32 [==============================] - 0s 1ms/step - loss: 1.1896\n",
      "Epoch 36/50\n",
      "32/32 [==============================] - 0s 1ms/step - loss: 1.1594\n",
      "Epoch 37/50\n",
      "32/32 [==============================] - 0s 1ms/step - loss: 1.1321\n",
      "Epoch 38/50\n",
      "32/32 [==============================] - 0s 1ms/step - loss: 1.1075\n",
      "Epoch 39/50\n",
      "32/32 [==============================] - 0s 1ms/step - loss: 1.0848\n",
      "Epoch 40/50\n",
      "32/32 [==============================] - 0s 1ms/step - loss: 1.0632\n",
      "Epoch 41/50\n",
      "32/32 [==============================] - 0s 1ms/step - loss: 1.0451\n",
      "Epoch 42/50\n",
      "32/32 [==============================] - 0s 1ms/step - loss: 1.0276\n",
      "Epoch 43/50\n",
      "32/32 [==============================] - 0s 1ms/step - loss: 1.0123\n",
      "Epoch 44/50\n",
      "32/32 [==============================] - 0s 998us/step - loss: 0.9977\n",
      "Epoch 45/50\n",
      "32/32 [==============================] - 0s 3ms/step - loss: 0.9846\n",
      "Epoch 46/50\n",
      "32/32 [==============================] - 0s 1ms/step - loss: 0.9722\n",
      "Epoch 47/50\n",
      "32/32 [==============================] - 0s 1ms/step - loss: 0.9609\n",
      "Epoch 48/50\n",
      "32/32 [==============================] - 0s 1ms/step - loss: 0.9498\n",
      "Epoch 49/50\n",
      "32/32 [==============================] - 0s 1ms/step - loss: 0.9394\n",
      "Epoch 50/50\n",
      "32/32 [==============================] - 0s 1ms/step - loss: 0.9298\n"
     ]
    },
    {
     "data": {
      "text/plain": [
       "<keras.callbacks.History at 0x280dd2455a0>"
      ]
     },
     "execution_count": 3,
     "metadata": {},
     "output_type": "execute_result"
    }
   ],
   "source": [
    "# Build the neural network\n",
    "model = Sequential()\n",
    "model.add(Dense(units=1, input_shape=(3,)))  # Three input neurons, one output neuron\n",
    "model.compile(optimizer='adam', loss='mean_squared_error')\n",
    "\n",
    "# Train the neural network\n",
    "model.fit(x_data, y_data, epochs=50, batch_size=32)"
   ]
  },
  {
   "cell_type": "code",
   "execution_count": 4,
   "metadata": {},
   "outputs": [
    {
     "name": "stdout",
     "output_type": "stream",
     "text": [
      "Learned Coefficients:\n",
      "Coefficient for x1: 1.4475085735321045\n",
      "Coefficient for x2: 0.550787091255188\n",
      "Coefficient for x3: -0.40437665581703186\n"
     ]
    }
   ],
   "source": [
    "# Get the learned coefficients (weights) from the neural network\n",
    "weights = model.get_weights()\n",
    "coefficients = weights[0].flatten()\n",
    "\n",
    "# Print the learned coefficients (best fit line)\n",
    "print(\"Learned Coefficients:\")\n",
    "print(f\"Coefficient for x1: {coefficients[0]}\")\n",
    "print(f\"Coefficient for x2: {coefficients[1]}\")\n",
    "print(f\"Coefficient for x3: {coefficients[2]}\")\n"
   ]
  }
 ],
 "metadata": {
  "kernelspec": {
   "display_name": "python310",
   "language": "python",
   "name": "python3"
  },
  "language_info": {
   "codemirror_mode": {
    "name": "ipython",
    "version": 3
   },
   "file_extension": ".py",
   "mimetype": "text/x-python",
   "name": "python",
   "nbconvert_exporter": "python",
   "pygments_lexer": "ipython3",
   "version": "3.10.11"
  },
  "orig_nbformat": 4
 },
 "nbformat": 4,
 "nbformat_minor": 2
}
