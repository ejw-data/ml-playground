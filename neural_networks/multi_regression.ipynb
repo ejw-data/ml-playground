{
 "cells": [
  {
   "cell_type": "code",
   "execution_count": null,
   "metadata": {},
   "outputs": [],
   "source": [
    "import numpy as np\n",
    "import keras\n",
    "from keras.models import Sequential\n",
    "from keras.layers import Dense\n",
    "\n",
    "# Generate some example data\n",
    "np.random.seed(42)\n",
    "num_samples = 1000\n",
    "x_data = np.random.rand(num_samples, 3)  # Three input features (change as needed)\n",
    "# Assuming a linear relationship: y = 2x1 + 3x2 - 1.5x3 + noise\n",
    "y_data = 2 * x_data[:, 0] + 3 * x_data[:, 1] - 1.5 * x_data[:, 2] + np.random.randn(num_samples) * 0.5\n",
    "\n",
    "# Build the neural network\n",
    "model = Sequential()\n",
    "model.add(Dense(units=1, input_shape=(3,)))  # Three input neurons, one output neuron\n",
    "model.compile(optimizer='adam', loss='mean_squared_error')\n",
    "\n",
    "# Train the neural network\n",
    "model.fit(x_data, y_data, epochs=50, batch_size=32)\n",
    "\n",
    "# Get the learned coefficients (weights) from the neural network\n",
    "weights = model.get_weights()\n",
    "coefficients = weights[0].flatten()\n",
    "\n",
    "# Print the learned coefficients (best fit line)\n",
    "print(\"Learned Coefficients:\")\n",
    "print(f\"Coefficient for x1: {coefficients[0]}\")\n",
    "print(f\"Coefficient for x2: {coefficients[1]}\")\n",
    "print(f\"Coefficient for x3: {coefficients[2]}\")\n"
   ]
  }
 ],
 "metadata": {
  "language_info": {
   "name": "python"
  },
  "orig_nbformat": 4
 },
 "nbformat": 4,
 "nbformat_minor": 2
}
