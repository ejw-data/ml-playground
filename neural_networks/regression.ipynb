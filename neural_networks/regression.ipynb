{
 "cells": [
  {
   "cell_type": "code",
   "execution_count": 1,
   "metadata": {},
   "outputs": [],
   "source": [
    "# Dependencies\n",
    "import numpy as np\n",
    "import keras\n",
    "from keras.models import Sequential\n",
    "from keras.layers import Dense"
   ]
  },
  {
   "cell_type": "code",
   "execution_count": 2,
   "metadata": {},
   "outputs": [
    {
     "name": "stdout",
     "output_type": "stream",
     "text": [
      "Epoch 1/50\n",
      "32/32 [==============================] - 0s 1ms/step - loss: 4.6352\n",
      "Epoch 2/50\n",
      "32/32 [==============================] - 0s 2ms/step - loss: 4.4315\n",
      "Epoch 3/50\n",
      "32/32 [==============================] - 0s 2ms/step - loss: 4.2345\n",
      "Epoch 4/50\n",
      "32/32 [==============================] - 0s 1ms/step - loss: 4.0446\n",
      "Epoch 5/50\n",
      "32/32 [==============================] - 0s 1ms/step - loss: 3.8609\n",
      "Epoch 6/50\n",
      "32/32 [==============================] - 0s 1ms/step - loss: 3.6840\n",
      "Epoch 7/50\n",
      "32/32 [==============================] - 0s 2ms/step - loss: 3.5132\n",
      "Epoch 8/50\n",
      "32/32 [==============================] - 0s 2ms/step - loss: 3.3486\n",
      "Epoch 9/50\n",
      "32/32 [==============================] - 0s 2ms/step - loss: 3.1896\n",
      "Epoch 10/50\n",
      "32/32 [==============================] - 0s 2ms/step - loss: 3.0366\n",
      "Epoch 11/50\n",
      "32/32 [==============================] - 0s 2ms/step - loss: 2.8909\n",
      "Epoch 12/50\n",
      "32/32 [==============================] - 0s 2ms/step - loss: 2.7506\n",
      "Epoch 13/50\n",
      "32/32 [==============================] - 0s 2ms/step - loss: 2.6143\n",
      "Epoch 14/50\n",
      "32/32 [==============================] - 0s 2ms/step - loss: 2.4837\n",
      "Epoch 15/50\n",
      "32/32 [==============================] - 0s 804us/step - loss: 2.3580\n",
      "Epoch 16/50\n",
      "32/32 [==============================] - 0s 885us/step - loss: 2.2373\n",
      "Epoch 17/50\n",
      "32/32 [==============================] - 0s 2ms/step - loss: 2.1224\n",
      "Epoch 18/50\n",
      "32/32 [==============================] - 0s 2ms/step - loss: 2.0121\n",
      "Epoch 19/50\n",
      "32/32 [==============================] - 0s 1ms/step - loss: 1.9059\n",
      "Epoch 20/50\n",
      "32/32 [==============================] - 0s 2ms/step - loss: 1.8037\n",
      "Epoch 21/50\n",
      "32/32 [==============================] - 0s 2ms/step - loss: 1.7063\n",
      "Epoch 22/50\n",
      "32/32 [==============================] - 0s 1ms/step - loss: 1.6128\n",
      "Epoch 23/50\n",
      "32/32 [==============================] - 0s 1ms/step - loss: 1.5237\n",
      "Epoch 24/50\n",
      "32/32 [==============================] - 0s 1ms/step - loss: 1.4390\n",
      "Epoch 25/50\n",
      "32/32 [==============================] - 0s 1ms/step - loss: 1.3570\n",
      "Epoch 26/50\n",
      "32/32 [==============================] - 0s 1ms/step - loss: 1.2800\n",
      "Epoch 27/50\n",
      "32/32 [==============================] - 0s 1ms/step - loss: 1.2066\n",
      "Epoch 28/50\n",
      "32/32 [==============================] - 0s 1ms/step - loss: 1.1367\n",
      "Epoch 29/50\n",
      "32/32 [==============================] - 0s 1ms/step - loss: 1.0696\n",
      "Epoch 30/50\n",
      "32/32 [==============================] - 0s 1ms/step - loss: 1.0067\n",
      "Epoch 31/50\n",
      "32/32 [==============================] - 0s 1ms/step - loss: 0.9471\n",
      "Epoch 32/50\n",
      "32/32 [==============================] - 0s 1ms/step - loss: 0.8898\n",
      "Epoch 33/50\n",
      "32/32 [==============================] - 0s 1ms/step - loss: 0.8356\n",
      "Epoch 34/50\n",
      "32/32 [==============================] - 0s 1ms/step - loss: 0.7842\n",
      "Epoch 35/50\n",
      "32/32 [==============================] - 0s 1ms/step - loss: 0.7360\n",
      "Epoch 36/50\n",
      "32/32 [==============================] - 0s 997us/step - loss: 0.6906\n",
      "Epoch 37/50\n",
      "32/32 [==============================] - 0s 1ms/step - loss: 0.6472\n",
      "Epoch 38/50\n",
      "32/32 [==============================] - 0s 997us/step - loss: 0.6063\n",
      "Epoch 39/50\n",
      "32/32 [==============================] - 0s 1ms/step - loss: 0.5680\n",
      "Epoch 40/50\n",
      "32/32 [==============================] - 0s 1ms/step - loss: 0.5317\n",
      "Epoch 41/50\n",
      "32/32 [==============================] - 0s 2ms/step - loss: 0.4980\n",
      "Epoch 42/50\n",
      "32/32 [==============================] - 0s 1ms/step - loss: 0.4660\n",
      "Epoch 43/50\n",
      "32/32 [==============================] - 0s 1ms/step - loss: 0.4360\n",
      "Epoch 44/50\n",
      "32/32 [==============================] - 0s 1ms/step - loss: 0.4078\n",
      "Epoch 45/50\n",
      "32/32 [==============================] - 0s 1ms/step - loss: 0.3814\n",
      "Epoch 46/50\n",
      "32/32 [==============================] - 0s 1ms/step - loss: 0.3566\n",
      "Epoch 47/50\n",
      "32/32 [==============================] - 0s 863us/step - loss: 0.3337\n",
      "Epoch 48/50\n",
      "32/32 [==============================] - 0s 1ms/step - loss: 0.3124\n",
      "Epoch 49/50\n",
      "32/32 [==============================] - 0s 1ms/step - loss: 0.2925\n",
      "Epoch 50/50\n",
      "32/32 [==============================] - 0s 1ms/step - loss: 0.2742\n"
     ]
    },
    {
     "data": {
      "text/plain": [
       "<keras.callbacks.History at 0x1cb2e7e1c90>"
      ]
     },
     "execution_count": 2,
     "metadata": {},
     "output_type": "execute_result"
    }
   ],
   "source": [
    "# Generate some data for training\n",
    "x_train = np.random.rand(1000)  # Random values between 0 and 1\n",
    "y_train = 2 * x_train + 1 + np.random.randn(1000) * 0.2  # y = 2x + 1 with some noise\n",
    "\n",
    "# Build the neural network\n",
    "model = Sequential()\n",
    "model.add(Dense(units=1, input_shape=(1,)))  # One input neuron, one output neuron\n",
    "model.compile(optimizer='adam', loss='mean_squared_error')\n",
    "\n",
    "# Train the neural network\n",
    "model.fit(x_train, y_train, epochs=50, batch_size=32)"
   ]
  },
  {
   "cell_type": "code",
   "execution_count": 3,
   "metadata": {},
   "outputs": [
    {
     "name": "stdout",
     "output_type": "stream",
     "text": [
      "1/1 [==============================] - 0s 86ms/step\n",
      "Predictions:\n",
      "[1.2211326 1.6140617 2.006991 ]\n"
     ]
    }
   ],
   "source": [
    "# Generate some test data\n",
    "x_test = np.array([0.1, 0.5, 0.9])\n",
    "\n",
    "# Make predictions\n",
    "predictions = model.predict(x_test)\n",
    "\n",
    "print(\"Predictions:\")\n",
    "print(predictions.flatten())"
   ]
  }
 ],
 "metadata": {
  "kernelspec": {
   "display_name": "python310",
   "language": "python",
   "name": "python3"
  },
  "language_info": {
   "codemirror_mode": {
    "name": "ipython",
    "version": 3
   },
   "file_extension": ".py",
   "mimetype": "text/x-python",
   "name": "python",
   "nbconvert_exporter": "python",
   "pygments_lexer": "ipython3",
   "version": "3.10.11"
  },
  "orig_nbformat": 4
 },
 "nbformat": 4,
 "nbformat_minor": 2
}
