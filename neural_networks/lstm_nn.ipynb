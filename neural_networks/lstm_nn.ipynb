{
 "cells": [
  {
   "cell_type": "code",
   "execution_count": null,
   "metadata": {},
   "outputs": [],
   "source": [
    "import numpy as np\n",
    "from keras.models import Sequential\n",
    "from keras.layers import LSTM, Dense\n",
    "\n",
    "# Sample time series data (temperature readings)\n",
    "data = np.array([15, 16, 17, 18, 20, 22, 21, 19, 18, 17, 16, 15])\n",
    "\n",
    "# Function to create dataset for LSTM\n",
    "def create_dataset(data, look_back=1):\n",
    "    X, y = [], []\n",
    "    for i in range(len(data) - look_back):\n",
    "        X.append(data[i:i+look_back])\n",
    "        y.append(data[i+look_back])\n",
    "    return np.array(X), np.array(y)\n",
    "\n",
    "# Define the number of previous time steps to use for prediction\n",
    "look_back = 3\n",
    "\n",
    "# Create the dataset for LSTM\n",
    "X, y = create_dataset(data, look_back)\n",
    "\n",
    "# Reshape the input data for LSTM [samples, time steps, features]\n",
    "X = np.reshape(X, (X.shape[0], look_back, 1))\n",
    "\n",
    "# Create the LSTM model\n",
    "model = Sequential()\n",
    "model.add(LSTM(4, input_shape=(look_back, 1)))\n",
    "model.add(Dense(1))\n",
    "model.compile(loss='mean_squared_error', optimizer='adam')\n",
    "\n",
    "# Train the model\n",
    "model.fit(X, y, epochs=100, batch_size=1, verbose=2)\n",
    "\n",
    "# Predict the temperature for the next time step\n",
    "last_three_temperatures = np.array([19, 18, 17])  # Use the last 3 known temperatures\n",
    "input_data = np.reshape(last_three_temperatures, (1, look_back, 1))\n",
    "predicted_temperature = model.predict(input_data)[0][0]\n",
    "\n",
    "print(f\"Predicted temperature for the next time step: {predicted_temperature:.2f}°C\")\n"
   ]
  }
 ],
 "metadata": {
  "language_info": {
   "name": "python"
  },
  "orig_nbformat": 4
 },
 "nbformat": 4,
 "nbformat_minor": 2
}
