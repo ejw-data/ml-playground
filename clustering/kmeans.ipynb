{
 "cells": [
  {
   "cell_type": "code",
   "execution_count": null,
   "metadata": {},
   "outputs": [],
   "source": []
  }
 ],
 "metadata": {
  "kernelspec": {
   "display_name": "PythonData38",
   "language": "python",
   "name": "python3"
  },
  "language_info": {
   "name": "python",
   "version": "3.8.13"
  },
  "orig_nbformat": 4,
  "vscode": {
   "interpreter": {
    "hash": "143f044a56c468acad165865d089ac2b8daa7cc50e8b23b8f8475aa883faefcd"
   }
  }
 },
 "nbformat": 4,
 "nbformat_minor": 2
}
