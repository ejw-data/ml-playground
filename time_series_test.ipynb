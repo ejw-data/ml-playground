{
 "cells": [
  {
   "cell_type": "code",
   "execution_count": 18,
   "id": "c54be196-8c50-4b8a-8111-fcb79c310275",
   "metadata": {},
   "outputs": [],
   "source": [
    "# Dependencies\n",
    "import pandas as pd\n",
    "from sklearn.linear_model import LinearRegression"
   ]
  },
  {
   "cell_type": "code",
   "execution_count": 19,
   "id": "370316f4-3753-4f5e-954e-bc775585b604",
   "metadata": {},
   "outputs": [
    {
     "data": {
      "text/html": [
       "<div>\n",
       "<style scoped>\n",
       "    .dataframe tbody tr th:only-of-type {\n",
       "        vertical-align: middle;\n",
       "    }\n",
       "\n",
       "    .dataframe tbody tr th {\n",
       "        vertical-align: top;\n",
       "    }\n",
       "\n",
       "    .dataframe thead th {\n",
       "        text-align: right;\n",
       "    }\n",
       "</style>\n",
       "<table border=\"1\" class=\"dataframe\">\n",
       "  <thead>\n",
       "    <tr style=\"text-align: right;\">\n",
       "      <th></th>\n",
       "      <th>house_id</th>\n",
       "      <th>date</th>\n",
       "      <th>time</th>\n",
       "      <th>house_sqft</th>\n",
       "      <th>delta-temp-celsius</th>\n",
       "      <th>load-3</th>\n",
       "      <th>load-2</th>\n",
       "      <th>load-now</th>\n",
       "      <th>size_small</th>\n",
       "      <th>size_med</th>\n",
       "      <th>size_large</th>\n",
       "      <th>trees</th>\n",
       "      <th>dryer</th>\n",
       "      <th>washer</th>\n",
       "      <th>people_present</th>\n",
       "      <th>total-energy</th>\n",
       "    </tr>\n",
       "  </thead>\n",
       "  <tbody>\n",
       "    <tr>\n",
       "      <th>0</th>\n",
       "      <td>1</td>\n",
       "      <td>1</td>\n",
       "      <td>3</td>\n",
       "      <td>780</td>\n",
       "      <td>-2.222222</td>\n",
       "      <td>6.843333</td>\n",
       "      <td>7.010000</td>\n",
       "      <td>7.176667</td>\n",
       "      <td>1</td>\n",
       "      <td>0</td>\n",
       "      <td>0</td>\n",
       "      <td>1</td>\n",
       "      <td>0</td>\n",
       "      <td>0</td>\n",
       "      <td>1</td>\n",
       "      <td>16.173152</td>\n",
       "    </tr>\n",
       "    <tr>\n",
       "      <th>1</th>\n",
       "      <td>1</td>\n",
       "      <td>1</td>\n",
       "      <td>4</td>\n",
       "      <td>780</td>\n",
       "      <td>-2.222222</td>\n",
       "      <td>7.010000</td>\n",
       "      <td>7.176667</td>\n",
       "      <td>7.176667</td>\n",
       "      <td>1</td>\n",
       "      <td>0</td>\n",
       "      <td>0</td>\n",
       "      <td>1</td>\n",
       "      <td>0</td>\n",
       "      <td>0</td>\n",
       "      <td>1</td>\n",
       "      <td>16.173152</td>\n",
       "    </tr>\n",
       "    <tr>\n",
       "      <th>2</th>\n",
       "      <td>1</td>\n",
       "      <td>1</td>\n",
       "      <td>5</td>\n",
       "      <td>780</td>\n",
       "      <td>-2.777778</td>\n",
       "      <td>7.176667</td>\n",
       "      <td>7.176667</td>\n",
       "      <td>7.343333</td>\n",
       "      <td>1</td>\n",
       "      <td>0</td>\n",
       "      <td>0</td>\n",
       "      <td>1</td>\n",
       "      <td>0</td>\n",
       "      <td>0</td>\n",
       "      <td>1</td>\n",
       "      <td>16.006485</td>\n",
       "    </tr>\n",
       "    <tr>\n",
       "      <th>3</th>\n",
       "      <td>1</td>\n",
       "      <td>1</td>\n",
       "      <td>6</td>\n",
       "      <td>780</td>\n",
       "      <td>-2.777778</td>\n",
       "      <td>7.176667</td>\n",
       "      <td>7.343333</td>\n",
       "      <td>7.343333</td>\n",
       "      <td>1</td>\n",
       "      <td>0</td>\n",
       "      <td>0</td>\n",
       "      <td>1</td>\n",
       "      <td>0</td>\n",
       "      <td>1</td>\n",
       "      <td>1</td>\n",
       "      <td>15.506485</td>\n",
       "    </tr>\n",
       "    <tr>\n",
       "      <th>4</th>\n",
       "      <td>1</td>\n",
       "      <td>1</td>\n",
       "      <td>7</td>\n",
       "      <td>780</td>\n",
       "      <td>-3.333333</td>\n",
       "      <td>7.343333</td>\n",
       "      <td>7.343333</td>\n",
       "      <td>7.510000</td>\n",
       "      <td>1</td>\n",
       "      <td>0</td>\n",
       "      <td>0</td>\n",
       "      <td>1</td>\n",
       "      <td>1</td>\n",
       "      <td>1</td>\n",
       "      <td>1</td>\n",
       "      <td>11.339819</td>\n",
       "    </tr>\n",
       "  </tbody>\n",
       "</table>\n",
       "</div>"
      ],
      "text/plain": [
       "   house_id  date  time  house_sqft  delta-temp-celsius    load-3    load-2  \\\n",
       "0         1     1     3         780           -2.222222  6.843333  7.010000   \n",
       "1         1     1     4         780           -2.222222  7.010000  7.176667   \n",
       "2         1     1     5         780           -2.777778  7.176667  7.176667   \n",
       "3         1     1     6         780           -2.777778  7.176667  7.343333   \n",
       "4         1     1     7         780           -3.333333  7.343333  7.343333   \n",
       "\n",
       "   load-now  size_small  size_med  size_large  trees  dryer  washer  \\\n",
       "0  7.176667           1         0           0      1      0       0   \n",
       "1  7.176667           1         0           0      1      0       0   \n",
       "2  7.343333           1         0           0      1      0       0   \n",
       "3  7.343333           1         0           0      1      0       1   \n",
       "4  7.510000           1         0           0      1      1       1   \n",
       "\n",
       "   people_present  total-energy  \n",
       "0               1     16.173152  \n",
       "1               1     16.173152  \n",
       "2               1     16.006485  \n",
       "3               1     15.506485  \n",
       "4               1     11.339819  "
      ]
     },
     "execution_count": 19,
     "metadata": {},
     "output_type": "execute_result"
    }
   ],
   "source": [
    "df = pd.read_csv('data/regression_data/time_series.csv')\n",
    "df.head()"
   ]
  },
  {
   "cell_type": "code",
   "execution_count": 20,
   "id": "978d45d0-ffdb-4b27-8f36-fa5bc27b0112",
   "metadata": {},
   "outputs": [
    {
     "data": {
      "text/html": [
       "<div>\n",
       "<style scoped>\n",
       "    .dataframe tbody tr th:only-of-type {\n",
       "        vertical-align: middle;\n",
       "    }\n",
       "\n",
       "    .dataframe tbody tr th {\n",
       "        vertical-align: top;\n",
       "    }\n",
       "\n",
       "    .dataframe thead th {\n",
       "        text-align: right;\n",
       "    }\n",
       "</style>\n",
       "<table border=\"1\" class=\"dataframe\">\n",
       "  <thead>\n",
       "    <tr style=\"text-align: right;\">\n",
       "      <th></th>\n",
       "      <th>house_id</th>\n",
       "      <th>date</th>\n",
       "      <th>time</th>\n",
       "      <th>house_sqft</th>\n",
       "      <th>delta-temp-celsius</th>\n",
       "      <th>load-3</th>\n",
       "      <th>load-2</th>\n",
       "      <th>load-now</th>\n",
       "      <th>size_small</th>\n",
       "      <th>size_med</th>\n",
       "      <th>size_large</th>\n",
       "      <th>trees</th>\n",
       "      <th>dryer</th>\n",
       "      <th>washer</th>\n",
       "      <th>people_present</th>\n",
       "      <th>total-energy</th>\n",
       "    </tr>\n",
       "  </thead>\n",
       "  <tbody>\n",
       "  </tbody>\n",
       "</table>\n",
       "</div>"
      ],
      "text/plain": [
       "Empty DataFrame\n",
       "Columns: [house_id, date, time, house_sqft, delta-temp-celsius, load-3, load-2, load-now, size_small, size_med, size_large, trees, dryer, washer, people_present, total-energy]\n",
       "Index: []"
      ]
     },
     "execution_count": 20,
     "metadata": {},
     "output_type": "execute_result"
    }
   ],
   "source": [
    "df[df.isna().any(axis=1)]"
   ]
  },
  {
   "cell_type": "code",
   "execution_count": 21,
   "id": "2b5d7ead-e2cb-481a-98d6-d7e24ad0f609",
   "metadata": {},
   "outputs": [
    {
     "data": {
      "text/plain": [
       "['house_id',\n",
       " 'date',\n",
       " 'time',\n",
       " 'house_sqft',\n",
       " 'delta-temp-celsius',\n",
       " 'load-3',\n",
       " 'load-2',\n",
       " 'load-now',\n",
       " 'size_small',\n",
       " 'size_med',\n",
       " 'size_large',\n",
       " 'trees',\n",
       " 'dryer',\n",
       " 'washer',\n",
       " 'people_present',\n",
       " 'total-energy']"
      ]
     },
     "execution_count": 21,
     "metadata": {},
     "output_type": "execute_result"
    }
   ],
   "source": [
    "list(df.columns)"
   ]
  },
  {
   "cell_type": "code",
   "execution_count": 22,
   "id": "01304e0d-eb91-440d-9b5e-0e741071f5b9",
   "metadata": {},
   "outputs": [],
   "source": [
    "X = df[['load-now',\n",
    "     'size_small',\n",
    "     'size_med',\n",
    "     'size_large',\n",
    "     'trees',\n",
    "     'dryer',\n",
    "     'washer',\n",
    "     'people_present']]"
   ]
  },
  {
   "cell_type": "code",
   "execution_count": 23,
   "id": "7ceb5baa-b676-4ef0-b25d-a01edf5a251b",
   "metadata": {},
   "outputs": [],
   "source": [
    "y = df['total-energy']"
   ]
  },
  {
   "cell_type": "code",
   "execution_count": 24,
   "id": "85fef2f8-97cf-4650-86e8-a1fbfb8eb48d",
   "metadata": {},
   "outputs": [],
   "source": [
    "reg = LinearRegression().fit(X, y)"
   ]
  },
  {
   "cell_type": "code",
   "execution_count": 25,
   "id": "1f317b1b-32e9-41fe-a772-1662125cabde",
   "metadata": {},
   "outputs": [
    {
     "data": {
      "text/plain": [
       "0.9766994326387345"
      ]
     },
     "execution_count": 25,
     "metadata": {},
     "output_type": "execute_result"
    }
   ],
   "source": [
    "reg.score(X, y)"
   ]
  },
  {
   "cell_type": "code",
   "execution_count": 42,
   "id": "97e2af51-056a-4075-81e8-a0a5575a81a6",
   "metadata": {},
   "outputs": [
    {
     "name": "stdout",
     "output_type": "stream",
     "text": [
      "load-now             -1.000838147670525\n",
      "size_small           -3.063543404152788\n",
      "size_med             -2.6907961168561227\n",
      "size_large           5.754339521008909\n",
      "trees                -3.0635434041527816\n",
      "dryer                -1.986053594253725\n",
      "washer               -2.411088518823401\n",
      "people_present       -0.11923010916240702\n"
     ]
    },
    {
     "data": {
      "text/plain": [
       "[None, None, None, None, None, None, None, None]"
      ]
     },
     "execution_count": 42,
     "metadata": {},
     "output_type": "execute_result"
    }
   ],
   "source": [
    "[print(f\"{list(X.columns)[k]:<20} {v}\") for k,v in enumerate(list(reg.coef_))]"
   ]
  },
  {
   "cell_type": "code",
   "execution_count": 43,
   "id": "f10ff81c-a113-43d3-804c-01aed7394e7b",
   "metadata": {},
   "outputs": [
    {
     "data": {
      "text/plain": [
       "29.653727746395973"
      ]
     },
     "execution_count": 43,
     "metadata": {},
     "output_type": "execute_result"
    }
   ],
   "source": [
    "reg.intercept_"
   ]
  },
  {
   "cell_type": "code",
   "execution_count": null,
   "id": "5978ef60-874c-48ed-b05b-2d0da65aac7c",
   "metadata": {},
   "outputs": [],
   "source": []
  }
 ],
 "metadata": {
  "kernelspec": {
   "display_name": "Python [conda env:PythonDataS2022] *",
   "language": "python",
   "name": "conda-env-PythonDataS2022-py"
  },
  "language_info": {
   "codemirror_mode": {
    "name": "ipython",
    "version": 3
   },
   "file_extension": ".py",
   "mimetype": "text/x-python",
   "name": "python",
   "nbconvert_exporter": "python",
   "pygments_lexer": "ipython3",
   "version": "3.8.12"
  }
 },
 "nbformat": 4,
 "nbformat_minor": 5
}
