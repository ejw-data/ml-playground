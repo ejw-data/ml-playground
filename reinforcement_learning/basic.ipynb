{
 "cells": [
  {
   "cell_type": "code",
   "execution_count": null,
   "metadata": {},
   "outputs": [],
   "source": [
    "# environment problems"
   ]
  },
  {
   "cell_type": "code",
   "execution_count": 2,
   "metadata": {},
   "outputs": [],
   "source": [
    "# Dependencies\n",
    "import gym\n",
    "\n",
    "# Create the CartPole environment\n",
    "env = gym.make('CartPole-v1')\n",
    "\n",
    "# # Set random seed for reproducibility\n",
    "# env.seed(42)"
   ]
  },
  {
   "cell_type": "code",
   "execution_count": 3,
   "metadata": {},
   "outputs": [],
   "source": [
    "# Q-learning algorithm\n",
    "def q_learning(env, num_episodes=1000, learning_rate=0.1, discount_factor=0.99, exploration_prob=0.2):\n",
    "    num_actions = env.action_space.n\n",
    "    num_states = 4  # For CartPole-v1, the observation space has 4 features\n",
    "\n",
    "    # Initialize the Q-table with zeros\n",
    "    q_table = np.zeros((num_states, num_actions))\n",
    "\n",
    "    for episode in range(num_episodes):\n",
    "        state = env.reset()\n",
    "        done = False\n",
    "\n",
    "        while not done:\n",
    "            # Exploration vs Exploitation trade-off\n",
    "            if np.random.rand() < exploration_prob:\n",
    "                action = env.action_space.sample()  # Explore - choose a random action\n",
    "            else:\n",
    "                action = np.argmax(q_table[state])  # Exploit - choose the best action\n",
    "\n",
    "            next_state, reward, done, _ = env.step(action)\n",
    "\n",
    "            # Q-learning update\n",
    "            q_table[state, action] += learning_rate * (reward + discount_factor * np.max(q_table[next_state]) - q_table[state, action])\n",
    "\n",
    "            state = next_state\n",
    "\n",
    "    return q_table"
   ]
  },
  {
   "cell_type": "code",
   "execution_count": 4,
   "metadata": {},
   "outputs": [
    {
     "ename": "IndexError",
     "evalue": "arrays used as indices must be of integer (or boolean) type",
     "output_type": "error",
     "traceback": [
      "\u001b[1;31m---------------------------------------------------------------------------\u001b[0m",
      "\u001b[1;31mIndexError\u001b[0m                                Traceback (most recent call last)",
      "Cell \u001b[1;32mIn[4], line 6\u001b[0m\n\u001b[0;32m      3\u001b[0m \u001b[39mimport\u001b[39;00m \u001b[39mnumpy\u001b[39;00m \u001b[39mas\u001b[39;00m \u001b[39mnp\u001b[39;00m\n\u001b[0;32m      5\u001b[0m \u001b[39m# Run the Q-learning algorithm\u001b[39;00m\n\u001b[1;32m----> 6\u001b[0m q_table \u001b[39m=\u001b[39m q_learning(env)\n\u001b[0;32m      8\u001b[0m \u001b[39m# Test the learned policy\u001b[39;00m\n\u001b[0;32m      9\u001b[0m state \u001b[39m=\u001b[39m env\u001b[39m.\u001b[39mreset()\n",
      "Cell \u001b[1;32mIn[3], line 18\u001b[0m, in \u001b[0;36mq_learning\u001b[1;34m(env, num_episodes, learning_rate, discount_factor, exploration_prob)\u001b[0m\n\u001b[0;32m     16\u001b[0m     action \u001b[39m=\u001b[39m env\u001b[39m.\u001b[39maction_space\u001b[39m.\u001b[39msample()  \u001b[39m# Explore - choose a random action\u001b[39;00m\n\u001b[0;32m     17\u001b[0m \u001b[39melse\u001b[39;00m:\n\u001b[1;32m---> 18\u001b[0m     action \u001b[39m=\u001b[39m np\u001b[39m.\u001b[39margmax(q_table[state])  \u001b[39m# Exploit - choose the best action\u001b[39;00m\n\u001b[0;32m     20\u001b[0m next_state, reward, done, _ \u001b[39m=\u001b[39m env\u001b[39m.\u001b[39mstep(action)\n\u001b[0;32m     22\u001b[0m \u001b[39m# Q-learning update\u001b[39;00m\n",
      "\u001b[1;31mIndexError\u001b[0m: arrays used as indices must be of integer (or boolean) type"
     ]
    }
   ],
   "source": [
    "# Main loop to run the Q-learning algorithm\n",
    "if __name__ == \"__main__\":\n",
    "    import numpy as np\n",
    "\n",
    "    # Run the Q-learning algorithm\n",
    "    q_table = q_learning(env)\n",
    "\n",
    "    # Test the learned policy\n",
    "    state = env.reset()\n",
    "    done = False\n",
    "    total_reward = 0\n",
    "\n",
    "    while not done:\n",
    "        action = np.argmax(q_table[state])\n",
    "        state, reward, done, _ = env.step(action)\n",
    "        total_reward += reward\n",
    "        env.render()\n",
    "\n",
    "    print(f\"Total reward: {total_reward}\")\n",
    "    env.close()\n"
   ]
  }
 ],
 "metadata": {
  "kernelspec": {
   "display_name": "python310",
   "language": "python",
   "name": "python3"
  },
  "language_info": {
   "codemirror_mode": {
    "name": "ipython",
    "version": 3
   },
   "file_extension": ".py",
   "mimetype": "text/x-python",
   "name": "python",
   "nbconvert_exporter": "python",
   "pygments_lexer": "ipython3",
   "version": "3.10.11"
  },
  "orig_nbformat": 4
 },
 "nbformat": 4,
 "nbformat_minor": 2
}
