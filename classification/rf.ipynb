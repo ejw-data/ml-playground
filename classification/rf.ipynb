{
 "cells": [
  {
   "cell_type": "code",
   "execution_count": 1,
   "metadata": {},
   "outputs": [],
   "source": [
    "from sklearn.datasets import make_classification, make_multilabel_classification\n",
    "import pandas as pd"
   ]
  },
  {
   "cell_type": "code",
   "execution_count": 2,
   "metadata": {},
   "outputs": [],
   "source": [
    "X, y = make_classification(\n",
    "    n_samples=1000, # 1000 observations \n",
    "    n_features=5, # 5 total features\n",
    "    n_informative=3, # 3 'useful' features\n",
    "    n_classes=2, # binary target/label \n",
    "    random_state=999 # if you want the same results as mine\n",
    ")"
   ]
  },
  {
   "cell_type": "code",
   "execution_count": 3,
   "metadata": {},
   "outputs": [
    {
     "name": "stdout",
     "output_type": "stream",
     "text": [
      "<class 'pandas.core.frame.DataFrame'>\n",
      "RangeIndex: 1000 entries, 0 to 999\n",
      "Data columns (total 6 columns):\n",
      " #   Column  Non-Null Count  Dtype  \n",
      "---  ------  --------------  -----  \n",
      " 0   X1      1000 non-null   float64\n",
      " 1   X2      1000 non-null   float64\n",
      " 2   X3      1000 non-null   float64\n",
      " 3   X4      1000 non-null   float64\n",
      " 4   X5      1000 non-null   float64\n",
      " 5   y       1000 non-null   int32  \n",
      "dtypes: float64(5), int32(1)\n",
      "memory usage: 43.1 KB\n"
     ]
    }
   ],
   "source": [
    "# Create DataFrame with features as columns\n",
    "dataset = pd.DataFrame(X)\n",
    "# give custom names to the features\n",
    "dataset.columns = ['X1', 'X2', 'X3', 'X4', 'X5']\n",
    "# Now add the label as a column\n",
    "dataset['y'] = y\n",
    "\n",
    "dataset.info()"
   ]
  },
  {
   "cell_type": "code",
   "execution_count": null,
   "metadata": {},
   "outputs": [],
   "source": []
  },
  {
   "cell_type": "code",
   "execution_count": 4,
   "metadata": {},
   "outputs": [
    {
     "data": {
      "text/plain": [
       "fit_time          0.2089\n",
       "score_time        0.0129\n",
       "test_accuracy     0.8790\n",
       "test_precision    0.8794\n",
       "test_recall       0.8825\n",
       "test_f1           0.8797\n",
       "dtype: float64"
      ]
     },
     "execution_count": 4,
     "metadata": {},
     "output_type": "execute_result"
    }
   ],
   "source": [
    "from sklearn.ensemble import RandomForestClassifier\n",
    "from sklearn.model_selection import cross_validate\n",
    "\n",
    "# initialize classifier\n",
    "classifier = RandomForestClassifier() \n",
    "\n",
    "# Run cross validation with 10 folds\n",
    "scores = cross_validate(\n",
    "    classifier, X, y, cv=10, \n",
    "    # measure score for a list of classification metrics\n",
    "    scoring=['accuracy', 'precision', 'recall', 'f1']\n",
    ")\n",
    "\n",
    "scores = pd.DataFrame(scores)\n",
    "scores.mean().round(4)"
   ]
  },
  {
   "cell_type": "code",
   "execution_count": null,
   "metadata": {},
   "outputs": [],
   "source": []
  },
  {
   "cell_type": "code",
   "execution_count": null,
   "metadata": {},
   "outputs": [],
   "source": []
  },
  {
   "cell_type": "code",
   "execution_count": null,
   "metadata": {},
   "outputs": [],
   "source": []
  },
  {
   "cell_type": "code",
   "execution_count": null,
   "metadata": {},
   "outputs": [],
   "source": []
  },
  {
   "cell_type": "code",
   "execution_count": null,
   "metadata": {},
   "outputs": [],
   "source": []
  }
 ],
 "metadata": {
  "kernelspec": {
   "display_name": "Python 3",
   "language": "python",
   "name": "python3"
  },
  "language_info": {
   "codemirror_mode": {
    "name": "ipython",
    "version": 3
   },
   "file_extension": ".py",
   "mimetype": "text/x-python",
   "name": "python",
   "nbconvert_exporter": "python",
   "pygments_lexer": "ipython3",
   "version": "3.8.13"
  },
  "vscode": {
   "interpreter": {
    "hash": "143f044a56c468acad165865d089ac2b8daa7cc50e8b23b8f8475aa883faefcd"
   }
  }
 },
 "nbformat": 4,
 "nbformat_minor": 4
}
