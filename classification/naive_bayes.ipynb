{
 "cells": [
  {
   "cell_type": "code",
   "execution_count": 1,
   "metadata": {},
   "outputs": [],
   "source": [
    "import numpy as np\n",
    "from sklearn.datasets import fetch_20newsgroups\n",
    "from sklearn.feature_extraction.text import TfidfVectorizer\n",
    "from sklearn.model_selection import train_test_split\n",
    "from sklearn.naive_bayes import MultinomialNB\n",
    "from sklearn.metrics import accuracy_score, classification_report, confusion_matrix"
   ]
  },
  {
   "cell_type": "code",
   "execution_count": 2,
   "metadata": {},
   "outputs": [],
   "source": [
    "# Load the 20 Newsgroups dataset\n",
    "newsgroups = fetch_20newsgroups(subset='all', remove=('headers', 'footers', 'quotes'))\n",
    "X = newsgroups.data\n",
    "y = newsgroups.target\n",
    "\n",
    "# Convert the raw text data into TF-IDF features\n",
    "vectorizer = TfidfVectorizer()\n",
    "X_tfidf = vectorizer.fit_transform(X)\n",
    "\n",
    "# Split the data into training and testing sets\n",
    "X_train, X_test, y_train, y_test = train_test_split(X_tfidf, y, test_size=0.2, random_state=42)"
   ]
  },
  {
   "cell_type": "code",
   "execution_count": 3,
   "metadata": {},
   "outputs": [],
   "source": [
    "# Create a Naive Bayes classifier (Multinomial Naive Bayes for text classification)\n",
    "naive_bayes = MultinomialNB()\n",
    "\n",
    "# Train the classifier on the training data\n",
    "naive_bayes.fit(X_train, y_train)\n",
    "\n",
    "# Make predictions on the testing data\n",
    "y_pred = naive_bayes.predict(X_test)"
   ]
  },
  {
   "cell_type": "code",
   "execution_count": 4,
   "metadata": {},
   "outputs": [
    {
     "name": "stdout",
     "output_type": "stream",
     "text": [
      "Accuracy: 0.6551724137931034\n"
     ]
    }
   ],
   "source": [
    "# Calculate the accuracy of the model\n",
    "accuracy = accuracy_score(y_test, y_pred)\n",
    "print(\"Accuracy:\", accuracy)"
   ]
  },
  {
   "cell_type": "code",
   "execution_count": 5,
   "metadata": {},
   "outputs": [
    {
     "name": "stdout",
     "output_type": "stream",
     "text": [
      "Classification Report:\n",
      "              precision    recall  f1-score   support\n",
      "\n",
      "           0       0.86      0.12      0.21       151\n",
      "           1       0.72      0.61      0.66       202\n",
      "           2       0.67      0.59      0.63       195\n",
      "           3       0.51      0.78      0.62       183\n",
      "           4       0.89      0.63      0.74       205\n",
      "           5       0.88      0.81      0.85       215\n",
      "           6       0.86      0.60      0.71       193\n",
      "           7       0.85      0.72      0.78       196\n",
      "           8       0.51      0.75      0.61       168\n",
      "           9       0.96      0.77      0.85       211\n",
      "          10       0.87      0.88      0.88       198\n",
      "          11       0.62      0.83      0.71       201\n",
      "          12       0.86      0.55      0.67       202\n",
      "          13       0.89      0.69      0.78       194\n",
      "          14       0.82      0.74      0.77       189\n",
      "          15       0.25      0.96      0.40       202\n",
      "          16       0.76      0.74      0.75       188\n",
      "          17       0.79      0.77      0.78       182\n",
      "          18       0.95      0.13      0.22       159\n",
      "          19       1.00      0.01      0.01       136\n",
      "\n",
      "    accuracy                           0.66      3770\n",
      "   macro avg       0.78      0.63      0.63      3770\n",
      "weighted avg       0.77      0.66      0.65      3770\n",
      "\n",
      "Confusion Matrix:\n",
      "[[ 18   0   0   0   0   0   0   1   5   2   1   4   0   2   2 106   0  10\n",
      "    0   0]\n",
      " [  0 123  14  17   0   8   1   0   7   0   1   7   0   0   3  19   0   2\n",
      "    0   0]\n",
      " [  0  10 116  33   2   7   0   0   9   0   0   7   0   0   0  11   0   0\n",
      "    0   0]\n",
      " [  0   5  16 142   3   1   3   0   1   0   0   3   2   1   0   6   0   0\n",
      "    0   0]\n",
      " [  0   2   5  30 130   0   3   1  12   0   0   8   2   2   2   7   1   0\n",
      "    0   0]\n",
      " [  0  13   9   3   1 175   0   1   2   0   1   3   0   0   2   5   0   0\n",
      "    0   0]\n",
      " [  0   3   2  28   7   2 116   6   3   0   0   6   5   2   3   9   1   0\n",
      "    0   0]\n",
      " [  0   0   0   0   1   1   2 141  12   0   2   6   3   1   2  22   2   1\n",
      "    0   0]\n",
      " [  0   2   0   1   0   1   5   5 126   2   1   2   1   1   2  18   1   0\n",
      "    0   0]\n",
      " [  0   0   0   0   0   1   0   0  10 162   9   2   0   0   0  26   0   1\n",
      "    0   0]\n",
      " [  0   1   0   0   0   0   0   1   7   0 174   1   0   1   0  13   0   0\n",
      "    0   0]\n",
      " [  0   3   3   0   0   1   0   0   3   0   2 167   0   0   3  15   2   2\n",
      "    0   0]\n",
      " [  0   6   4  22   2   1   4   4   7   1   1  18 112   2   5  11   1   1\n",
      "    0   0]\n",
      " [  0   1   1   1   0   0   0   0   4   0   2   1   3 133   1  45   0   2\n",
      "    0   0]\n",
      " [  0   3   1   0   0   0   1   1  10   0   1  11   1   1 139  20   0   0\n",
      "    0   0]\n",
      " [  0   0   0   0   0   0   0   0   4   1   0   0   0   1   0 194   0   2\n",
      "    0   0]\n",
      " [  0   0   1   0   0   0   0   1   7   1   1   7   0   0   1  26 140   2\n",
      "    1   0]\n",
      " [  0   0   0   0   0   0   0   1   7   0   1   3   0   1   0  27   1 141\n",
      "    0   0]\n",
      " [  0   0   0   0   0   0   0   2   6   0   1  13   1   1   4  72  27  12\n",
      "   20   0]\n",
      " [  3   0   1   0   0   0   0   1   4   0   1   1   0   0   1 112   8   3\n",
      "    0   1]]\n"
     ]
    }
   ],
   "source": [
    "# Print the classification report\n",
    "print(\"Classification Report:\")\n",
    "print(classification_report(y_test, y_pred))\n",
    "\n",
    "# Plot the confusion matrix\n",
    "conf_matrix = confusion_matrix(y_test, y_pred)\n",
    "print(\"Confusion Matrix:\")\n",
    "print(conf_matrix)\n"
   ]
  }
 ],
 "metadata": {
  "kernelspec": {
   "display_name": "python310",
   "language": "python",
   "name": "python3"
  },
  "language_info": {
   "codemirror_mode": {
    "name": "ipython",
    "version": 3
   },
   "file_extension": ".py",
   "mimetype": "text/x-python",
   "name": "python",
   "nbconvert_exporter": "python",
   "pygments_lexer": "ipython3",
   "version": "3.10.11"
  },
  "orig_nbformat": 4
 },
 "nbformat": 4,
 "nbformat_minor": 2
}
