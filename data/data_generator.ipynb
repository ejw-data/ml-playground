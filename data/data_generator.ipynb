{
 "cells": [
  {
   "cell_type": "code",
   "execution_count": null,
   "id": "19c08f38-bb76-4803-9612-422e326322b0",
   "metadata": {},
   "outputs": [],
   "source": [
    "# Test datasets for Regression\n",
    "- Generate basic regression datasets for analyzing regression techniques"
   ]
  },
  {
   "cell_type": "code",
   "execution_count": 1,
   "id": "b49e9cd3-834d-49b9-a75f-5e5611ebe5ef",
   "metadata": {},
   "outputs": [],
   "source": [
    "# Dependencies\n",
    "import numpy as np\n",
    "import pandas as pd\n",
    "from sklearn.datasets import make_regression, make_sparse_uncorrelated"
   ]
  },
  {
   "cell_type": "markdown",
   "id": "6f5c5649-3b0a-4056-a673-f2c4cd21d3a0",
   "metadata": {},
   "source": [
    "### All Correlated Dataset of 6 Features"
   ]
  },
  {
   "cell_type": "markdown",
   "id": "64612c42-1725-471d-bb0f-db3137f96cac",
   "metadata": {},
   "source": [
    "From documentation:\n",
    "- make_regression produces regression targets as an optionally-sparse random linear combination of random features, with noise. Its informative features may be uncorrelated, or low rank (few features account for most of the variance)."
   ]
  },
  {
   "cell_type": "code",
   "execution_count": 2,
   "id": "9e0d6ad6-9c4e-4029-b2ac-7358fddf7d45",
   "metadata": {},
   "outputs": [],
   "source": [
    "# create data set of 6 features that are significant to the regression\n",
    "# excluding first 4 terms, all other terms are defaults; listed for clarity\n",
    "X,y,coef = make_regression(n_samples=200, \n",
    "                           n_features=6, \n",
    "                           n_informative=6, \n",
    "                           coef=True,\n",
    "                           n_targets=1, \n",
    "                           bias=0, \n",
    "                           effective_rank=None, \n",
    "                           noise=0, \n",
    "                           random_state=42)"
   ]
  },
  {
   "cell_type": "code",
   "execution_count": 3,
   "id": "e81fab9b-e296-4d71-96ed-b77795cdb20d",
   "metadata": {},
   "outputs": [
    {
     "data": {
      "text/plain": [
       "array([95.14033422, 63.31513756, 60.16118201, 81.91888594, 88.42064633,\n",
       "        4.34125329])"
      ]
     },
     "execution_count": 3,
     "metadata": {},
     "output_type": "execute_result"
    }
   ],
   "source": [
    "coef"
   ]
  },
  {
   "cell_type": "code",
   "execution_count": 4,
   "id": "fb98e8b2-db90-4d5e-ac60-9e38daf51b53",
   "metadata": {},
   "outputs": [
    {
     "name": "stdout",
     "output_type": "stream",
     "text": [
      "X shape (200, 6)\n",
      "y shape (200,)\n"
     ]
    }
   ],
   "source": [
    "print(\"X shape\", X.shape)\n",
    "print(\"y shape\", y.shape)"
   ]
  },
  {
   "cell_type": "code",
   "execution_count": 5,
   "id": "e84b703a-0cb9-4479-890a-f7f6bdc2bb3f",
   "metadata": {},
   "outputs": [
    {
     "name": "stdout",
     "output_type": "stream",
     "text": [
      "X row shape (6,)\n"
     ]
    }
   ],
   "source": [
    "print(\"X row shape\", X[0].shape)"
   ]
  },
  {
   "cell_type": "code",
   "execution_count": 6,
   "id": "366dc74b-85eb-422f-be30-06efe7e9fb19",
   "metadata": {},
   "outputs": [
    {
     "name": "stdout",
     "output_type": "stream",
     "text": [
      "y shape (200, 1)\n"
     ]
    }
   ],
   "source": [
    "print(\"y shape\", (np.array([y]).T).shape)"
   ]
  },
  {
   "cell_type": "code",
   "execution_count": 7,
   "id": "c512d429-0e51-460c-98c2-f7bb14e2c851",
   "metadata": {},
   "outputs": [],
   "source": [
    "data = np.concatenate((X,np.array([y]).T), axis=1)"
   ]
  },
  {
   "cell_type": "code",
   "execution_count": 8,
   "id": "5d646bd1-0974-4cd0-a744-bbf5cdd664d6",
   "metadata": {},
   "outputs": [
    {
     "data": {
      "text/html": [
       "<div>\n",
       "<style scoped>\n",
       "    .dataframe tbody tr th:only-of-type {\n",
       "        vertical-align: middle;\n",
       "    }\n",
       "\n",
       "    .dataframe tbody tr th {\n",
       "        vertical-align: top;\n",
       "    }\n",
       "\n",
       "    .dataframe thead th {\n",
       "        text-align: right;\n",
       "    }\n",
       "</style>\n",
       "<table border=\"1\" class=\"dataframe\">\n",
       "  <thead>\n",
       "    <tr style=\"text-align: right;\">\n",
       "      <th></th>\n",
       "      <th>meaningful_1</th>\n",
       "      <th>meaningful_2</th>\n",
       "      <th>meaningful_3</th>\n",
       "      <th>meaningful_4</th>\n",
       "      <th>meaningful_5</th>\n",
       "      <th>meaningful_6</th>\n",
       "      <th>target</th>\n",
       "    </tr>\n",
       "  </thead>\n",
       "  <tbody>\n",
       "    <tr>\n",
       "      <th>0</th>\n",
       "      <td>-1.236951</td>\n",
       "      <td>0.781823</td>\n",
       "      <td>-1.320457</td>\n",
       "      <td>0.521942</td>\n",
       "      <td>0.296985</td>\n",
       "      <td>0.259883</td>\n",
       "      <td>-77.478247</td>\n",
       "    </tr>\n",
       "    <tr>\n",
       "      <th>1</th>\n",
       "      <td>-0.241236</td>\n",
       "      <td>0.243339</td>\n",
       "      <td>0.352055</td>\n",
       "      <td>-1.251539</td>\n",
       "      <td>1.443765</td>\n",
       "      <td>-0.045586</td>\n",
       "      <td>38.571844</td>\n",
       "    </tr>\n",
       "    <tr>\n",
       "      <th>2</th>\n",
       "      <td>0.963376</td>\n",
       "      <td>-0.820682</td>\n",
       "      <td>0.412781</td>\n",
       "      <td>0.822060</td>\n",
       "      <td>1.896793</td>\n",
       "      <td>1.158596</td>\n",
       "      <td>304.615372</td>\n",
       "    </tr>\n",
       "    <tr>\n",
       "      <th>3</th>\n",
       "      <td>-0.240325</td>\n",
       "      <td>0.712998</td>\n",
       "      <td>-0.374821</td>\n",
       "      <td>0.710960</td>\n",
       "      <td>0.444263</td>\n",
       "      <td>-1.222128</td>\n",
       "      <td>91.946823</td>\n",
       "    </tr>\n",
       "    <tr>\n",
       "      <th>4</th>\n",
       "      <td>-0.024355</td>\n",
       "      <td>-0.573700</td>\n",
       "      <td>2.142270</td>\n",
       "      <td>1.727543</td>\n",
       "      <td>0.436324</td>\n",
       "      <td>0.522835</td>\n",
       "      <td>272.608712</td>\n",
       "    </tr>\n",
       "  </tbody>\n",
       "</table>\n",
       "</div>"
      ],
      "text/plain": [
       "   meaningful_1  meaningful_2  meaningful_3  meaningful_4  meaningful_5  \\\n",
       "0     -1.236951      0.781823     -1.320457      0.521942      0.296985   \n",
       "1     -0.241236      0.243339      0.352055     -1.251539      1.443765   \n",
       "2      0.963376     -0.820682      0.412781      0.822060      1.896793   \n",
       "3     -0.240325      0.712998     -0.374821      0.710960      0.444263   \n",
       "4     -0.024355     -0.573700      2.142270      1.727543      0.436324   \n",
       "\n",
       "   meaningful_6      target  \n",
       "0      0.259883  -77.478247  \n",
       "1     -0.045586   38.571844  \n",
       "2      1.158596  304.615372  \n",
       "3     -1.222128   91.946823  \n",
       "4      0.522835  272.608712  "
      ]
     },
     "execution_count": 8,
     "metadata": {},
     "output_type": "execute_result"
    }
   ],
   "source": [
    "df = pd.DataFrame(data, columns=['meaningful_1','meaningful_2','meaningful_3', 'meaningful_4', 'meaningful_5', 'meaningful_6', 'target'])\n",
    "df.head()"
   ]
  },
  {
   "cell_type": "code",
   "execution_count": 10,
   "id": "09c8c2e4-e3e6-4c51-bf59-3708f6a8b763",
   "metadata": {},
   "outputs": [],
   "source": [
    "df.to_csv('regression_data/all-correlated-6-features.csv', index=False)"
   ]
  },
  {
   "cell_type": "markdown",
   "id": "ff256866-c878-4f69-9667-b4a669e40c9b",
   "metadata": {
    "tags": []
   },
   "source": [
    "### 4 Correlated and 2 Uncorrelated Linear Features "
   ]
  },
  {
   "cell_type": "code",
   "execution_count": 11,
   "id": "a7ab4301-c4a7-49ff-aa95-721b14a31dd3",
   "metadata": {},
   "outputs": [],
   "source": [
    "# create data set of 6 features with 4 significant and 2 useless\n",
    "X,y,coef = make_regression(n_samples=200, \n",
    "                           n_features=6, \n",
    "                           n_informative=4, \n",
    "                           coef=True,\n",
    "                           n_targets=1, \n",
    "                           bias=0, \n",
    "                           effective_rank=4, \n",
    "                           tail_strength=0.5,\n",
    "                           noise=0, \n",
    "                           random_state=42)"
   ]
  },
  {
   "cell_type": "code",
   "execution_count": 12,
   "id": "664cd3ab-475d-4df8-80b4-235e149435fc",
   "metadata": {},
   "outputs": [],
   "source": [
    "data = np.concatenate((X,np.array([y]).T), axis=1)"
   ]
  },
  {
   "cell_type": "code",
   "execution_count": 13,
   "id": "95ea49d1-0309-49c7-b209-cae5ca7115ed",
   "metadata": {},
   "outputs": [
    {
     "data": {
      "text/html": [
       "<div>\n",
       "<style scoped>\n",
       "    .dataframe tbody tr th:only-of-type {\n",
       "        vertical-align: middle;\n",
       "    }\n",
       "\n",
       "    .dataframe tbody tr th {\n",
       "        vertical-align: top;\n",
       "    }\n",
       "\n",
       "    .dataframe thead th {\n",
       "        text-align: right;\n",
       "    }\n",
       "</style>\n",
       "<table border=\"1\" class=\"dataframe\">\n",
       "  <thead>\n",
       "    <tr style=\"text-align: right;\">\n",
       "      <th></th>\n",
       "      <th>meaningful_1</th>\n",
       "      <th>meaningful_2</th>\n",
       "      <th>meaningful_3</th>\n",
       "      <th>meaningful_4</th>\n",
       "      <th>unrelated_1</th>\n",
       "      <th>unrelated_2</th>\n",
       "      <th>target</th>\n",
       "    </tr>\n",
       "  </thead>\n",
       "  <tbody>\n",
       "    <tr>\n",
       "      <th>0</th>\n",
       "      <td>-0.114070</td>\n",
       "      <td>0.055827</td>\n",
       "      <td>0.049792</td>\n",
       "      <td>-0.014761</td>\n",
       "      <td>-0.027299</td>\n",
       "      <td>-0.007287</td>\n",
       "      <td>0.163435</td>\n",
       "    </tr>\n",
       "    <tr>\n",
       "      <th>1</th>\n",
       "      <td>-0.037493</td>\n",
       "      <td>-0.059537</td>\n",
       "      <td>0.009000</td>\n",
       "      <td>0.005654</td>\n",
       "      <td>0.036818</td>\n",
       "      <td>0.057861</td>\n",
       "      <td>3.625903</td>\n",
       "    </tr>\n",
       "    <tr>\n",
       "      <th>2</th>\n",
       "      <td>-0.015487</td>\n",
       "      <td>0.062475</td>\n",
       "      <td>-0.032665</td>\n",
       "      <td>0.010558</td>\n",
       "      <td>-0.070207</td>\n",
       "      <td>-0.078827</td>\n",
       "      <td>-7.482244</td>\n",
       "    </tr>\n",
       "    <tr>\n",
       "      <th>3</th>\n",
       "      <td>0.026067</td>\n",
       "      <td>0.032296</td>\n",
       "      <td>-0.075725</td>\n",
       "      <td>0.013712</td>\n",
       "      <td>0.063807</td>\n",
       "      <td>-0.063561</td>\n",
       "      <td>4.828345</td>\n",
       "    </tr>\n",
       "    <tr>\n",
       "      <th>4</th>\n",
       "      <td>-0.009825</td>\n",
       "      <td>0.035543</td>\n",
       "      <td>-0.033790</td>\n",
       "      <td>-0.026442</td>\n",
       "      <td>-0.023761</td>\n",
       "      <td>0.139320</td>\n",
       "      <td>8.710039</td>\n",
       "    </tr>\n",
       "  </tbody>\n",
       "</table>\n",
       "</div>"
      ],
      "text/plain": [
       "   meaningful_1  meaningful_2  meaningful_3  meaningful_4  unrelated_1  \\\n",
       "0     -0.114070      0.055827      0.049792     -0.014761    -0.027299   \n",
       "1     -0.037493     -0.059537      0.009000      0.005654     0.036818   \n",
       "2     -0.015487      0.062475     -0.032665      0.010558    -0.070207   \n",
       "3      0.026067      0.032296     -0.075725      0.013712     0.063807   \n",
       "4     -0.009825      0.035543     -0.033790     -0.026442    -0.023761   \n",
       "\n",
       "   unrelated_2    target  \n",
       "0    -0.007287  0.163435  \n",
       "1     0.057861  3.625903  \n",
       "2    -0.078827 -7.482244  \n",
       "3    -0.063561  4.828345  \n",
       "4     0.139320  8.710039  "
      ]
     },
     "execution_count": 13,
     "metadata": {},
     "output_type": "execute_result"
    }
   ],
   "source": [
    "df = pd.DataFrame(data, columns=['meaningful_1','meaningful_2','meaningful_3', 'meaningful_4', 'unrelated_1', 'unrelated_2', 'target'])\n",
    "df.head()"
   ]
  },
  {
   "cell_type": "code",
   "execution_count": 14,
   "id": "943a01ac-ff7e-42a2-bc4d-c57ef71b632f",
   "metadata": {},
   "outputs": [],
   "source": [
    "df.to_csv('regression_data/4-correlated-6-features.csv', index=False)"
   ]
  },
  {
   "cell_type": "code",
   "execution_count": null,
   "id": "fb2f397a-4423-4952-af64-a425abd4d38e",
   "metadata": {},
   "outputs": [],
   "source": []
  },
  {
   "cell_type": "markdown",
   "id": "c9ecb915-9d58-491b-b21e-7a8c2a63d4db",
   "metadata": {},
   "source": [
    "### 4 Correlated and 2 Uncorrelated Linear Features"
   ]
  },
  {
   "cell_type": "markdown",
   "id": "af59733a-08d2-4a1f-9d98-3aec5671a33a",
   "metadata": {},
   "source": [
    "From documentation\n",
    "- Generate a random regression problem with sparse uncorrelated design."
   ]
  },
  {
   "cell_type": "code",
   "execution_count": 15,
   "id": "95cd3810-5950-4a8c-9da7-bbe30dcdcb25",
   "metadata": {},
   "outputs": [],
   "source": [
    "# the first 4 coefficients are [0,2,-2,-1.5], the remaining are usesless.\n",
    "X,y = make_sparse_uncorrelated(n_samples=200, \n",
    "                               n_features=6, \n",
    "                               random_state=42)"
   ]
  },
  {
   "cell_type": "code",
   "execution_count": 16,
   "id": "b9739ba7-e78a-4586-9527-65d66c70a942",
   "metadata": {},
   "outputs": [],
   "source": [
    "data = np.concatenate((X,np.array([y]).T), axis=1)"
   ]
  },
  {
   "cell_type": "code",
   "execution_count": 17,
   "id": "4b5a0afe-e6a6-416f-bbea-3262720f346e",
   "metadata": {},
   "outputs": [
    {
     "data": {
      "text/html": [
       "<div>\n",
       "<style scoped>\n",
       "    .dataframe tbody tr th:only-of-type {\n",
       "        vertical-align: middle;\n",
       "    }\n",
       "\n",
       "    .dataframe tbody tr th {\n",
       "        vertical-align: top;\n",
       "    }\n",
       "\n",
       "    .dataframe thead th {\n",
       "        text-align: right;\n",
       "    }\n",
       "</style>\n",
       "<table border=\"1\" class=\"dataframe\">\n",
       "  <thead>\n",
       "    <tr style=\"text-align: right;\">\n",
       "      <th></th>\n",
       "      <th>meaningful_1</th>\n",
       "      <th>meaningful_2</th>\n",
       "      <th>meaningful_3</th>\n",
       "      <th>meaningful_4</th>\n",
       "      <th>unrelated_1</th>\n",
       "      <th>unrelated_2</th>\n",
       "      <th>target</th>\n",
       "    </tr>\n",
       "  </thead>\n",
       "  <tbody>\n",
       "    <tr>\n",
       "      <th>0</th>\n",
       "      <td>0.496714</td>\n",
       "      <td>-0.138264</td>\n",
       "      <td>0.647689</td>\n",
       "      <td>1.523030</td>\n",
       "      <td>-0.234153</td>\n",
       "      <td>-0.234137</td>\n",
       "      <td>-3.234512</td>\n",
       "    </tr>\n",
       "    <tr>\n",
       "      <th>1</th>\n",
       "      <td>1.579213</td>\n",
       "      <td>0.767435</td>\n",
       "      <td>-0.469474</td>\n",
       "      <td>0.542560</td>\n",
       "      <td>-0.463418</td>\n",
       "      <td>-0.465730</td>\n",
       "      <td>2.809785</td>\n",
       "    </tr>\n",
       "    <tr>\n",
       "      <th>2</th>\n",
       "      <td>0.241962</td>\n",
       "      <td>-1.913280</td>\n",
       "      <td>-1.724918</td>\n",
       "      <td>-0.562288</td>\n",
       "      <td>-1.012831</td>\n",
       "      <td>0.314247</td>\n",
       "      <td>0.830966</td>\n",
       "    </tr>\n",
       "    <tr>\n",
       "      <th>3</th>\n",
       "      <td>-0.908024</td>\n",
       "      <td>-1.412304</td>\n",
       "      <td>1.465649</td>\n",
       "      <td>-0.225776</td>\n",
       "      <td>0.067528</td>\n",
       "      <td>-1.424748</td>\n",
       "      <td>-5.781967</td>\n",
       "    </tr>\n",
       "    <tr>\n",
       "      <th>4</th>\n",
       "      <td>-0.544383</td>\n",
       "      <td>0.110923</td>\n",
       "      <td>-1.150994</td>\n",
       "      <td>0.375698</td>\n",
       "      <td>-0.600639</td>\n",
       "      <td>-0.291694</td>\n",
       "      <td>1.464763</td>\n",
       "    </tr>\n",
       "  </tbody>\n",
       "</table>\n",
       "</div>"
      ],
      "text/plain": [
       "   meaningful_1  meaningful_2  meaningful_3  meaningful_4  unrelated_1  \\\n",
       "0      0.496714     -0.138264      0.647689      1.523030    -0.234153   \n",
       "1      1.579213      0.767435     -0.469474      0.542560    -0.463418   \n",
       "2      0.241962     -1.913280     -1.724918     -0.562288    -1.012831   \n",
       "3     -0.908024     -1.412304      1.465649     -0.225776     0.067528   \n",
       "4     -0.544383      0.110923     -1.150994      0.375698    -0.600639   \n",
       "\n",
       "   unrelated_2    target  \n",
       "0    -0.234137 -3.234512  \n",
       "1    -0.465730  2.809785  \n",
       "2     0.314247  0.830966  \n",
       "3    -1.424748 -5.781967  \n",
       "4    -0.291694  1.464763  "
      ]
     },
     "execution_count": 17,
     "metadata": {},
     "output_type": "execute_result"
    }
   ],
   "source": [
    "df = pd.DataFrame(data, columns=['meaningful_1','meaningful_2','meaningful_3', 'meaningful_4', 'unrelated_1', 'unrelated_2', 'target'])\n",
    "df.head()"
   ]
  },
  {
   "cell_type": "code",
   "execution_count": 19,
   "id": "644b3d83-82c6-4c64-8b39-a8a3b3ef3d83",
   "metadata": {
    "tags": []
   },
   "outputs": [],
   "source": [
    "df.to_csv('regression_data/4-correlated-6-features-sparse.csv', index=False)"
   ]
  },
  {
   "cell_type": "code",
   "execution_count": null,
   "id": "0ac5d702-d936-4d1a-9391-6ae55a08507b",
   "metadata": {},
   "outputs": [],
   "source": [
    "# Regression data with categorical data\n"
   ]
  },
  {
   "cell_type": "code",
   "execution_count": 2,
   "id": "36d902cc",
   "metadata": {},
   "outputs": [],
   "source": [
    "X,y,coef = make_regression(n_samples=200, \n",
    "                           n_features=6, \n",
    "                           n_informative=6, \n",
    "                           coef=True,\n",
    "                           n_targets=1, \n",
    "                           bias=0, \n",
    "                           effective_rank=None, \n",
    "                           noise=0, \n",
    "                           random_state=42)"
   ]
  },
  {
   "cell_type": "code",
   "execution_count": 5,
   "id": "73a5eb05",
   "metadata": {},
   "outputs": [
    {
     "data": {
      "text/html": [
       "<div>\n",
       "<style scoped>\n",
       "    .dataframe tbody tr th:only-of-type {\n",
       "        vertical-align: middle;\n",
       "    }\n",
       "\n",
       "    .dataframe tbody tr th {\n",
       "        vertical-align: top;\n",
       "    }\n",
       "\n",
       "    .dataframe thead th {\n",
       "        text-align: right;\n",
       "    }\n",
       "</style>\n",
       "<table border=\"1\" class=\"dataframe\">\n",
       "  <thead>\n",
       "    <tr style=\"text-align: right;\">\n",
       "      <th></th>\n",
       "      <th>X1</th>\n",
       "      <th>X2</th>\n",
       "      <th>X3</th>\n",
       "      <th>X4</th>\n",
       "      <th>X5</th>\n",
       "      <th>X6</th>\n",
       "    </tr>\n",
       "  </thead>\n",
       "  <tbody>\n",
       "    <tr>\n",
       "      <th>0</th>\n",
       "      <td>-1.236951</td>\n",
       "      <td>0.781823</td>\n",
       "      <td>-1.320457</td>\n",
       "      <td>0.521942</td>\n",
       "      <td>0.296985</td>\n",
       "      <td>0.259883</td>\n",
       "    </tr>\n",
       "    <tr>\n",
       "      <th>1</th>\n",
       "      <td>-0.241236</td>\n",
       "      <td>0.243339</td>\n",
       "      <td>0.352055</td>\n",
       "      <td>-1.251539</td>\n",
       "      <td>1.443765</td>\n",
       "      <td>-0.045586</td>\n",
       "    </tr>\n",
       "    <tr>\n",
       "      <th>2</th>\n",
       "      <td>0.963376</td>\n",
       "      <td>-0.820682</td>\n",
       "      <td>0.412781</td>\n",
       "      <td>0.822060</td>\n",
       "      <td>1.896793</td>\n",
       "      <td>1.158596</td>\n",
       "    </tr>\n",
       "    <tr>\n",
       "      <th>3</th>\n",
       "      <td>-0.240325</td>\n",
       "      <td>0.712998</td>\n",
       "      <td>-0.374821</td>\n",
       "      <td>0.710960</td>\n",
       "      <td>0.444263</td>\n",
       "      <td>-1.222128</td>\n",
       "    </tr>\n",
       "    <tr>\n",
       "      <th>4</th>\n",
       "      <td>-0.024355</td>\n",
       "      <td>-0.573700</td>\n",
       "      <td>2.142270</td>\n",
       "      <td>1.727543</td>\n",
       "      <td>0.436324</td>\n",
       "      <td>0.522835</td>\n",
       "    </tr>\n",
       "  </tbody>\n",
       "</table>\n",
       "</div>"
      ],
      "text/plain": [
       "         X1        X2        X3        X4        X5        X6\n",
       "0 -1.236951  0.781823 -1.320457  0.521942  0.296985  0.259883\n",
       "1 -0.241236  0.243339  0.352055 -1.251539  1.443765 -0.045586\n",
       "2  0.963376 -0.820682  0.412781  0.822060  1.896793  1.158596\n",
       "3 -0.240325  0.712998 -0.374821  0.710960  0.444263 -1.222128\n",
       "4 -0.024355 -0.573700  2.142270  1.727543  0.436324  0.522835"
      ]
     },
     "execution_count": 5,
     "metadata": {},
     "output_type": "execute_result"
    }
   ],
   "source": [
    "# creating the dataframe\n",
    "column_values=['X1','X2','X3','X4','X5','X6']\n",
    "df = pd.DataFrame(data = X,  \n",
    "                  columns = column_values)\n",
    "\n",
    "df.head()"
   ]
  },
  {
   "cell_type": "code",
   "execution_count": 6,
   "id": "42480a8f",
   "metadata": {},
   "outputs": [
    {
     "data": {
      "text/html": [
       "<div>\n",
       "<style scoped>\n",
       "    .dataframe tbody tr th:only-of-type {\n",
       "        vertical-align: middle;\n",
       "    }\n",
       "\n",
       "    .dataframe tbody tr th {\n",
       "        vertical-align: top;\n",
       "    }\n",
       "\n",
       "    .dataframe thead th {\n",
       "        text-align: right;\n",
       "    }\n",
       "</style>\n",
       "<table border=\"1\" class=\"dataframe\">\n",
       "  <thead>\n",
       "    <tr style=\"text-align: right;\">\n",
       "      <th></th>\n",
       "      <th>X1</th>\n",
       "      <th>X2</th>\n",
       "      <th>X3</th>\n",
       "      <th>X4</th>\n",
       "      <th>X5</th>\n",
       "      <th>X6</th>\n",
       "    </tr>\n",
       "  </thead>\n",
       "  <tbody>\n",
       "    <tr>\n",
       "      <th>count</th>\n",
       "      <td>200.000000</td>\n",
       "      <td>200.000000</td>\n",
       "      <td>200.000000</td>\n",
       "      <td>200.000000</td>\n",
       "      <td>200.000000</td>\n",
       "      <td>200.000000</td>\n",
       "    </tr>\n",
       "    <tr>\n",
       "      <th>mean</th>\n",
       "      <td>0.010974</td>\n",
       "      <td>-0.048585</td>\n",
       "      <td>-0.010561</td>\n",
       "      <td>-0.015709</td>\n",
       "      <td>0.144399</td>\n",
       "      <td>0.149776</td>\n",
       "    </tr>\n",
       "    <tr>\n",
       "      <th>std</th>\n",
       "      <td>0.991795</td>\n",
       "      <td>0.983657</td>\n",
       "      <td>0.968932</td>\n",
       "      <td>1.017910</td>\n",
       "      <td>1.068094</td>\n",
       "      <td>0.884078</td>\n",
       "    </tr>\n",
       "    <tr>\n",
       "      <th>min</th>\n",
       "      <td>-2.650970</td>\n",
       "      <td>-2.041735</td>\n",
       "      <td>-2.896255</td>\n",
       "      <td>-3.241267</td>\n",
       "      <td>-2.848543</td>\n",
       "      <td>-2.081929</td>\n",
       "    </tr>\n",
       "    <tr>\n",
       "      <th>25%</th>\n",
       "      <td>-0.658570</td>\n",
       "      <td>-0.811394</td>\n",
       "      <td>-0.687282</td>\n",
       "      <td>-0.634061</td>\n",
       "      <td>-0.523584</td>\n",
       "      <td>-0.481741</td>\n",
       "    </tr>\n",
       "    <tr>\n",
       "      <th>50%</th>\n",
       "      <td>0.049273</td>\n",
       "      <td>-0.073637</td>\n",
       "      <td>0.047549</td>\n",
       "      <td>0.008269</td>\n",
       "      <td>0.119669</td>\n",
       "      <td>0.148998</td>\n",
       "    </tr>\n",
       "    <tr>\n",
       "      <th>75%</th>\n",
       "      <td>0.659715</td>\n",
       "      <td>0.688590</td>\n",
       "      <td>0.578226</td>\n",
       "      <td>0.647623</td>\n",
       "      <td>0.849757</td>\n",
       "      <td>0.639728</td>\n",
       "    </tr>\n",
       "    <tr>\n",
       "      <th>max</th>\n",
       "      <td>2.445752</td>\n",
       "      <td>2.455300</td>\n",
       "      <td>2.290943</td>\n",
       "      <td>3.078881</td>\n",
       "      <td>3.852731</td>\n",
       "      <td>2.573360</td>\n",
       "    </tr>\n",
       "  </tbody>\n",
       "</table>\n",
       "</div>"
      ],
      "text/plain": [
       "               X1          X2          X3          X4          X5          X6\n",
       "count  200.000000  200.000000  200.000000  200.000000  200.000000  200.000000\n",
       "mean     0.010974   -0.048585   -0.010561   -0.015709    0.144399    0.149776\n",
       "std      0.991795    0.983657    0.968932    1.017910    1.068094    0.884078\n",
       "min     -2.650970   -2.041735   -2.896255   -3.241267   -2.848543   -2.081929\n",
       "25%     -0.658570   -0.811394   -0.687282   -0.634061   -0.523584   -0.481741\n",
       "50%      0.049273   -0.073637    0.047549    0.008269    0.119669    0.148998\n",
       "75%      0.659715    0.688590    0.578226    0.647623    0.849757    0.639728\n",
       "max      2.445752    2.455300    2.290943    3.078881    3.852731    2.573360"
      ]
     },
     "execution_count": 6,
     "metadata": {},
     "output_type": "execute_result"
    }
   ],
   "source": [
    "df.describe()"
   ]
  },
  {
   "cell_type": "code",
   "execution_count": 9,
   "id": "156e6f22",
   "metadata": {},
   "outputs": [
    {
     "data": {
      "text/html": [
       "<div>\n",
       "<style scoped>\n",
       "    .dataframe tbody tr th:only-of-type {\n",
       "        vertical-align: middle;\n",
       "    }\n",
       "\n",
       "    .dataframe tbody tr th {\n",
       "        vertical-align: top;\n",
       "    }\n",
       "\n",
       "    .dataframe thead th {\n",
       "        text-align: right;\n",
       "    }\n",
       "</style>\n",
       "<table border=\"1\" class=\"dataframe\">\n",
       "  <thead>\n",
       "    <tr style=\"text-align: right;\">\n",
       "      <th></th>\n",
       "      <th>X1</th>\n",
       "      <th>X2</th>\n",
       "      <th>X3</th>\n",
       "      <th>X4</th>\n",
       "      <th>X5</th>\n",
       "      <th>X6</th>\n",
       "      <th>X6_binned</th>\n",
       "    </tr>\n",
       "  </thead>\n",
       "  <tbody>\n",
       "    <tr>\n",
       "      <th>0</th>\n",
       "      <td>-1.236951</td>\n",
       "      <td>0.781823</td>\n",
       "      <td>-1.320457</td>\n",
       "      <td>0.521942</td>\n",
       "      <td>0.296985</td>\n",
       "      <td>0.259883</td>\n",
       "      <td>C</td>\n",
       "    </tr>\n",
       "    <tr>\n",
       "      <th>1</th>\n",
       "      <td>-0.241236</td>\n",
       "      <td>0.243339</td>\n",
       "      <td>0.352055</td>\n",
       "      <td>-1.251539</td>\n",
       "      <td>1.443765</td>\n",
       "      <td>-0.045586</td>\n",
       "      <td>B</td>\n",
       "    </tr>\n",
       "    <tr>\n",
       "      <th>2</th>\n",
       "      <td>0.963376</td>\n",
       "      <td>-0.820682</td>\n",
       "      <td>0.412781</td>\n",
       "      <td>0.822060</td>\n",
       "      <td>1.896793</td>\n",
       "      <td>1.158596</td>\n",
       "      <td>D</td>\n",
       "    </tr>\n",
       "    <tr>\n",
       "      <th>3</th>\n",
       "      <td>-0.240325</td>\n",
       "      <td>0.712998</td>\n",
       "      <td>-0.374821</td>\n",
       "      <td>0.710960</td>\n",
       "      <td>0.444263</td>\n",
       "      <td>-1.222128</td>\n",
       "      <td>A</td>\n",
       "    </tr>\n",
       "    <tr>\n",
       "      <th>4</th>\n",
       "      <td>-0.024355</td>\n",
       "      <td>-0.573700</td>\n",
       "      <td>2.142270</td>\n",
       "      <td>1.727543</td>\n",
       "      <td>0.436324</td>\n",
       "      <td>0.522835</td>\n",
       "      <td>C</td>\n",
       "    </tr>\n",
       "  </tbody>\n",
       "</table>\n",
       "</div>"
      ],
      "text/plain": [
       "         X1        X2        X3        X4        X5        X6 X6_binned\n",
       "0 -1.236951  0.781823 -1.320457  0.521942  0.296985  0.259883         C\n",
       "1 -0.241236  0.243339  0.352055 -1.251539  1.443765 -0.045586         B\n",
       "2  0.963376 -0.820682  0.412781  0.822060  1.896793  1.158596         D\n",
       "3 -0.240325  0.712998 -0.374821  0.710960  0.444263 -1.222128         A\n",
       "4 -0.024355 -0.573700  2.142270  1.727543  0.436324  0.522835         C"
      ]
     },
     "execution_count": 9,
     "metadata": {},
     "output_type": "execute_result"
    }
   ],
   "source": [
    "df['X6_binned'] = pd.qcut(df['X6'],\n",
    "                           q=4,\n",
    "                           labels=['A', 'B', 'C', 'D'])\n",
    "\n",
    "df.head()"
   ]
  },
  {
   "cell_type": "code",
   "execution_count": 10,
   "id": "9ec24e71",
   "metadata": {},
   "outputs": [
    {
     "data": {
      "text/html": [
       "<div>\n",
       "<style scoped>\n",
       "    .dataframe tbody tr th:only-of-type {\n",
       "        vertical-align: middle;\n",
       "    }\n",
       "\n",
       "    .dataframe tbody tr th {\n",
       "        vertical-align: top;\n",
       "    }\n",
       "\n",
       "    .dataframe thead th {\n",
       "        text-align: right;\n",
       "    }\n",
       "</style>\n",
       "<table border=\"1\" class=\"dataframe\">\n",
       "  <thead>\n",
       "    <tr style=\"text-align: right;\">\n",
       "      <th></th>\n",
       "      <th>X1</th>\n",
       "      <th>X2</th>\n",
       "      <th>X3</th>\n",
       "      <th>X4</th>\n",
       "      <th>X5</th>\n",
       "      <th>X6_binned</th>\n",
       "    </tr>\n",
       "  </thead>\n",
       "  <tbody>\n",
       "    <tr>\n",
       "      <th>0</th>\n",
       "      <td>-1.236951</td>\n",
       "      <td>0.781823</td>\n",
       "      <td>-1.320457</td>\n",
       "      <td>0.521942</td>\n",
       "      <td>0.296985</td>\n",
       "      <td>C</td>\n",
       "    </tr>\n",
       "    <tr>\n",
       "      <th>1</th>\n",
       "      <td>-0.241236</td>\n",
       "      <td>0.243339</td>\n",
       "      <td>0.352055</td>\n",
       "      <td>-1.251539</td>\n",
       "      <td>1.443765</td>\n",
       "      <td>B</td>\n",
       "    </tr>\n",
       "    <tr>\n",
       "      <th>2</th>\n",
       "      <td>0.963376</td>\n",
       "      <td>-0.820682</td>\n",
       "      <td>0.412781</td>\n",
       "      <td>0.822060</td>\n",
       "      <td>1.896793</td>\n",
       "      <td>D</td>\n",
       "    </tr>\n",
       "    <tr>\n",
       "      <th>3</th>\n",
       "      <td>-0.240325</td>\n",
       "      <td>0.712998</td>\n",
       "      <td>-0.374821</td>\n",
       "      <td>0.710960</td>\n",
       "      <td>0.444263</td>\n",
       "      <td>A</td>\n",
       "    </tr>\n",
       "    <tr>\n",
       "      <th>4</th>\n",
       "      <td>-0.024355</td>\n",
       "      <td>-0.573700</td>\n",
       "      <td>2.142270</td>\n",
       "      <td>1.727543</td>\n",
       "      <td>0.436324</td>\n",
       "      <td>C</td>\n",
       "    </tr>\n",
       "  </tbody>\n",
       "</table>\n",
       "</div>"
      ],
      "text/plain": [
       "         X1        X2        X3        X4        X5 X6_binned\n",
       "0 -1.236951  0.781823 -1.320457  0.521942  0.296985         C\n",
       "1 -0.241236  0.243339  0.352055 -1.251539  1.443765         B\n",
       "2  0.963376 -0.820682  0.412781  0.822060  1.896793         D\n",
       "3 -0.240325  0.712998 -0.374821  0.710960  0.444263         A\n",
       "4 -0.024355 -0.573700  2.142270  1.727543  0.436324         C"
      ]
     },
     "execution_count": 10,
     "metadata": {},
     "output_type": "execute_result"
    }
   ],
   "source": [
    "df_final = df.drop('X6', axis=1)\n",
    "df_final.head()"
   ]
  },
  {
   "cell_type": "code",
   "execution_count": 11,
   "id": "5383ec92",
   "metadata": {},
   "outputs": [],
   "source": [
    "df_final.to_csv('regression_data/6-features-1-categorical.csv', index=False)"
   ]
  }
 ],
 "metadata": {
  "kernelspec": {
   "display_name": "Python 3",
   "language": "python",
   "name": "python3"
  },
  "language_info": {
   "codemirror_mode": {
    "name": "ipython",
    "version": 3
   },
   "file_extension": ".py",
   "mimetype": "text/x-python",
   "name": "python",
   "nbconvert_exporter": "python",
   "pygments_lexer": "ipython3",
   "version": "3.10.9"
  },
  "vscode": {
   "interpreter": {
    "hash": "143f044a56c468acad165865d089ac2b8daa7cc50e8b23b8f8475aa883faefcd"
   }
  }
 },
 "nbformat": 4,
 "nbformat_minor": 5
}
