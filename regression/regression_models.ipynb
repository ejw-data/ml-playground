{
 "cells": [
  {
   "cell_type": "code",
   "execution_count": 1,
   "metadata": {},
   "outputs": [],
   "source": [
    "# Dependencies\n",
    "import pandas as pd\n",
    "from sklearn.linear_model import LinearRegression, Lasso, Ridge, ElasticNet\n",
    "import matplotlib.pyplot as plt"
   ]
  },
  {
   "cell_type": "code",
   "execution_count": 2,
   "metadata": {},
   "outputs": [
    {
     "data": {
      "text/html": [
       "<div>\n",
       "<style scoped>\n",
       "    .dataframe tbody tr th:only-of-type {\n",
       "        vertical-align: middle;\n",
       "    }\n",
       "\n",
       "    .dataframe tbody tr th {\n",
       "        vertical-align: top;\n",
       "    }\n",
       "\n",
       "    .dataframe thead th {\n",
       "        text-align: right;\n",
       "    }\n",
       "</style>\n",
       "<table border=\"1\" class=\"dataframe\">\n",
       "  <thead>\n",
       "    <tr style=\"text-align: right;\">\n",
       "      <th></th>\n",
       "      <th>house_id</th>\n",
       "      <th>date</th>\n",
       "      <th>time</th>\n",
       "      <th>external_temp</th>\n",
       "      <th>temp-celsius</th>\n",
       "      <th>temp-load-2</th>\n",
       "      <th>temp-load-1</th>\n",
       "      <th>temp-load</th>\n",
       "      <th>house_sqft</th>\n",
       "      <th>trees</th>\n",
       "      <th>dryer</th>\n",
       "      <th>washer</th>\n",
       "      <th>people_present</th>\n",
       "      <th>total-energy</th>\n",
       "    </tr>\n",
       "  </thead>\n",
       "  <tbody>\n",
       "    <tr>\n",
       "      <th>0</th>\n",
       "      <td>1</td>\n",
       "      <td>1</td>\n",
       "      <td>1</td>\n",
       "      <td>30</td>\n",
       "      <td>-1.111111</td>\n",
       "      <td>1.186178</td>\n",
       "      <td>1.186178</td>\n",
       "      <td>1.186178</td>\n",
       "      <td>780</td>\n",
       "      <td>1</td>\n",
       "      <td>0</td>\n",
       "      <td>0</td>\n",
       "      <td>1</td>\n",
       "      <td>1.359444</td>\n",
       "    </tr>\n",
       "    <tr>\n",
       "      <th>1</th>\n",
       "      <td>1</td>\n",
       "      <td>1</td>\n",
       "      <td>2</td>\n",
       "      <td>29</td>\n",
       "      <td>-1.666667</td>\n",
       "      <td>1.186178</td>\n",
       "      <td>1.186178</td>\n",
       "      <td>1.215067</td>\n",
       "      <td>780</td>\n",
       "      <td>1</td>\n",
       "      <td>0</td>\n",
       "      <td>0</td>\n",
       "      <td>1</td>\n",
       "      <td>1.388333</td>\n",
       "    </tr>\n",
       "    <tr>\n",
       "      <th>2</th>\n",
       "      <td>1</td>\n",
       "      <td>1</td>\n",
       "      <td>3</td>\n",
       "      <td>28</td>\n",
       "      <td>-2.222222</td>\n",
       "      <td>1.186178</td>\n",
       "      <td>1.215067</td>\n",
       "      <td>1.243956</td>\n",
       "      <td>780</td>\n",
       "      <td>1</td>\n",
       "      <td>0</td>\n",
       "      <td>0</td>\n",
       "      <td>1</td>\n",
       "      <td>1.417222</td>\n",
       "    </tr>\n",
       "    <tr>\n",
       "      <th>3</th>\n",
       "      <td>1</td>\n",
       "      <td>1</td>\n",
       "      <td>4</td>\n",
       "      <td>28</td>\n",
       "      <td>-2.222222</td>\n",
       "      <td>1.215067</td>\n",
       "      <td>1.243956</td>\n",
       "      <td>1.243956</td>\n",
       "      <td>780</td>\n",
       "      <td>1</td>\n",
       "      <td>0</td>\n",
       "      <td>0</td>\n",
       "      <td>1</td>\n",
       "      <td>1.407593</td>\n",
       "    </tr>\n",
       "    <tr>\n",
       "      <th>4</th>\n",
       "      <td>1</td>\n",
       "      <td>1</td>\n",
       "      <td>5</td>\n",
       "      <td>27</td>\n",
       "      <td>-2.777778</td>\n",
       "      <td>1.243956</td>\n",
       "      <td>1.243956</td>\n",
       "      <td>1.272844</td>\n",
       "      <td>780</td>\n",
       "      <td>1</td>\n",
       "      <td>0</td>\n",
       "      <td>0</td>\n",
       "      <td>1</td>\n",
       "      <td>1.426852</td>\n",
       "    </tr>\n",
       "  </tbody>\n",
       "</table>\n",
       "</div>"
      ],
      "text/plain": [
       "   house_id  date  time  external_temp  temp-celsius  temp-load-2  \\\n",
       "0         1     1     1             30     -1.111111     1.186178   \n",
       "1         1     1     2             29     -1.666667     1.186178   \n",
       "2         1     1     3             28     -2.222222     1.186178   \n",
       "3         1     1     4             28     -2.222222     1.215067   \n",
       "4         1     1     5             27     -2.777778     1.243956   \n",
       "\n",
       "   temp-load-1  temp-load  house_sqft  trees  dryer  washer  people_present  \\\n",
       "0     1.186178   1.186178         780      1      0       0               1   \n",
       "1     1.186178   1.215067         780      1      0       0               1   \n",
       "2     1.215067   1.243956         780      1      0       0               1   \n",
       "3     1.243956   1.243956         780      1      0       0               1   \n",
       "4     1.243956   1.272844         780      1      0       0               1   \n",
       "\n",
       "   total-energy  \n",
       "0      1.359444  \n",
       "1      1.388333  \n",
       "2      1.417222  \n",
       "3      1.407593  \n",
       "4      1.426852  "
      ]
     },
     "execution_count": 2,
     "metadata": {},
     "output_type": "execute_result"
    }
   ],
   "source": [
    "# import synthetic data\n",
    "df = pd.read_csv('data/regression_data/time-series.csv')\n",
    "df.head()"
   ]
  },
  {
   "cell_type": "code",
   "execution_count": 3,
   "metadata": {},
   "outputs": [],
   "source": [
    "X = df[['temp-load-2', \n",
    "        'temp-load-1',\n",
    "        'temp-load',\n",
    "        'house_sqft',\n",
    "        'trees',\n",
    "        'dryer',\n",
    "        'washer',\n",
    "        'people_present']]\n",
    "\n",
    "y = df['total-energy']"
   ]
  },
  {
   "cell_type": "code",
   "execution_count": 4,
   "metadata": {},
   "outputs": [
    {
     "data": {
      "text/plain": [
       "0.9998825071563934"
      ]
     },
     "execution_count": 4,
     "metadata": {},
     "output_type": "execute_result"
    }
   ],
   "source": [
    "# create OLS model\n",
    "reg = LinearRegression().fit(X, y)\n",
    "reg.score(X, y)"
   ]
  },
  {
   "cell_type": "code",
   "execution_count": null,
   "metadata": {},
   "outputs": [],
   "source": []
  },
  {
   "cell_type": "code",
   "execution_count": 5,
   "metadata": {},
   "outputs": [
    {
     "data": {
      "text/plain": [
       "0.36079716473673895"
      ]
     },
     "execution_count": 5,
     "metadata": {},
     "output_type": "execute_result"
    }
   ],
   "source": [
    "# create OLS model\n",
    "reg = Lasso().fit(X, y)\n",
    "reg.score(X, y)"
   ]
  },
  {
   "cell_type": "code",
   "execution_count": null,
   "metadata": {},
   "outputs": [],
   "source": []
  },
  {
   "cell_type": "code",
   "execution_count": 6,
   "metadata": {},
   "outputs": [
    {
     "data": {
      "text/plain": [
       "0.9960372411110554"
      ]
     },
     "execution_count": 6,
     "metadata": {},
     "output_type": "execute_result"
    }
   ],
   "source": [
    "# create OLS model\n",
    "reg = Ridge().fit(X, y)\n",
    "reg.score(X, y)"
   ]
  }
 ],
 "metadata": {
  "kernelspec": {
   "display_name": "PythonData38",
   "language": "python",
   "name": "python3"
  },
  "language_info": {
   "codemirror_mode": {
    "name": "ipython",
    "version": 3
   },
   "file_extension": ".py",
   "mimetype": "text/x-python",
   "name": "python",
   "nbconvert_exporter": "python",
   "pygments_lexer": "ipython3",
   "version": "3.8.13"
  },
  "orig_nbformat": 4,
  "vscode": {
   "interpreter": {
    "hash": "143f044a56c468acad165865d089ac2b8daa7cc50e8b23b8f8475aa883faefcd"
   }
  }
 },
 "nbformat": 4,
 "nbformat_minor": 2
}
