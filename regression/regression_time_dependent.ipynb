{
 "cells": [
  {
   "cell_type": "markdown",
   "id": "fd4739c4-59a3-4513-8583-29acbdf17969",
   "metadata": {},
   "source": [
    "## MultiRegression with Time Dependency  \n",
    "\n",
    "The temp load features (temp-load, temp-load-1, temp-load-2) allow the model to learn from the historical temperature load values.  The columns act as a lag where load from two prior time frames is called (temp-load-2) and similarly a lag where the load from one prior time frame is called (temp-load-1)."
   ]
  },
  {
   "cell_type": "code",
   "execution_count": 1,
   "id": "c54be196-8c50-4b8a-8111-fcb79c310275",
   "metadata": {},
   "outputs": [],
   "source": [
    "# Dependencies\n",
    "import pandas as pd\n",
    "from sklearn.linear_model import LinearRegression\n",
    "import matplotlib.pyplot as plt"
   ]
  },
  {
   "cell_type": "code",
   "execution_count": 3,
   "id": "370316f4-3753-4f5e-954e-bc775585b604",
   "metadata": {},
   "outputs": [
    {
     "data": {
      "text/html": [
       "<div>\n",
       "<style scoped>\n",
       "    .dataframe tbody tr th:only-of-type {\n",
       "        vertical-align: middle;\n",
       "    }\n",
       "\n",
       "    .dataframe tbody tr th {\n",
       "        vertical-align: top;\n",
       "    }\n",
       "\n",
       "    .dataframe thead th {\n",
       "        text-align: right;\n",
       "    }\n",
       "</style>\n",
       "<table border=\"1\" class=\"dataframe\">\n",
       "  <thead>\n",
       "    <tr style=\"text-align: right;\">\n",
       "      <th></th>\n",
       "      <th>house_id</th>\n",
       "      <th>date</th>\n",
       "      <th>time</th>\n",
       "      <th>external_temp</th>\n",
       "      <th>temp-celsius</th>\n",
       "      <th>temp-load-2</th>\n",
       "      <th>temp-load-1</th>\n",
       "      <th>temp-load</th>\n",
       "      <th>house_sqft</th>\n",
       "      <th>trees</th>\n",
       "      <th>dryer</th>\n",
       "      <th>washer</th>\n",
       "      <th>people_present</th>\n",
       "      <th>total-energy</th>\n",
       "    </tr>\n",
       "  </thead>\n",
       "  <tbody>\n",
       "    <tr>\n",
       "      <th>0</th>\n",
       "      <td>1</td>\n",
       "      <td>1</td>\n",
       "      <td>1</td>\n",
       "      <td>30</td>\n",
       "      <td>-1.111111</td>\n",
       "      <td>1.186178</td>\n",
       "      <td>1.186178</td>\n",
       "      <td>1.186178</td>\n",
       "      <td>780</td>\n",
       "      <td>1</td>\n",
       "      <td>0</td>\n",
       "      <td>0</td>\n",
       "      <td>1</td>\n",
       "      <td>1.359444</td>\n",
       "    </tr>\n",
       "    <tr>\n",
       "      <th>1</th>\n",
       "      <td>1</td>\n",
       "      <td>1</td>\n",
       "      <td>2</td>\n",
       "      <td>29</td>\n",
       "      <td>-1.666667</td>\n",
       "      <td>1.186178</td>\n",
       "      <td>1.186178</td>\n",
       "      <td>1.215067</td>\n",
       "      <td>780</td>\n",
       "      <td>1</td>\n",
       "      <td>0</td>\n",
       "      <td>0</td>\n",
       "      <td>1</td>\n",
       "      <td>1.388333</td>\n",
       "    </tr>\n",
       "    <tr>\n",
       "      <th>2</th>\n",
       "      <td>1</td>\n",
       "      <td>1</td>\n",
       "      <td>3</td>\n",
       "      <td>28</td>\n",
       "      <td>-2.222222</td>\n",
       "      <td>1.186178</td>\n",
       "      <td>1.215067</td>\n",
       "      <td>1.243956</td>\n",
       "      <td>780</td>\n",
       "      <td>1</td>\n",
       "      <td>0</td>\n",
       "      <td>0</td>\n",
       "      <td>1</td>\n",
       "      <td>1.417222</td>\n",
       "    </tr>\n",
       "    <tr>\n",
       "      <th>3</th>\n",
       "      <td>1</td>\n",
       "      <td>1</td>\n",
       "      <td>4</td>\n",
       "      <td>28</td>\n",
       "      <td>-2.222222</td>\n",
       "      <td>1.215067</td>\n",
       "      <td>1.243956</td>\n",
       "      <td>1.243956</td>\n",
       "      <td>780</td>\n",
       "      <td>1</td>\n",
       "      <td>0</td>\n",
       "      <td>0</td>\n",
       "      <td>1</td>\n",
       "      <td>1.407593</td>\n",
       "    </tr>\n",
       "    <tr>\n",
       "      <th>4</th>\n",
       "      <td>1</td>\n",
       "      <td>1</td>\n",
       "      <td>5</td>\n",
       "      <td>27</td>\n",
       "      <td>-2.777778</td>\n",
       "      <td>1.243956</td>\n",
       "      <td>1.243956</td>\n",
       "      <td>1.272844</td>\n",
       "      <td>780</td>\n",
       "      <td>1</td>\n",
       "      <td>0</td>\n",
       "      <td>0</td>\n",
       "      <td>1</td>\n",
       "      <td>1.426852</td>\n",
       "    </tr>\n",
       "  </tbody>\n",
       "</table>\n",
       "</div>"
      ],
      "text/plain": [
       "   house_id  date  time  external_temp  temp-celsius  temp-load-2  \\\n",
       "0         1     1     1             30     -1.111111     1.186178   \n",
       "1         1     1     2             29     -1.666667     1.186178   \n",
       "2         1     1     3             28     -2.222222     1.186178   \n",
       "3         1     1     4             28     -2.222222     1.215067   \n",
       "4         1     1     5             27     -2.777778     1.243956   \n",
       "\n",
       "   temp-load-1  temp-load  house_sqft  trees  dryer  washer  people_present  \\\n",
       "0     1.186178   1.186178         780      1      0       0               1   \n",
       "1     1.186178   1.215067         780      1      0       0               1   \n",
       "2     1.215067   1.243956         780      1      0       0               1   \n",
       "3     1.243956   1.243956         780      1      0       0               1   \n",
       "4     1.243956   1.272844         780      1      0       0               1   \n",
       "\n",
       "   total-energy  \n",
       "0      1.359444  \n",
       "1      1.388333  \n",
       "2      1.417222  \n",
       "3      1.407593  \n",
       "4      1.426852  "
      ]
     },
     "execution_count": 3,
     "metadata": {},
     "output_type": "execute_result"
    }
   ],
   "source": [
    "df = pd.read_csv('data/regression_data/time-series.csv')\n",
    "df.head()"
   ]
  },
  {
   "cell_type": "code",
   "execution_count": 4,
   "id": "978d45d0-ffdb-4b27-8f36-fa5bc27b0112",
   "metadata": {},
   "outputs": [
    {
     "data": {
      "text/html": [
       "<div>\n",
       "<style scoped>\n",
       "    .dataframe tbody tr th:only-of-type {\n",
       "        vertical-align: middle;\n",
       "    }\n",
       "\n",
       "    .dataframe tbody tr th {\n",
       "        vertical-align: top;\n",
       "    }\n",
       "\n",
       "    .dataframe thead th {\n",
       "        text-align: right;\n",
       "    }\n",
       "</style>\n",
       "<table border=\"1\" class=\"dataframe\">\n",
       "  <thead>\n",
       "    <tr style=\"text-align: right;\">\n",
       "      <th></th>\n",
       "      <th>house_id</th>\n",
       "      <th>date</th>\n",
       "      <th>time</th>\n",
       "      <th>external_temp</th>\n",
       "      <th>temp-celsius</th>\n",
       "      <th>temp-load-2</th>\n",
       "      <th>temp-load-1</th>\n",
       "      <th>temp-load</th>\n",
       "      <th>house_sqft</th>\n",
       "      <th>trees</th>\n",
       "      <th>dryer</th>\n",
       "      <th>washer</th>\n",
       "      <th>people_present</th>\n",
       "      <th>total-energy</th>\n",
       "    </tr>\n",
       "  </thead>\n",
       "  <tbody>\n",
       "  </tbody>\n",
       "</table>\n",
       "</div>"
      ],
      "text/plain": [
       "Empty DataFrame\n",
       "Columns: [house_id, date, time, external_temp, temp-celsius, temp-load-2, temp-load-1, temp-load, house_sqft, trees, dryer, washer, people_present, total-energy]\n",
       "Index: []"
      ]
     },
     "execution_count": 4,
     "metadata": {},
     "output_type": "execute_result"
    }
   ],
   "source": [
    "df[df.isna().any(axis=1)]"
   ]
  },
  {
   "cell_type": "code",
   "execution_count": 5,
   "id": "2b5d7ead-e2cb-481a-98d6-d7e24ad0f609",
   "metadata": {},
   "outputs": [
    {
     "data": {
      "text/plain": [
       "['house_id',\n",
       " 'date',\n",
       " 'time',\n",
       " 'external_temp',\n",
       " 'temp-celsius',\n",
       " 'temp-load-2',\n",
       " 'temp-load-1',\n",
       " 'temp-load',\n",
       " 'house_sqft',\n",
       " 'trees',\n",
       " 'dryer',\n",
       " 'washer',\n",
       " 'people_present',\n",
       " 'total-energy']"
      ]
     },
     "execution_count": 5,
     "metadata": {},
     "output_type": "execute_result"
    }
   ],
   "source": [
    "list(df.columns)"
   ]
  },
  {
   "cell_type": "code",
   "execution_count": 7,
   "id": "01304e0d-eb91-440d-9b5e-0e741071f5b9",
   "metadata": {},
   "outputs": [],
   "source": [
    "X = df[['temp-load-2', \n",
    "        'temp-load-1',\n",
    "        'temp-load',\n",
    "        'house_sqft',\n",
    "        'trees',\n",
    "        'dryer',\n",
    "        'washer',\n",
    "        'people_present']]"
   ]
  },
  {
   "cell_type": "code",
   "execution_count": 8,
   "id": "7ceb5baa-b676-4ef0-b25d-a01edf5a251b",
   "metadata": {},
   "outputs": [],
   "source": [
    "y = df['total-energy']"
   ]
  },
  {
   "cell_type": "code",
   "execution_count": 9,
   "id": "85fef2f8-97cf-4650-86e8-a1fbfb8eb48d",
   "metadata": {},
   "outputs": [],
   "source": [
    "reg = LinearRegression().fit(X, y)"
   ]
  },
  {
   "cell_type": "code",
   "execution_count": 10,
   "id": "1f317b1b-32e9-41fe-a772-1662125cabde",
   "metadata": {},
   "outputs": [
    {
     "data": {
      "text/plain": [
       "0.9998825071563934"
      ]
     },
     "execution_count": 10,
     "metadata": {},
     "output_type": "execute_result"
    }
   ],
   "source": [
    "reg.score(X, y)"
   ]
  },
  {
   "cell_type": "code",
   "execution_count": 13,
   "id": "97e2af51-056a-4075-81e8-a0a5575a81a6",
   "metadata": {},
   "outputs": [
    {
     "name": "stdout",
     "output_type": "stream",
     "text": [
      "temp-load-2          0.23\n",
      "temp-load-1          0.394\n",
      "temp-load            0.373\n",
      "house_sqft           0.001\n",
      "trees                -1.002\n",
      "dryer                4.0\n",
      "washer               0.497\n",
      "people_present       0.199\n"
     ]
    },
    {
     "data": {
      "text/plain": [
       "[None, None, None, None, None, None, None, None]"
      ]
     },
     "execution_count": 13,
     "metadata": {},
     "output_type": "execute_result"
    }
   ],
   "source": [
    "[print(f\"{list(X.columns)[k]:<20} {round(v,3)}\") for k,v in enumerate(list(reg.coef_))]"
   ]
  },
  {
   "cell_type": "code",
   "execution_count": 14,
   "id": "f10ff81c-a113-43d3-804c-01aed7394e7b",
   "metadata": {},
   "outputs": [
    {
     "data": {
      "text/plain": [
       "0.002"
      ]
     },
     "execution_count": 14,
     "metadata": {},
     "output_type": "execute_result"
    }
   ],
   "source": [
    "round(reg.intercept_,3)"
   ]
  },
  {
   "cell_type": "markdown",
   "id": "a6587d69-486a-43f2-991b-9262017c03a2",
   "metadata": {},
   "source": [
    "### Summary\n",
    "- Based on how the data set was generated, these coeffients make sense."
   ]
  },
  {
   "cell_type": "code",
   "execution_count": null,
   "id": "5bb57e24-4fba-43f3-a9cc-2d173848b43e",
   "metadata": {},
   "outputs": [],
   "source": []
  }
 ],
 "metadata": {
  "kernelspec": {
   "display_name": "Python 3",
   "language": "python",
   "name": "python3"
  },
  "language_info": {
   "codemirror_mode": {
    "name": "ipython",
    "version": 3
   },
   "file_extension": ".py",
   "mimetype": "text/x-python",
   "name": "python",
   "nbconvert_exporter": "python",
   "pygments_lexer": "ipython3",
   "version": "3.8.13"
  },
  "vscode": {
   "interpreter": {
    "hash": "143f044a56c468acad165865d089ac2b8daa7cc50e8b23b8f8475aa883faefcd"
   }
  }
 },
 "nbformat": 4,
 "nbformat_minor": 5
}
