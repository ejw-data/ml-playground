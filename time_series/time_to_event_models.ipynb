{
 "cells": [
  {
   "cell_type": "code",
   "execution_count": null,
   "metadata": {},
   "outputs": [],
   "source": [
    "# Dependencies\n",
    "import pandas as pd\n",
    "import numpy as np\n",
    "from lifelines import KaplanMeierFitter, CoxPHFitter, WeibullAFTFitter, \\\n",
    "    AalenAdditiveFitter, ExponentialFitter, GompertzFitter, PiecewiseExponentialFitter, \\\n",
    "    LogNormalAFTFitter, LogLogisticAFTFitter, NelsonAalenFitter, GeneralizedGammaFitter, \\\n",
    "    RandomSurvivalForest, CoxTimeVaryingFitter\n",
    "from lifelines.datasets import load_rossi, load_waltons, load_lcd"
   ]
  },
  {
   "cell_type": "code",
   "execution_count": null,
   "metadata": {},
   "outputs": [],
   "source": [
    "# Sample dataset: Clinical trial data (PatientID, Time to event, Event occurred, Age, Treatment)\n",
    "data = {\n",
    "    'PatientID': [1, 2, 3, 4, 5, 6, 7, 8, 9, 10],\n",
    "    'Time': [5, 12, 9, 7, 3, 15, 8, 6, 11, 2],\n",
    "    'Event': [1, 1, 0, 1, 1, 0, 1, 1, 0, 1],  # 1: Event occurred, 0: Censored (Event not occurred)\n",
    "    'Age': [45, 32, 55, 67, 28, 60, 50, 38, 42, 53],\n",
    "    'Treatment': [0, 1, 1, 0, 0, 1, 1, 0, 1, 0],  # 0: Control group, 1: Treatment group\n",
    "}\n",
    "\n",
    "df = pd.DataFrame(data)"
   ]
  },
  {
   "cell_type": "code",
   "execution_count": null,
   "metadata": {},
   "outputs": [],
   "source": [
    "# Kaplan-Meier estimator\n",
    "kmf = KaplanMeierFitter()\n",
    "kmf.fit(df['Time'], event_observed=df['Event'])\n",
    "\n",
    "# Cox Proportional Hazards Model\n",
    "cph = CoxPHFitter()\n",
    "cph.fit(df, duration_col='Time', event_col='Event', show_progress=True)\n",
    "\n",
    "# Accelerated Failure Time (AFT) Model - Weibull\n",
    "aft_weibull = WeibullAFTFitter()\n",
    "aft_weibull.fit(df, duration_col='Time', event_col='Event')\n",
    "\n",
    "# Piecewise Exponential Model\n",
    "pw_exp = PiecewiseExponentialFitter(breakpoints=[6, 12])\n",
    "pw_exp.fit(df, duration_col='Time', event_col='Event')\n",
    "\n",
    "# Exponential Model\n",
    "exp = ExponentialFitter()\n",
    "exp.fit(df['Time'], event_observed=df['Event'])\n",
    "\n",
    "# Gompertz Model\n",
    "gompertz = GompertzFitter()\n",
    "gompertz.fit(df['Time'], event_observed=df['Event'])\n",
    "\n",
    "# Log-Normal AFT Model\n",
    "aft_lognormal = LogNormalAFTFitter()\n",
    "aft_lognormal.fit(df, duration_col='Time', event_col='Event')\n",
    "\n",
    "# Log-Logistic AFT Model\n",
    "aft_loglogistic = LogLogisticAFTFitter()\n",
    "aft_loglogistic.fit(df, duration_col='Time', event_col='Event')\n",
    "\n",
    "# Aalen Additive Hazard Model\n",
    "aalen = AalenAdditiveFitter(coef_penalizer=0.1)\n",
    "aalen.fit(df, duration_col='Time', event_col='Event')\n",
    "\n",
    "# Nelson-Aalen estimator\n",
    "na = NelsonAalenFitter()\n",
    "na.fit(df['Time'], event_observed=df['Event'])\n",
    "\n",
    "# Generalized Gamma Model\n",
    "gg = GeneralizedGammaFitter()\n",
    "gg.fit(df['Time'], event_observed=df['Event'])\n",
    "\n",
    "# Random Survival Forest\n",
    "rsf = RandomSurvivalForest()\n",
    "rsf.fit(df, duration_col='Time', event_col='Event')\n",
    "\n",
    "# Time-varying Cox Model\n",
    "tvc = CoxTimeVaryingFitter()\n",
    "df_tvc = df[['PatientID', 'Time', 'Event']].copy()\n",
    "df_tvc['treatment'] = df['Treatment']\n",
    "tvc.fit(df_tvc, id_col='PatientID', event_col='Event', start_col='Time', stop_col='Time', show_progress=True)"
   ]
  },
  {
   "cell_type": "code",
   "execution_count": null,
   "metadata": {},
   "outputs": [],
   "source": [
    "# Print results or plot survival curves as needed for each model\n",
    "\n",
    "# add models to list \n",
    "# iterate over to do the predictions and plot outcomes"
   ]
  }
 ],
 "metadata": {
  "language_info": {
   "name": "python"
  },
  "orig_nbformat": 4
 },
 "nbformat": 4,
 "nbformat_minor": 2
}
