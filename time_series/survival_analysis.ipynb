{
 "cells": [
  {
   "cell_type": "markdown",
   "metadata": {},
   "source": [
    "### Survival Analysis"
   ]
  },
  {
   "cell_type": "markdown",
   "metadata": {},
   "source": [
    "Some popular models for survival analysis include the Kaplan Meier model, the Exponential model, the Weibull model, and the Cox Proportional-Hazards model."
   ]
  },
  {
   "cell_type": "code",
   "execution_count": null,
   "metadata": {},
   "outputs": [],
   "source": [
    "# pip install lifelines"
   ]
  },
  {
   "cell_type": "code",
   "execution_count": 1,
   "metadata": {},
   "outputs": [],
   "source": [
    "# Dependencies\n",
    "import pandas as pd\n",
    "from lifelines import KaplanMeierFitter\n",
    "from lifelines import CoxPHFitter"
   ]
  },
  {
   "cell_type": "code",
   "execution_count": 2,
   "metadata": {},
   "outputs": [
    {
     "data": {
      "text/html": [
       "<div>\n",
       "<style scoped>\n",
       "    .dataframe tbody tr th:only-of-type {\n",
       "        vertical-align: middle;\n",
       "    }\n",
       "\n",
       "    .dataframe tbody tr th {\n",
       "        vertical-align: top;\n",
       "    }\n",
       "\n",
       "    .dataframe thead th {\n",
       "        text-align: right;\n",
       "    }\n",
       "</style>\n",
       "<table border=\"1\" class=\"dataframe\">\n",
       "  <thead>\n",
       "    <tr style=\"text-align: right;\">\n",
       "      <th></th>\n",
       "      <th>PatientID</th>\n",
       "      <th>Time</th>\n",
       "      <th>Event</th>\n",
       "    </tr>\n",
       "  </thead>\n",
       "  <tbody>\n",
       "    <tr>\n",
       "      <th>0</th>\n",
       "      <td>1</td>\n",
       "      <td>5</td>\n",
       "      <td>1</td>\n",
       "    </tr>\n",
       "    <tr>\n",
       "      <th>1</th>\n",
       "      <td>2</td>\n",
       "      <td>12</td>\n",
       "      <td>1</td>\n",
       "    </tr>\n",
       "    <tr>\n",
       "      <th>2</th>\n",
       "      <td>3</td>\n",
       "      <td>9</td>\n",
       "      <td>0</td>\n",
       "    </tr>\n",
       "    <tr>\n",
       "      <th>3</th>\n",
       "      <td>4</td>\n",
       "      <td>7</td>\n",
       "      <td>1</td>\n",
       "    </tr>\n",
       "    <tr>\n",
       "      <th>4</th>\n",
       "      <td>5</td>\n",
       "      <td>3</td>\n",
       "      <td>1</td>\n",
       "    </tr>\n",
       "  </tbody>\n",
       "</table>\n",
       "</div>"
      ],
      "text/plain": [
       "   PatientID  Time  Event\n",
       "0          1     5      1\n",
       "1          2    12      1\n",
       "2          3     9      0\n",
       "3          4     7      1\n",
       "4          5     3      1"
      ]
     },
     "execution_count": 2,
     "metadata": {},
     "output_type": "execute_result"
    }
   ],
   "source": [
    "# Sample dataset: Clinical trial data (PatientID, Time to event, Event occurred)\n",
    "data = {\n",
    "    'PatientID': [1, 2, 3, 4, 5, 6, 7, 8, 9, 10],\n",
    "    'Time': [5, 12, 9, 7, 3, 15, 8, 6, 11, 2],\n",
    "    'Event': [1, 1, 0, 1, 1, 0, 1, 1, 0, 1],  # 1: Event occurred, 0: Censored (Event not occurred)\n",
    "}\n",
    "\n",
    "df = pd.DataFrame(data)\n",
    "\n",
    "df.head()"
   ]
  },
  {
   "cell_type": "code",
   "execution_count": 3,
   "metadata": {},
   "outputs": [],
   "source": [
    "# Kaplan-Meier estimator\n",
    "kmf = KaplanMeierFitter()\n",
    "kmf.fit(df['Time'], event_observed=df['Event'])\n",
    "\n",
    "# Survival probabilities at specific time points\n",
    "time_points = [2, 5, 8, 10]\n",
    "survival_probs = kmf.predict(time_points)"
   ]
  },
  {
   "cell_type": "code",
   "execution_count": 4,
   "metadata": {},
   "outputs": [
    {
     "name": "stdout",
     "output_type": "stream",
     "text": [
      "Survival probabilities:\n",
      "Time 2 months: 0.90\n",
      "Time 5 months: 0.70\n",
      "Time 8 months: 0.40\n",
      "Time 10 months: 0.40\n"
     ]
    },
    {
     "data": {
      "image/png": "[encoded data removed]",
      "text/plain": [
       "<Figure size 800x600 with 1 Axes>"
      ]
     },
     "metadata": {},
     "output_type": "display_data"
    },
    {
     "name": "stdout",
     "output_type": "stream",
     "text": [
      "\n",
      "Cox Proportional Hazards Model - Hazard Ratios:\n",
      "               coef  exp(coef)  se(coef)  coef lower 95%  coef upper 95%  \\\n",
      "covariate                                                                  \n",
      "PatientID  0.030412   1.030879  0.149602       -0.262803        0.323626   \n",
      "\n",
      "           exp(coef) lower 95%  exp(coef) upper 95%  cmp to         z  \\\n",
      "covariate                                                               \n",
      "PatientID             0.768893              1.38213     0.0  0.203283   \n",
      "\n",
      "                  p  -log2(p)  \n",
      "covariate                      \n",
      "PatientID  0.838914  0.253405  \n"
     ]
    }
   ],
   "source": [
    "print(\"Survival probabilities:\")\n",
    "for t, prob in zip(time_points, survival_probs):\n",
    "    print(f\"Time {t} months: {prob:.2f}\")\n",
    "\n",
    "# Plot the Kaplan-Meier survival curve\n",
    "import matplotlib.pyplot as plt\n",
    "\n",
    "plt.figure(figsize=(8, 6))\n",
    "kmf.plot()\n",
    "plt.title(\"Kaplan-Meier Survival Curve\")\n",
    "plt.xlabel(\"Time (months)\")\n",
    "plt.ylabel(\"Survival Probability\")\n",
    "plt.show()\n",
    "\n",
    "# Cox Proportional Hazards Model\n",
    "cph = CoxPHFitter()\n",
    "cph.fit(df, duration_col='Time', event_col='Event')\n",
    "\n",
    "# Print the hazard ratios and confidence intervals for each variable\n",
    "print(\"\\nCox Proportional Hazards Model - Hazard Ratios:\")\n",
    "print(cph.summary)\n"
   ]
  },
  {
   "cell_type": "markdown",
   "metadata": {},
   "source": [
    "### Example 2"
   ]
  },
  {
   "cell_type": "code",
   "execution_count": 1,
   "metadata": {},
   "outputs": [],
   "source": [
    "# Dependencies\n",
    "import pandas as pd\n",
    "from lifelines import CoxPHFitter"
   ]
  },
  {
   "cell_type": "code",
   "execution_count": 2,
   "metadata": {},
   "outputs": [],
   "source": [
    "# Sample dataset: Clinical trial data (PatientID, Time to event, Event occurred, Age, Treatment)\n",
    "data = {\n",
    "    'PatientID': [1, 2, 3, 4, 5, 6, 7, 8, 9, 10],\n",
    "    'Time': [5, 12, 9, 7, 3, 15, 8, 6, 11, 2],\n",
    "    'Event': [1, 1, 0, 1, 1, 0, 1, 1, 0, 1],  # 1: Event occurred, 0: Censored (Event not occurred)\n",
    "    'Age': [45, 32, 55, 67, 28, 60, 50, 38, 42, 53],\n",
    "    'Treatment': [0, 1, 1, 0, 0, 1, 1, 0, 1, 0],  # 0: Control group, 1: Treatment group\n",
    "}\n",
    "\n",
    "df = pd.DataFrame(data)"
   ]
  },
  {
   "cell_type": "code",
   "execution_count": 3,
   "metadata": {},
   "outputs": [
    {
     "name": "stdout",
     "output_type": "stream",
     "text": [
      "Iteration 1: norm_delta = 1.73606, step_size = 0.9500, log_lik = -12.61951, newton_decrement = 5.54566, seconds_since_start = 0.0\n",
      "Iteration 2: norm_delta = 0.73441, step_size = 0.9500, log_lik = -6.93596, newton_decrement = 0.46471, seconds_since_start = 0.0\n",
      "Iteration 3: norm_delta = 0.61547, step_size = 0.9500, log_lik = -6.38089, newton_decrement = 0.13569, seconds_since_start = 0.0\n",
      "Iteration 4: norm_delta = 0.55434, step_size = 1.0000, log_lik = -6.21195, newton_decrement = 0.04338, seconds_since_start = 0.0\n",
      "Iteration 5: norm_delta = 0.53572, step_size = 1.0000, log_lik = -6.15737, newton_decrement = 0.01525, seconds_since_start = 0.0\n",
      "Iteration 6: norm_delta = 0.53011, step_size = 1.0000, log_lik = -6.13812, newton_decrement = 0.00552, seconds_since_start = 0.0\n",
      "Iteration 7: norm_delta = 0.52816, step_size = 1.0000, log_lik = -6.13114, newton_decrement = 0.00202, seconds_since_start = 0.0\n",
      "Iteration 8: norm_delta = 0.52745, step_size = 1.0000, log_lik = -6.12859, newton_decrement = 0.00074, seconds_since_start = 0.0\n",
      "Iteration 9: norm_delta = 0.52720, step_size = 1.0000, log_lik = -6.12765, newton_decrement = 0.00027, seconds_since_start = 0.0\n",
      "Iteration 10: norm_delta = 0.52710, step_size = 1.0000, log_lik = -6.12730, newton_decrement = 0.00010, seconds_since_start = 0.0\n",
      "Iteration 11: norm_delta = 0.52707, step_size = 1.0000, log_lik = -6.12718, newton_decrement = 0.00004, seconds_since_start = 0.1\n",
      "Iteration 12: norm_delta = 0.52705, step_size = 1.0000, log_lik = -6.12713, newton_decrement = 0.00001, seconds_since_start = 0.1\n",
      "Iteration 13: norm_delta = 0.52705, step_size = 1.0000, log_lik = -6.12711, newton_decrement = 0.00000, seconds_since_start = 0.1\n",
      "Iteration 14: norm_delta = 0.52705, step_size = 1.0000, log_lik = -6.12711, newton_decrement = 0.00000, seconds_since_start = 0.1\n",
      "Iteration 15: norm_delta = 0.52705, step_size = 1.0000, log_lik = -6.12710, newton_decrement = 0.00000, seconds_since_start = 0.1\n",
      "Iteration 16: norm_delta = 0.52705, step_size = 1.0000, log_lik = -6.12710, newton_decrement = 0.00000, seconds_since_start = 0.1\n",
      "Iteration 17: norm_delta = 0.52705, step_size = 1.0000, log_lik = -6.12710, newton_decrement = 0.00000, seconds_since_start = 0.1\n",
      "Convergence success after 17 iterations.\n"
     ]
    },
    {
     "name": "stderr",
     "output_type": "stream",
     "text": [
      "c:\\Users\\ejwda\\Anaconda3\\envs\\python310\\lib\\site-packages\\lifelines\\utils\\__init__.py:1122: ConvergenceWarning: Column Treatment have very low variance when conditioned on death event present or not. This may harm convergence. This could be a form of 'complete separation'. For example, try the following code:\n",
      "\n",
      ">>> events = df['Event'].astype(bool)\n",
      ">>> print(df.loc[events, 'Treatment'].var())\n",
      ">>> print(df.loc[~events, 'Treatment'].var())\n",
      "\n",
      "A very low variance means that the column Treatment completely determines whether a subject dies or not. See https://stats.stackexchange.com/questions/11109/how-to-deal-with-perfect-separation-in-logistic-regression.\n",
      "\n",
      "  warnings.warn(dedent(warning_text), ConvergenceWarning)\n",
      "c:\\Users\\ejwda\\Anaconda3\\envs\\python310\\lib\\site-packages\\lifelines\\utils\\__init__.py:1165: ConvergenceWarning: Column Treatment has high sample correlation with the duration column. This may harm convergence. This could be a form of 'complete separation'.     See https://stats.stackexchange.com/questions/11109/how-to-deal-with-perfect-separation-in-logistic-regression\n",
      "\n",
      "  warnings.warn(dedent(warning_text), ConvergenceWarning)\n",
      "c:\\Users\\ejwda\\Anaconda3\\envs\\python310\\lib\\site-packages\\lifelines\\fitters\\coxph_fitter.py:1604: ConvergenceWarning: Newton-Rhaphson convergence completed successfully but norm(delta) is still high, 0.527. This may imply non-unique solutions to the maximum likelihood. Perhaps there is collinearity or complete separation in the dataset?\n",
      "\n",
      "  warnings.warn(\n"
     ]
    },
    {
     "data": {
      "text/plain": [
       "<lifelines.CoxPHFitter: fitted with 10 total observations, 3 right-censored observations>"
      ]
     },
     "execution_count": 3,
     "metadata": {},
     "output_type": "execute_result"
    }
   ],
   "source": [
    "# Cox Proportional Hazards Model\n",
    "cph = CoxPHFitter()\n",
    "cph.fit(df, duration_col='Time', event_col='Event', show_progress=True)"
   ]
  },
  {
   "cell_type": "code",
   "execution_count": 4,
   "metadata": {},
   "outputs": [
    {
     "name": "stdout",
     "output_type": "stream",
     "text": [
      "\n",
      "Cox Proportional Hazards Model - Hazard Ratios:\n",
      "                coef     exp(coef)     se(coef)  coef lower 95%  \\\n",
      "covariate                                                         \n",
      "PatientID   0.067779  1.070129e+00     0.165595       -0.256781   \n",
      "Age        -0.045374  9.556399e-01     0.038177       -0.120199   \n",
      "Treatment -18.537922  8.893710e-09  2338.445925    -4601.807714   \n",
      "\n",
      "           coef upper 95%  exp(coef) lower 95%  exp(coef) upper 95%  cmp to  \\\n",
      "covariate                                                                     \n",
      "PatientID        0.392340             0.773538             1.480441     0.0   \n",
      "Age              0.029451             0.886744             1.029889     0.0   \n",
      "Treatment     4564.731871             0.000000                  inf     0.0   \n",
      "\n",
      "                  z         p  -log2(p)  \n",
      "covariate                                \n",
      "PatientID  0.409308  0.682313  0.551494  \n",
      "Age       -1.188525  0.234626  2.091562  \n",
      "Treatment -0.007927  0.993675  0.009154  \n"
     ]
    }
   ],
   "source": [
    "# Print the hazard ratios and confidence intervals for each variable\n",
    "print(\"\\nCox Proportional Hazards Model - Hazard Ratios:\")\n",
    "print(cph.summary)\n"
   ]
  }
 ],
 "metadata": {
  "kernelspec": {
   "display_name": "python310",
   "language": "python",
   "name": "python3"
  },
  "language_info": {
   "codemirror_mode": {
    "name": "ipython",
    "version": 3
   },
   "file_extension": ".py",
   "mimetype": "text/x-python",
   "name": "python",
   "nbconvert_exporter": "python",
   "pygments_lexer": "ipython3",
   "version": "3.10.11"
  },
  "orig_nbformat": 4
 },
 "nbformat": 4,
 "nbformat_minor": 2
}
